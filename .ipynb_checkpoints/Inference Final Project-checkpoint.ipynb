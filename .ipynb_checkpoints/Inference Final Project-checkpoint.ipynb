{
 "cells": [
  {
   "cell_type": "markdown",
   "id": "5fcc6107",
   "metadata": {},
   "source": [
    "# Scope"
   ]
  },
  {
   "cell_type": "markdown",
   "id": "6f2c75c6",
   "metadata": {},
   "source": [
    "Use regression discontinuity design (RDD) to determine if there is a significant change in my average running pace since March 20, 2022. The data will be imported from my Garmin account, which I use to track my runs. The results may help me determine the reason for my chronic fatigue since that time."
   ]
  },
  {
   "cell_type": "code",
   "execution_count": null,
   "id": "9bbbf69d",
   "metadata": {},
   "outputs": [],
   "source": [
    "# Import data\n",
    "\n",
    "activity_data <- read.csv('Activities.csv')"
   ]
  }
 ],
 "metadata": {
  "kernelspec": {
   "display_name": "R",
   "language": "R",
   "name": "ir"
  }
 },
 "nbformat": 4,
 "nbformat_minor": 5
}

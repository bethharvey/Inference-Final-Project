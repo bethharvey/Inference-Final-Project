{
 "cells": [
  {
   "cell_type": "markdown",
   "id": "5fcc6107",
   "metadata": {},
   "source": [
    "# Scope"
   ]
  },
  {
   "cell_type": "markdown",
   "id": "6f2c75c6",
   "metadata": {},
   "source": [
    "Goal 1: Use a two-sample t-test, ANOVA and Tukey Range Test to determine if there is a significant change in my average running pace since March 20, 2022. The data will be imported from my Garmin account, which I use to track my runs. The results will help me determine if I've actually gotten slower or if it just feels like it.\n",
    "\n",
    "Goal 2: Create a model to predict mile pace based on weather conditions and other run features."
   ]
  },
  {
   "cell_type": "code",
   "execution_count": 1,
   "id": "60d79336",
   "metadata": {},
   "outputs": [],
   "source": [
    "# Import libraries\n",
    "\n",
    "# General\n",
    "import pandas as pd\n",
    "import matplotlib.pyplot as plt\n",
    "import seaborn as sns\n",
    "import numpy as np\n",
    "import pandas.plotting as pplt\n",
    "import statsmodels.api as sm\n",
    "\n",
    "# Statistics\n",
    "from statistics import stdev\n",
    "from scipy.stats import ttest_ind\n",
    "from scipy.stats import f_oneway\n",
    "from statsmodels.stats.multicomp import pairwise_tukeyhsd\n",
    "from sklearn.model_selection import train_test_split\n",
    "\n",
    "# Predictive modeling\n",
    "from sklearn.linear_model import LinearRegression\n",
    "from sklearn.preprocessing import StandardScaler\n",
    "from sklearn.metrics import mean_absolute_error\n",
    "from sklearn.metrics import mean_squared_error\n",
    "from sklearn.metrics import r2_score\n",
    "from sklearn.preprocessing import PolynomialFeatures\n",
    "from sklearn.pipeline import Pipeline\n",
    "from sklearn.svm import SVR\n",
    "from sklearn.tree import DecisionTreeRegressor\n",
    "from sklearn.neural_network import MLPRegressor\n",
    "from sklearn.model_selection import GridSearchCV\n",
    "from sklearn.inspection import permutation_importance"
   ]
  },
  {
   "cell_type": "code",
   "execution_count": 2,
   "id": "0ef99be1",
   "metadata": {},
   "outputs": [],
   "source": [
    "# Import data\n",
    "activities_all = pd.read_csv('Activities.csv')"
   ]
  },
  {
   "cell_type": "markdown",
   "id": "735f8bcf",
   "metadata": {},
   "source": [
    "## Data Inspection and Cleaning"
   ]
  },
  {
   "cell_type": "code",
   "execution_count": 3,
   "id": "7c06eacd",
   "metadata": {},
   "outputs": [
    {
     "data": {
      "text/html": [
       "<div>\n",
       "<style scoped>\n",
       "    .dataframe tbody tr th:only-of-type {\n",
       "        vertical-align: middle;\n",
       "    }\n",
       "\n",
       "    .dataframe tbody tr th {\n",
       "        vertical-align: top;\n",
       "    }\n",
       "\n",
       "    .dataframe thead th {\n",
       "        text-align: right;\n",
       "    }\n",
       "</style>\n",
       "<table border=\"1\" class=\"dataframe\">\n",
       "  <thead>\n",
       "    <tr style=\"text-align: right;\">\n",
       "      <th></th>\n",
       "      <th>Activity Type</th>\n",
       "      <th>Date</th>\n",
       "      <th>Favorite</th>\n",
       "      <th>Title</th>\n",
       "      <th>Distance</th>\n",
       "      <th>Calories</th>\n",
       "      <th>Time</th>\n",
       "      <th>Avg HR</th>\n",
       "      <th>Max HR</th>\n",
       "      <th>Avg Run Cadence</th>\n",
       "      <th>Max Run Cadence</th>\n",
       "      <th>Avg Pace</th>\n",
       "      <th>Best Pace</th>\n",
       "      <th>Total Ascent</th>\n",
       "      <th>Total Descent</th>\n",
       "      <th>Avg Stride Length</th>\n",
       "      <th>Avg Vertical Ratio</th>\n",
       "      <th>Avg Vertical Oscillation</th>\n",
       "      <th>Avg Ground Contact Time</th>\n",
       "      <th>Avg Run Cadence.1</th>\n",
       "      <th>Max Run Cadence.1</th>\n",
       "      <th>Training Stress Score®</th>\n",
       "      <th>Avg Power</th>\n",
       "      <th>Max Power</th>\n",
       "      <th>Grit</th>\n",
       "      <th>Flow</th>\n",
       "      <th>Avg. Swolf</th>\n",
       "      <th>Avg Stroke Rate</th>\n",
       "      <th>Total Reps</th>\n",
       "      <th>Dive Time</th>\n",
       "      <th>Min Temp</th>\n",
       "      <th>Surface Interval</th>\n",
       "      <th>Decompression</th>\n",
       "      <th>Best Lap Time</th>\n",
       "      <th>Number of Laps</th>\n",
       "      <th>Max Temp</th>\n",
       "      <th>Moving Time</th>\n",
       "      <th>Elapsed Time</th>\n",
       "      <th>Min Elevation</th>\n",
       "      <th>Max Elevation</th>\n",
       "    </tr>\n",
       "  </thead>\n",
       "  <tbody>\n",
       "    <tr>\n",
       "      <th>0</th>\n",
       "      <td>Running</td>\n",
       "      <td>2022-09-21 17:52:41</td>\n",
       "      <td>False</td>\n",
       "      <td>Lenexa Running</td>\n",
       "      <td>3.00</td>\n",
       "      <td>274</td>\n",
       "      <td>00:26:48</td>\n",
       "      <td>161</td>\n",
       "      <td>173</td>\n",
       "      <td>167</td>\n",
       "      <td>172</td>\n",
       "      <td>8:55</td>\n",
       "      <td>8:24</td>\n",
       "      <td>81</td>\n",
       "      <td>102</td>\n",
       "      <td>1.08</td>\n",
       "      <td>0.0</td>\n",
       "      <td>0.0</td>\n",
       "      <td>0</td>\n",
       "      <td>0</td>\n",
       "      <td>0</td>\n",
       "      <td>0.0</td>\n",
       "      <td>0</td>\n",
       "      <td>0</td>\n",
       "      <td>0.0</td>\n",
       "      <td>0.0</td>\n",
       "      <td>0</td>\n",
       "      <td>0</td>\n",
       "      <td>0</td>\n",
       "      <td>0:00</td>\n",
       "      <td>0.0</td>\n",
       "      <td>0:00</td>\n",
       "      <td>No</td>\n",
       "      <td>00:02.01.6</td>\n",
       "      <td>4</td>\n",
       "      <td>0.0</td>\n",
       "      <td>00:26:44</td>\n",
       "      <td>00:27:26</td>\n",
       "      <td>951</td>\n",
       "      <td>996</td>\n",
       "    </tr>\n",
       "    <tr>\n",
       "      <th>1</th>\n",
       "      <td>Running</td>\n",
       "      <td>2022-09-12 16:50:18</td>\n",
       "      <td>False</td>\n",
       "      <td>Lenexa Running</td>\n",
       "      <td>3.01</td>\n",
       "      <td>281</td>\n",
       "      <td>00:26:21</td>\n",
       "      <td>166</td>\n",
       "      <td>179</td>\n",
       "      <td>168</td>\n",
       "      <td>174</td>\n",
       "      <td>8:46</td>\n",
       "      <td>8:16</td>\n",
       "      <td>60</td>\n",
       "      <td>65</td>\n",
       "      <td>1.09</td>\n",
       "      <td>0.0</td>\n",
       "      <td>0.0</td>\n",
       "      <td>0</td>\n",
       "      <td>0</td>\n",
       "      <td>0</td>\n",
       "      <td>0.0</td>\n",
       "      <td>0</td>\n",
       "      <td>0</td>\n",
       "      <td>0.0</td>\n",
       "      <td>0.0</td>\n",
       "      <td>0</td>\n",
       "      <td>0</td>\n",
       "      <td>0</td>\n",
       "      <td>0:00</td>\n",
       "      <td>0.0</td>\n",
       "      <td>0:00</td>\n",
       "      <td>No</td>\n",
       "      <td>00:02.34.9</td>\n",
       "      <td>4</td>\n",
       "      <td>0.0</td>\n",
       "      <td>00:26:19</td>\n",
       "      <td>00:26:25</td>\n",
       "      <td>952</td>\n",
       "      <td>996</td>\n",
       "    </tr>\n",
       "    <tr>\n",
       "      <th>2</th>\n",
       "      <td>Running</td>\n",
       "      <td>2022-09-09 16:13:22</td>\n",
       "      <td>False</td>\n",
       "      <td>Lenexa Running</td>\n",
       "      <td>4.00</td>\n",
       "      <td>417</td>\n",
       "      <td>00:39:06</td>\n",
       "      <td>166</td>\n",
       "      <td>181</td>\n",
       "      <td>156</td>\n",
       "      <td>179</td>\n",
       "      <td>9:46</td>\n",
       "      <td>8:17</td>\n",
       "      <td>149</td>\n",
       "      <td>144</td>\n",
       "      <td>1.06</td>\n",
       "      <td>0.0</td>\n",
       "      <td>0.0</td>\n",
       "      <td>0</td>\n",
       "      <td>0</td>\n",
       "      <td>0</td>\n",
       "      <td>0.0</td>\n",
       "      <td>0</td>\n",
       "      <td>0</td>\n",
       "      <td>0.0</td>\n",
       "      <td>0.0</td>\n",
       "      <td>0</td>\n",
       "      <td>0</td>\n",
       "      <td>0</td>\n",
       "      <td>0:00</td>\n",
       "      <td>0.0</td>\n",
       "      <td>0:00</td>\n",
       "      <td>No</td>\n",
       "      <td>00:00.58.8</td>\n",
       "      <td>5</td>\n",
       "      <td>0.0</td>\n",
       "      <td>00:39:06</td>\n",
       "      <td>00:39:06</td>\n",
       "      <td>952</td>\n",
       "      <td>1,027</td>\n",
       "    </tr>\n",
       "    <tr>\n",
       "      <th>3</th>\n",
       "      <td>Running</td>\n",
       "      <td>2022-09-06 17:03:55</td>\n",
       "      <td>False</td>\n",
       "      <td>Lenexa Running</td>\n",
       "      <td>3.00</td>\n",
       "      <td>280</td>\n",
       "      <td>00:26:40</td>\n",
       "      <td>163</td>\n",
       "      <td>177</td>\n",
       "      <td>166</td>\n",
       "      <td>172</td>\n",
       "      <td>8:53</td>\n",
       "      <td>8:13</td>\n",
       "      <td>50</td>\n",
       "      <td>61</td>\n",
       "      <td>1.09</td>\n",
       "      <td>0.0</td>\n",
       "      <td>0.0</td>\n",
       "      <td>0</td>\n",
       "      <td>0</td>\n",
       "      <td>0</td>\n",
       "      <td>0.0</td>\n",
       "      <td>0</td>\n",
       "      <td>0</td>\n",
       "      <td>0.0</td>\n",
       "      <td>0.0</td>\n",
       "      <td>0</td>\n",
       "      <td>0</td>\n",
       "      <td>0</td>\n",
       "      <td>0:00</td>\n",
       "      <td>0.0</td>\n",
       "      <td>0:00</td>\n",
       "      <td>No</td>\n",
       "      <td>08:47.63.7</td>\n",
       "      <td>3</td>\n",
       "      <td>0.0</td>\n",
       "      <td>00:26:40</td>\n",
       "      <td>00:26:40</td>\n",
       "      <td>952</td>\n",
       "      <td>997</td>\n",
       "    </tr>\n",
       "    <tr>\n",
       "      <th>4</th>\n",
       "      <td>Running</td>\n",
       "      <td>2022-08-31 17:30:04</td>\n",
       "      <td>False</td>\n",
       "      <td>Lenexa Running</td>\n",
       "      <td>3.00</td>\n",
       "      <td>282</td>\n",
       "      <td>00:26:10</td>\n",
       "      <td>167</td>\n",
       "      <td>181</td>\n",
       "      <td>168</td>\n",
       "      <td>172</td>\n",
       "      <td>8:43</td>\n",
       "      <td>8:11</td>\n",
       "      <td>50</td>\n",
       "      <td>54</td>\n",
       "      <td>1.10</td>\n",
       "      <td>0.0</td>\n",
       "      <td>0.0</td>\n",
       "      <td>0</td>\n",
       "      <td>0</td>\n",
       "      <td>0</td>\n",
       "      <td>0.0</td>\n",
       "      <td>0</td>\n",
       "      <td>0</td>\n",
       "      <td>0.0</td>\n",
       "      <td>0.0</td>\n",
       "      <td>0</td>\n",
       "      <td>0</td>\n",
       "      <td>0</td>\n",
       "      <td>0:00</td>\n",
       "      <td>0.0</td>\n",
       "      <td>0:00</td>\n",
       "      <td>No</td>\n",
       "      <td>00:01.69.5</td>\n",
       "      <td>4</td>\n",
       "      <td>0.0</td>\n",
       "      <td>00:26:04</td>\n",
       "      <td>00:26:38</td>\n",
       "      <td>952</td>\n",
       "      <td>996</td>\n",
       "    </tr>\n",
       "  </tbody>\n",
       "</table>\n",
       "</div>"
      ],
      "text/plain": [
       "  Activity Type                 Date  Favorite           Title  Distance  \\\n",
       "0       Running  2022-09-21 17:52:41     False  Lenexa Running      3.00   \n",
       "1       Running  2022-09-12 16:50:18     False  Lenexa Running      3.01   \n",
       "2       Running  2022-09-09 16:13:22     False  Lenexa Running      4.00   \n",
       "3       Running  2022-09-06 17:03:55     False  Lenexa Running      3.00   \n",
       "4       Running  2022-08-31 17:30:04     False  Lenexa Running      3.00   \n",
       "\n",
       "  Calories      Time Avg HR Max HR  Avg Run Cadence  Max Run Cadence Avg Pace  \\\n",
       "0      274  00:26:48    161    173              167              172     8:55   \n",
       "1      281  00:26:21    166    179              168              174     8:46   \n",
       "2      417  00:39:06    166    181              156              179     9:46   \n",
       "3      280  00:26:40    163    177              166              172     8:53   \n",
       "4      282  00:26:10    167    181              168              172     8:43   \n",
       "\n",
       "  Best Pace Total Ascent Total Descent  Avg Stride Length  Avg Vertical Ratio  \\\n",
       "0      8:24           81           102               1.08                 0.0   \n",
       "1      8:16           60            65               1.09                 0.0   \n",
       "2      8:17          149           144               1.06                 0.0   \n",
       "3      8:13           50            61               1.09                 0.0   \n",
       "4      8:11           50            54               1.10                 0.0   \n",
       "\n",
       "   Avg Vertical Oscillation  Avg Ground Contact Time  Avg Run Cadence.1  \\\n",
       "0                       0.0                        0                  0   \n",
       "1                       0.0                        0                  0   \n",
       "2                       0.0                        0                  0   \n",
       "3                       0.0                        0                  0   \n",
       "4                       0.0                        0                  0   \n",
       "\n",
       "   Max Run Cadence.1  Training Stress Score®  Avg Power  Max Power  Grit  \\\n",
       "0                  0                     0.0          0          0   0.0   \n",
       "1                  0                     0.0          0          0   0.0   \n",
       "2                  0                     0.0          0          0   0.0   \n",
       "3                  0                     0.0          0          0   0.0   \n",
       "4                  0                     0.0          0          0   0.0   \n",
       "\n",
       "   Flow  Avg. Swolf  Avg Stroke Rate  Total Reps Dive Time  Min Temp  \\\n",
       "0   0.0           0                0           0      0:00       0.0   \n",
       "1   0.0           0                0           0      0:00       0.0   \n",
       "2   0.0           0                0           0      0:00       0.0   \n",
       "3   0.0           0                0           0      0:00       0.0   \n",
       "4   0.0           0                0           0      0:00       0.0   \n",
       "\n",
       "  Surface Interval Decompression Best Lap Time Number of Laps  Max Temp  \\\n",
       "0             0:00            No    00:02.01.6              4       0.0   \n",
       "1             0:00            No    00:02.34.9              4       0.0   \n",
       "2             0:00            No    00:00.58.8              5       0.0   \n",
       "3             0:00            No    08:47.63.7              3       0.0   \n",
       "4             0:00            No    00:01.69.5              4       0.0   \n",
       "\n",
       "  Moving Time Elapsed Time Min Elevation Max Elevation  \n",
       "0    00:26:44     00:27:26           951           996  \n",
       "1    00:26:19     00:26:25           952           996  \n",
       "2    00:39:06     00:39:06           952         1,027  \n",
       "3    00:26:40     00:26:40           952           997  \n",
       "4    00:26:04     00:26:38           952           996  "
      ]
     },
     "execution_count": 3,
     "metadata": {},
     "output_type": "execute_result"
    }
   ],
   "source": [
    "# Display all columns\n",
    "pd.set_option('display.max_columns', None)\n",
    "\n",
    "#View first 5 rows of data\n",
    "activities_all.head()"
   ]
  },
  {
   "cell_type": "code",
   "execution_count": 4,
   "id": "29a184c5",
   "metadata": {},
   "outputs": [
    {
     "data": {
      "text/plain": [
       "Index(['Activity Type', 'Date', 'Favorite', 'Title', 'Distance', 'Calories',\n",
       "       'Time', 'Avg HR', 'Max HR', 'Avg Run Cadence', 'Max Run Cadence',\n",
       "       'Avg Pace', 'Best Pace', 'Total Ascent', 'Total Descent',\n",
       "       'Avg Stride Length', 'Avg Vertical Ratio', 'Avg Vertical Oscillation',\n",
       "       'Avg Ground Contact Time', 'Avg Run Cadence.1', 'Max Run Cadence.1',\n",
       "       'Training Stress Score®', 'Avg Power', 'Max Power', 'Grit', 'Flow',\n",
       "       'Avg. Swolf', 'Avg Stroke Rate', 'Total Reps', 'Dive Time', 'Min Temp',\n",
       "       'Surface Interval', 'Decompression', 'Best Lap Time', 'Number of Laps',\n",
       "       'Max Temp', 'Moving Time', 'Elapsed Time', 'Min Elevation',\n",
       "       'Max Elevation'],\n",
       "      dtype='object')"
      ]
     },
     "execution_count": 4,
     "metadata": {},
     "output_type": "execute_result"
    }
   ],
   "source": [
    "activities_all.columns"
   ]
  },
  {
   "cell_type": "code",
   "execution_count": 5,
   "id": "5d8844eb",
   "metadata": {},
   "outputs": [],
   "source": [
    "# Drop unnecessary columns\n",
    "activities_all = activities_all[['Activity Type', 'Date', 'Title', 'Distance', 'Calories', 'Time', 'Avg HR', 'Max HR', 'Avg Run Cadence', 'Max Run Cadence', 'Avg Pace','Best Pace', 'Total Ascent', 'Total Descent', 'Avg Stride Length', 'Moving Time', 'Elapsed Time', 'Min Elevation', 'Max Elevation']]"
   ]
  },
  {
   "cell_type": "code",
   "execution_count": 6,
   "id": "1e9329c8",
   "metadata": {},
   "outputs": [],
   "source": [
    "# Rename columns\n",
    "activities_all.columns = ['activity_type', 'date', 'title', 'distance', 'calories', 'time', 'avg_hr', 'max_hr', 'avg_cadence', 'max_cadence', 'avg_pace', 'best_pace', 'total_ascent', 'total_descent', 'avg_stride', 'moving_time', 'elapsed_time', 'min_elevation', 'max_elevation']"
   ]
  },
  {
   "cell_type": "code",
   "execution_count": 7,
   "id": "55051a72",
   "metadata": {
    "scrolled": true
   },
   "outputs": [
    {
     "data": {
      "text/html": [
       "<div>\n",
       "<style scoped>\n",
       "    .dataframe tbody tr th:only-of-type {\n",
       "        vertical-align: middle;\n",
       "    }\n",
       "\n",
       "    .dataframe tbody tr th {\n",
       "        vertical-align: top;\n",
       "    }\n",
       "\n",
       "    .dataframe thead th {\n",
       "        text-align: right;\n",
       "    }\n",
       "</style>\n",
       "<table border=\"1\" class=\"dataframe\">\n",
       "  <thead>\n",
       "    <tr style=\"text-align: right;\">\n",
       "      <th></th>\n",
       "      <th>activity_type</th>\n",
       "      <th>date</th>\n",
       "      <th>title</th>\n",
       "      <th>distance</th>\n",
       "      <th>calories</th>\n",
       "      <th>time</th>\n",
       "      <th>avg_hr</th>\n",
       "      <th>max_hr</th>\n",
       "      <th>avg_cadence</th>\n",
       "      <th>max_cadence</th>\n",
       "      <th>avg_pace</th>\n",
       "      <th>best_pace</th>\n",
       "      <th>total_ascent</th>\n",
       "      <th>total_descent</th>\n",
       "      <th>avg_stride</th>\n",
       "      <th>moving_time</th>\n",
       "      <th>elapsed_time</th>\n",
       "      <th>min_elevation</th>\n",
       "      <th>max_elevation</th>\n",
       "    </tr>\n",
       "  </thead>\n",
       "  <tbody>\n",
       "    <tr>\n",
       "      <th>0</th>\n",
       "      <td>Running</td>\n",
       "      <td>2022-09-21 17:52:41</td>\n",
       "      <td>Lenexa Running</td>\n",
       "      <td>3.00</td>\n",
       "      <td>274</td>\n",
       "      <td>00:26:48</td>\n",
       "      <td>161</td>\n",
       "      <td>173</td>\n",
       "      <td>167</td>\n",
       "      <td>172</td>\n",
       "      <td>8:55</td>\n",
       "      <td>8:24</td>\n",
       "      <td>81</td>\n",
       "      <td>102</td>\n",
       "      <td>1.08</td>\n",
       "      <td>00:26:44</td>\n",
       "      <td>00:27:26</td>\n",
       "      <td>951</td>\n",
       "      <td>996</td>\n",
       "    </tr>\n",
       "    <tr>\n",
       "      <th>1</th>\n",
       "      <td>Running</td>\n",
       "      <td>2022-09-12 16:50:18</td>\n",
       "      <td>Lenexa Running</td>\n",
       "      <td>3.01</td>\n",
       "      <td>281</td>\n",
       "      <td>00:26:21</td>\n",
       "      <td>166</td>\n",
       "      <td>179</td>\n",
       "      <td>168</td>\n",
       "      <td>174</td>\n",
       "      <td>8:46</td>\n",
       "      <td>8:16</td>\n",
       "      <td>60</td>\n",
       "      <td>65</td>\n",
       "      <td>1.09</td>\n",
       "      <td>00:26:19</td>\n",
       "      <td>00:26:25</td>\n",
       "      <td>952</td>\n",
       "      <td>996</td>\n",
       "    </tr>\n",
       "    <tr>\n",
       "      <th>2</th>\n",
       "      <td>Running</td>\n",
       "      <td>2022-09-09 16:13:22</td>\n",
       "      <td>Lenexa Running</td>\n",
       "      <td>4.00</td>\n",
       "      <td>417</td>\n",
       "      <td>00:39:06</td>\n",
       "      <td>166</td>\n",
       "      <td>181</td>\n",
       "      <td>156</td>\n",
       "      <td>179</td>\n",
       "      <td>9:46</td>\n",
       "      <td>8:17</td>\n",
       "      <td>149</td>\n",
       "      <td>144</td>\n",
       "      <td>1.06</td>\n",
       "      <td>00:39:06</td>\n",
       "      <td>00:39:06</td>\n",
       "      <td>952</td>\n",
       "      <td>1,027</td>\n",
       "    </tr>\n",
       "    <tr>\n",
       "      <th>3</th>\n",
       "      <td>Running</td>\n",
       "      <td>2022-09-06 17:03:55</td>\n",
       "      <td>Lenexa Running</td>\n",
       "      <td>3.00</td>\n",
       "      <td>280</td>\n",
       "      <td>00:26:40</td>\n",
       "      <td>163</td>\n",
       "      <td>177</td>\n",
       "      <td>166</td>\n",
       "      <td>172</td>\n",
       "      <td>8:53</td>\n",
       "      <td>8:13</td>\n",
       "      <td>50</td>\n",
       "      <td>61</td>\n",
       "      <td>1.09</td>\n",
       "      <td>00:26:40</td>\n",
       "      <td>00:26:40</td>\n",
       "      <td>952</td>\n",
       "      <td>997</td>\n",
       "    </tr>\n",
       "    <tr>\n",
       "      <th>4</th>\n",
       "      <td>Running</td>\n",
       "      <td>2022-08-31 17:30:04</td>\n",
       "      <td>Lenexa Running</td>\n",
       "      <td>3.00</td>\n",
       "      <td>282</td>\n",
       "      <td>00:26:10</td>\n",
       "      <td>167</td>\n",
       "      <td>181</td>\n",
       "      <td>168</td>\n",
       "      <td>172</td>\n",
       "      <td>8:43</td>\n",
       "      <td>8:11</td>\n",
       "      <td>50</td>\n",
       "      <td>54</td>\n",
       "      <td>1.10</td>\n",
       "      <td>00:26:04</td>\n",
       "      <td>00:26:38</td>\n",
       "      <td>952</td>\n",
       "      <td>996</td>\n",
       "    </tr>\n",
       "  </tbody>\n",
       "</table>\n",
       "</div>"
      ],
      "text/plain": [
       "  activity_type                 date           title  distance calories  \\\n",
       "0       Running  2022-09-21 17:52:41  Lenexa Running      3.00      274   \n",
       "1       Running  2022-09-12 16:50:18  Lenexa Running      3.01      281   \n",
       "2       Running  2022-09-09 16:13:22  Lenexa Running      4.00      417   \n",
       "3       Running  2022-09-06 17:03:55  Lenexa Running      3.00      280   \n",
       "4       Running  2022-08-31 17:30:04  Lenexa Running      3.00      282   \n",
       "\n",
       "       time avg_hr max_hr  avg_cadence  max_cadence avg_pace best_pace  \\\n",
       "0  00:26:48    161    173          167          172     8:55      8:24   \n",
       "1  00:26:21    166    179          168          174     8:46      8:16   \n",
       "2  00:39:06    166    181          156          179     9:46      8:17   \n",
       "3  00:26:40    163    177          166          172     8:53      8:13   \n",
       "4  00:26:10    167    181          168          172     8:43      8:11   \n",
       "\n",
       "  total_ascent total_descent  avg_stride moving_time elapsed_time  \\\n",
       "0           81           102        1.08    00:26:44     00:27:26   \n",
       "1           60            65        1.09    00:26:19     00:26:25   \n",
       "2          149           144        1.06    00:39:06     00:39:06   \n",
       "3           50            61        1.09    00:26:40     00:26:40   \n",
       "4           50            54        1.10    00:26:04     00:26:38   \n",
       "\n",
       "  min_elevation max_elevation  \n",
       "0           951           996  \n",
       "1           952           996  \n",
       "2           952         1,027  \n",
       "3           952           997  \n",
       "4           952           996  "
      ]
     },
     "execution_count": 7,
     "metadata": {},
     "output_type": "execute_result"
    }
   ],
   "source": [
    "activities_all.head()"
   ]
  },
  {
   "cell_type": "code",
   "execution_count": 8,
   "id": "7b165209",
   "metadata": {},
   "outputs": [],
   "source": [
    "# Add weather data from Garmin Connect (no function to export with run data)\n",
    "activities_all['temp'] = [75, 82, 88, 82, 84, 72, 88, 82, 79, 81, 90, 90, 88, 84, 75, 93, 93, 88, 88, 91, 99, 95, 90, 82, 79, 82, 82, 64, 70, 79, 79, 88, 63, 73, 59, 79, 55, 66, 61, 55, 54, 73, 55, 43, 81, 63, 63, 50, 54, 64, 21, 52, 43, 52, 55, 63, 66, 54, 66, 64, 70, 46, 50, 66, 68, 72, 73, 66, 82, 73, 72, 79, 90, 77, 73, 73, 84, 82, 84, 88, 86, 84, 72, 93, 81, 82, 95, 90, 86, 84, 82, 77, 91, 86, 86, 73, 86, 79, 84, 93, 88, 72, 73, 72, 70, 63, 61, 63, 70, 54, 57, 61, 75, 61, 61, 48, 73, 70, 55, 70, 52, 68, 61, 57, 37, 50, 46, 48, 37, 45, 36, 64, 57, 37, 43, 54, 50, 39, 55, 63, 48, 72, 75, 66, 63, 46, 46, 79, 81, 63, 73, 66, 79, 79, 84, 93, 82, 84, 88, 84, 81, 73, 81, 93, 82, 81, 90, 91, 88, 84, 88, 90, 88, 68, 66, 48, 57, 63, 77, 64, 70, 54, 48, 77, 72, 68, 64, 48, 48, 66, 55, 57, 54, 43, 57, 41, 36, 43, 64, 30, 55, 45, 34, 25, 41, 36, 57, 64, 61, 39, 63, 55, 37, 55, 59, 57, 72, 64, 72, 68, 61, 84, 79, 75, 77, 82, 82, 66, 81, 82, 66, 81, 84, 72, 86, 84, 72, 79, 82, 88, 64, 84, 79, 81, 77, 82, 73, 88, 82, 90, 73, 70, 90, 90, 81, 91, 84, 79, 73, 79, 75, 81, 77, 79, 88, 84, 68, 82, 48, 63, 61, 63, 77, 73, 75, 64, 55, 54, 57, 52, 54, 43, 36, 43, 28, 37, 30, 32, 28, 37, 50, 50, 45, 28, 59, 45, 34, 45, 55, 70, 55, 61, 70, 61, 64, 61, 45, 48, 'NaN', 82, 88, 77, 72, 86, 79, 79, 81, 90, 75, 81, 82, 88, 77, 95, 75, 79, 88, 91, 88, 84, 81, 95, 99, 93, 93, 84, 93, 84, 72, 81, 84, 86, 90, 88, 81, 88, 91, 84, 'NaN', 'NaN', 'NaN', 'NaN', 'NaN', 84, 73, 81, 81, 84, 84, 61, 81, 81, 73, 75, 63, 66, 50, 61, 46, 43, 55, 45, 61, 54, 64, 52, 61, 54, 59, 61, 50, 46, 36, 48, 30, 39, 41, 45, 45, 70, 57, 66, 52, 50, 45, 52, 48, 48, 64, 68, 63, 77, 'NaN', 'NaN', 73, 75, 64, 72, 86, 79, 82, 79, 81, 81, 79, 77, 84, 84, 79, 77, 75, 86, 73, 77, 84, 88, 'NaN', 90, 86, 95, 91, 'NaN', 81, 81, 81, 90, 79, 90, 81, 86, 88, 81, 82, 82, 84, 75, 66, 82, 72, 72, 82, 64, 57, 54, 77, 72, 63, 64, 54, 'NaN', 'NaN', 'NaN', 'NaN', 59, 55, 63, 72, 50, 70, 43, 48, 45, 55, 39, 48, 46, 36, 27, 25, 43, 48, 52, 66, 55, 68, 73, 72, 75, 75, 68, 'NaN', 'NaN', 'NaN', 'NaN']\n",
    "activities_all['humidity'] = [69, 30, 36, 55, 40, 78, 43, 48, 65, 51, 46, 34, 43, 62, 74, 36, 28, 63, 43, 34, 40, 44, 59, 58, 48, 58, 58, 88, 60, 39, 61, 55, 68, 36, 39, 54, 28, 37, 36, 33, 32, 33, 62, 39, 16, 20, 59, 25, 26, 18, 32, 30, 49, 50, 38, 68, 56, 22, 68, 56, 46, 46, 76, 46, 43, 38, 41, 49, 48, 61, 65, 70, 30, 41, 29, 36, 52, 27, 55, 59, 59, 55, 55, 50, 37, 42, 47, 41, 40, 45, 66, 61, 53, 46, 38, 94, 55, 28, 55, 28, 55, 61, 73, 83, 49, 27, 45, 27, 60, 47, 36, 31, 47, 59, 55, 87, 41, 26, 33, 18, 28, 23, 29, 41, 65, 58, 46, 46, 56, 66, 51, 28, 24, 41, 75, 41, 32, 35, 35, 29, 32, 57, 31, 32, 42, 66, 53, 51, 37, 36, 27, 40, 48, 48, 62, 41, 42, 40, 55, 66, 79, 44, 74, 47, 62, 70, 43, 49, 55, 37, 43, 41, 63, 68, 83, 50, 36, 48, 47, 42, 46, 32, 27, 57, 38, 28, 83, 87, 71, 46, 16, 36, 41, 42, 67, 45, 55, 70, 37, 64, 33, 53, 69, 80, 48, 55, 41, 64, 39, 41, 52, 38, 93, 58, 31, 44, 38, 37, 43, 40, 72, 66, 54, 74, 47, 45, 37, 88, 62, 70, 100, 70, 43, 94, 59, 62, 83, 74, 55, 36, 88, 45, 45, 45, 83, 58, 89, 46, 55, 52, 89, 94, 52, 52, 79, 53, 52, 45, 78, 70, 65, 62, 65, 23, 36, 55, 68, 55, 93, 83, 72, 72, 54, 41, 39, 68, 38, 67, 41, 35, 44, 81, 69, 56, 74, 52, 69, 80, 100, 44, 34, 46, 66, 74, 41, 57, 47, 57, 51, 40, 67, 39, 46, 77, 45, 39, 57, 87, 'NaN', 66, 52, 79, 83, 49, 54, 54, 74, 59, 69, 39, 48, 52, 69, 39, 54, 65, 33, 28, 46, 62, 84, 39, 33, 44, 50, 55, 56, 48, 73, 70, 52, 59, 49, 43, 42, 46, 41, 52, 'NaN', 'NaN', 'NaN', 'NaN', 'NaN', 52, 61, 62, 70, 43, 29, 72, 62, 32, 25, 22, 25, 40, 40, 39, 66, 36, 38, 76, 55, 47, 18, 32, 31, 19, 23, 22, 34, 13, 35, 32, 43, 87, 56, 39, 24, 60, 36, 49, 50, 76, 57, 71, 37, 27, 42, 40, 55, 39, 'NaN', 'NaN', 78, 41, 83, 41, 59, 51, 48, 51, 51, 42, 61, 94, 66, 62, 65, 65, 44, 46, 78, 57, 55, 55, 'NaN', 52, 62, 53, 53, 'NaN', 66, 70, 66, 52, 37, 41, 54, 66, 52, 32, 35, 45, 52, 44, 46, 51, 38, 73, 42, 42, 55, 54, 57, 53, 42, 30, 82, 'NaN', 'NaN', 'NaN', 'NaN', 77, 30, 36, 31, 29, 28, 61, 43, 33, 58, 81, 66, 53, 51, 42, 58, 81, 50, 50, 46, 47, 46, 65, 61, 65, 47, 73, 'NaN', 'NaN', 'NaN', 'NaN']\n",
    "activities_all['wind'] = [21, 12, 7, 7, 5, 18, 5, 5, 12, 6, 12, 9, 5, 0, 8, 5, 6, 15, 7, 13, 15, 9, 18, 7, 15, 9, 20, 8, 16, 6, 10, 21, 6, 17, 13, 23, 18, 9, 13, 16, 20, 16, 8, 7, 12, 6, 7, 5, 17, 16, 12, 9, 9, 14, 14, 14, 20, 15, 10, 7, 3, 3, 0, 5, 12, 12, 7, 9, 10, 8, 8, 7, 9, 9, 9, 10, 10, 9, 9, 7, 9, 8, 0, 16, 7, 8, 5, 8, 5, 7, 7, 6, 14, 9, 6, 8, 15, 15, 6, 8, 6, 3, 12, 14, 10, 10, 5, 14, 13, 13, 13, 12, 23, 15, 13, 14, 22, 18, 5, 10, 10, 18, 17, 17, 5, 13, 10, 10, 7, 9, 3, 20, 14, 5, 12, 8, 14, 12, 12, 7, 10, 12, 15, 13, 7, 9, 7, 14, 6, 'NaN', 21, 12, 10, 9, 12, 13, 6, 17, 9, 6, 9, 6, 10, 12, 0, 14, 13, 12, 12, 7, 14, 12, 16, 9, 8, 6, 14, 12, 9, 12, 12, 7, 27, 14, 17, 12, 0, 7, 8, 6, 3, 6, 6, 8, 9, 8, 13, 15, 8, 15, 13, 8, 8, 7, 13, 5, 12, 22, 7, 12, 7, 'NaN', 10, 6, 17, 24, 16, 17, 13, 0, 7, 15, 8, 16, 7, 3, 7, 9, 12, 7, 16, 15, 10, 5, 9, 7, 7, 5, 13, 14, 5, 10, 7, 18, 12, 12, 0, 0, 14, 10, 0, 6, 8, 10, 8, 12, 10, 12, 13, 14, 12, 8, 15, 9, 10, 16, 9, 12, 0, 3, 15, 0, 16, 18, 14, 6, 12, 7, 18, 12, 6, 9, 6, 10, 13, 15, 13, 15, 13, 12, 17, 5, 12, 13, 16, 12, 5, 10, 8, 14, 8, 7, 7, 10, 8, 6, 6, 0, 'NaN', 14, 25, 15, 13, 5, 12, 6, 13, 17, 10, 6, 14, 12, 5, 12, 9, 9, 7, 5, 10, 9, 7, 8, 5, 9, 14, 8, 12, 14, 10, 6, 9, 0, 10, 6, 10, 13, 9, 12, 'NaN', 'NaN', 'NaN', 'NaN', 'NaN', 10, 3, 10, 7, 10, 6, 0, 16, 28, 14, 13, 13, 10, 3, 16, 12, 12, 6, 12, 17, 'NaN', 21, 8, 3, 24, 20, 10, 7, 13, 13, 23, 3, 13, 7, 14, 12, 16, 12, 16, 8, 8, 12, 17, 20, 10, 5, 12, 0, 7, 'NaN', 'NaN', 10, 10, 3, 10, 13, 0, 9, 10, 13, 6, 13, 5, 8, 0, 7, 8, 3, 5, 5, 8, 9, 9, 'NaN', 8, 3, 15, 20, 'NaN', 17, 7, 10, 17, 15, 13, 9, 13, 17, 5, 8, 13, 14, 18, 13, 21, 6, 10, 16, 6, 22, 15, 16, 9, 7, 12, 12, 'NaN', 'NaN', 'NaN', 'NaN', 18, 24, 17, 5, 6, 18, 15, 5, 16, 20, 5, 12, 18, 5, 12, 5, 9, 9, 9, 9, 13, 13, 16, 18, 14, 8, 14, 'NaN', 'NaN', 'NaN', 'NaN']"
   ]
  },
  {
   "cell_type": "code",
   "execution_count": 9,
   "id": "eb1ddb15",
   "metadata": {},
   "outputs": [
    {
     "data": {
      "text/plain": [
       "array(['Lenexa Running', 'Shawnee Running', 'Running',\n",
       "       'Shawnee - Pre-Race Workout', 'Shawnee - Run Walk Run®',\n",
       "       'Shawnee - Speed Repeats', 'Shawnee - Drill Workout',\n",
       "       'Shawnee - Hill Repeats', 'Shawnee - Benchmark Run',\n",
       "       'Shawnee - Progression Run', 'Shawnee - Goal Pace Run',\n",
       "       'Shawnee - Easy Run', 'Shawnee - Stride Repeats',\n",
       "       'Shawnee - Long Easy Run', 'Kansas City Running',\n",
       "       'Shawnee - Running', 'Shawnee run', 'Imogene Running',\n",
       "       'Shawnee Mission Running', 'Manson Running', 'Untitled'],\n",
       "      dtype=object)"
      ]
     },
     "execution_count": 9,
     "metadata": {},
     "output_type": "execute_result"
    }
   ],
   "source": [
    "activities_all.title.unique()"
   ]
  },
  {
   "cell_type": "code",
   "execution_count": 10,
   "id": "033e9fe9",
   "metadata": {},
   "outputs": [],
   "source": [
    "# Add year and month columns\n",
    "activities_all['year'] = activities_all.date.apply(lambda x: x[:4])\n",
    "activities_all['month'] = activities_all.date.apply(lambda x: x[5:7])"
   ]
  },
  {
   "cell_type": "code",
   "execution_count": 11,
   "id": "58a6aa6f",
   "metadata": {},
   "outputs": [],
   "source": [
    "# Remove data from 2015 and 2016 due to not enough data\n",
    "activities_all = activities_all[(activities_all.year != '2015') & (activities_all.year != '2016')]"
   ]
  },
  {
   "cell_type": "code",
   "execution_count": 12,
   "id": "c5746d5f",
   "metadata": {},
   "outputs": [],
   "source": [
    "# Remove all non-standard run types to normalize running speed\n",
    "activities_reg = activities_all[activities_all.title.isin(['Lenexa Running', 'Shawnee Running', 'Running', 'Kansas City Running', 'Shawnee - Running', 'Shawnee run', 'Shawnee Mission Running', 'Manson Running', 'Untitled'])]"
   ]
  },
  {
   "cell_type": "code",
   "execution_count": 13,
   "id": "79eabf46",
   "metadata": {},
   "outputs": [
    {
     "data": {
      "text/plain": [
       "array([ 3.  ,  3.01,  4.  ,  5.  ,  4.02,  6.  ,  4.01,  3.7 ,  5.02,\n",
       "        5.01,  3.03,  3.02,  3.09,  2.32,  5.08,  3.2 ,  6.01,  4.28,\n",
       "        5.1 ,  7.01,  3.67,  8.01,  4.03,  7.  ,  5.06,  3.19,  3.66,\n",
       "        5.22,  4.3 , 10.01,  6.68,  4.34,  9.  ,  9.01,  3.12,  4.46,\n",
       "        3.47,  3.65,  3.51,  4.5 ,  4.57,  3.81])"
      ]
     },
     "execution_count": 13,
     "metadata": {},
     "output_type": "execute_result"
    }
   ],
   "source": [
    "activities_reg.distance.unique()"
   ]
  },
  {
   "cell_type": "code",
   "execution_count": 14,
   "id": "15c0a9af",
   "metadata": {},
   "outputs": [],
   "source": [
    "# Remove all rows where the distance is under 2 miles -- I don't usually run less than that, so it's most likely a glitch\n",
    "activities_reg = activities_reg[activities_reg.distance >= 2]"
   ]
  },
  {
   "cell_type": "code",
   "execution_count": 15,
   "id": "cbeac40f",
   "metadata": {},
   "outputs": [
    {
     "name": "stdout",
     "output_type": "stream",
     "text": [
      "<class 'pandas.core.frame.DataFrame'>\n",
      "Int64Index: 422 entries, 0 to 475\n",
      "Data columns (total 24 columns):\n",
      " #   Column         Non-Null Count  Dtype  \n",
      "---  ------         --------------  -----  \n",
      " 0   activity_type  422 non-null    object \n",
      " 1   date           422 non-null    object \n",
      " 2   title          422 non-null    object \n",
      " 3   distance       422 non-null    float64\n",
      " 4   calories       422 non-null    object \n",
      " 5   time           422 non-null    object \n",
      " 6   avg_hr         422 non-null    object \n",
      " 7   max_hr         422 non-null    object \n",
      " 8   avg_cadence    422 non-null    int64  \n",
      " 9   max_cadence    422 non-null    int64  \n",
      " 10  avg_pace       422 non-null    object \n",
      " 11  best_pace      422 non-null    object \n",
      " 12  total_ascent   422 non-null    object \n",
      " 13  total_descent  422 non-null    object \n",
      " 14  avg_stride     422 non-null    float64\n",
      " 15  moving_time    422 non-null    object \n",
      " 16  elapsed_time   422 non-null    object \n",
      " 17  min_elevation  422 non-null    object \n",
      " 18  max_elevation  422 non-null    object \n",
      " 19  temp           422 non-null    object \n",
      " 20  humidity       422 non-null    object \n",
      " 21  wind           422 non-null    object \n",
      " 22  year           422 non-null    object \n",
      " 23  month          422 non-null    object \n",
      "dtypes: float64(2), int64(2), object(20)\n",
      "memory usage: 82.4+ KB\n"
     ]
    }
   ],
   "source": [
    "activities_reg.info()"
   ]
  },
  {
   "cell_type": "code",
   "execution_count": 16,
   "id": "d8a26761",
   "metadata": {},
   "outputs": [
    {
     "data": {
      "text/html": [
       "<div>\n",
       "<style scoped>\n",
       "    .dataframe tbody tr th:only-of-type {\n",
       "        vertical-align: middle;\n",
       "    }\n",
       "\n",
       "    .dataframe tbody tr th {\n",
       "        vertical-align: top;\n",
       "    }\n",
       "\n",
       "    .dataframe thead th {\n",
       "        text-align: right;\n",
       "    }\n",
       "</style>\n",
       "<table border=\"1\" class=\"dataframe\">\n",
       "  <thead>\n",
       "    <tr style=\"text-align: right;\">\n",
       "      <th></th>\n",
       "      <th>activity_type</th>\n",
       "      <th>date</th>\n",
       "      <th>title</th>\n",
       "      <th>distance</th>\n",
       "      <th>calories</th>\n",
       "      <th>time</th>\n",
       "      <th>avg_hr</th>\n",
       "      <th>max_hr</th>\n",
       "      <th>avg_cadence</th>\n",
       "      <th>max_cadence</th>\n",
       "      <th>avg_pace</th>\n",
       "      <th>best_pace</th>\n",
       "      <th>total_ascent</th>\n",
       "      <th>total_descent</th>\n",
       "      <th>avg_stride</th>\n",
       "      <th>moving_time</th>\n",
       "      <th>elapsed_time</th>\n",
       "      <th>min_elevation</th>\n",
       "      <th>max_elevation</th>\n",
       "      <th>temp</th>\n",
       "      <th>humidity</th>\n",
       "      <th>wind</th>\n",
       "      <th>year</th>\n",
       "      <th>month</th>\n",
       "    </tr>\n",
       "  </thead>\n",
       "  <tbody>\n",
       "    <tr>\n",
       "      <th>count</th>\n",
       "      <td>422</td>\n",
       "      <td>422</td>\n",
       "      <td>422</td>\n",
       "      <td>422.000000</td>\n",
       "      <td>422</td>\n",
       "      <td>422</td>\n",
       "      <td>422</td>\n",
       "      <td>422</td>\n",
       "      <td>422.000000</td>\n",
       "      <td>422.000000</td>\n",
       "      <td>422</td>\n",
       "      <td>422</td>\n",
       "      <td>422</td>\n",
       "      <td>422</td>\n",
       "      <td>422.000000</td>\n",
       "      <td>422</td>\n",
       "      <td>422</td>\n",
       "      <td>422</td>\n",
       "      <td>422</td>\n",
       "      <td>422.0</td>\n",
       "      <td>422.0</td>\n",
       "      <td>422.0</td>\n",
       "      <td>422</td>\n",
       "      <td>422</td>\n",
       "    </tr>\n",
       "    <tr>\n",
       "      <th>unique</th>\n",
       "      <td>1</td>\n",
       "      <td>419</td>\n",
       "      <td>7</td>\n",
       "      <td>NaN</td>\n",
       "      <td>234</td>\n",
       "      <td>359</td>\n",
       "      <td>32</td>\n",
       "      <td>25</td>\n",
       "      <td>NaN</td>\n",
       "      <td>NaN</td>\n",
       "      <td>108</td>\n",
       "      <td>132</td>\n",
       "      <td>105</td>\n",
       "      <td>104</td>\n",
       "      <td>NaN</td>\n",
       "      <td>318</td>\n",
       "      <td>383</td>\n",
       "      <td>32</td>\n",
       "      <td>46</td>\n",
       "      <td>41.0</td>\n",
       "      <td>74.0</td>\n",
       "      <td>24.0</td>\n",
       "      <td>6</td>\n",
       "      <td>12</td>\n",
       "    </tr>\n",
       "    <tr>\n",
       "      <th>top</th>\n",
       "      <td>Running</td>\n",
       "      <td>2018-05-25 17:05:59</td>\n",
       "      <td>Shawnee Running</td>\n",
       "      <td>NaN</td>\n",
       "      <td>295</td>\n",
       "      <td>00:54:20</td>\n",
       "      <td>164</td>\n",
       "      <td>186</td>\n",
       "      <td>NaN</td>\n",
       "      <td>NaN</td>\n",
       "      <td>8:40</td>\n",
       "      <td>7:39</td>\n",
       "      <td>96</td>\n",
       "      <td>125</td>\n",
       "      <td>NaN</td>\n",
       "      <td>00:00:00</td>\n",
       "      <td>00:00:00</td>\n",
       "      <td>780</td>\n",
       "      <td>905</td>\n",
       "      <td>84.0</td>\n",
       "      <td>55.0</td>\n",
       "      <td>12.0</td>\n",
       "      <td>2018</td>\n",
       "      <td>05</td>\n",
       "    </tr>\n",
       "    <tr>\n",
       "      <th>freq</th>\n",
       "      <td>422</td>\n",
       "      <td>4</td>\n",
       "      <td>337</td>\n",
       "      <td>NaN</td>\n",
       "      <td>8</td>\n",
       "      <td>4</td>\n",
       "      <td>44</td>\n",
       "      <td>46</td>\n",
       "      <td>NaN</td>\n",
       "      <td>NaN</td>\n",
       "      <td>14</td>\n",
       "      <td>11</td>\n",
       "      <td>19</td>\n",
       "      <td>24</td>\n",
       "      <td>NaN</td>\n",
       "      <td>59</td>\n",
       "      <td>5</td>\n",
       "      <td>152</td>\n",
       "      <td>115</td>\n",
       "      <td>25.0</td>\n",
       "      <td>20.0</td>\n",
       "      <td>44.0</td>\n",
       "      <td>94</td>\n",
       "      <td>48</td>\n",
       "    </tr>\n",
       "    <tr>\n",
       "      <th>mean</th>\n",
       "      <td>NaN</td>\n",
       "      <td>NaN</td>\n",
       "      <td>NaN</td>\n",
       "      <td>4.180284</td>\n",
       "      <td>NaN</td>\n",
       "      <td>NaN</td>\n",
       "      <td>NaN</td>\n",
       "      <td>NaN</td>\n",
       "      <td>164.535545</td>\n",
       "      <td>183.928910</td>\n",
       "      <td>NaN</td>\n",
       "      <td>NaN</td>\n",
       "      <td>NaN</td>\n",
       "      <td>NaN</td>\n",
       "      <td>1.054289</td>\n",
       "      <td>NaN</td>\n",
       "      <td>NaN</td>\n",
       "      <td>NaN</td>\n",
       "      <td>NaN</td>\n",
       "      <td>NaN</td>\n",
       "      <td>NaN</td>\n",
       "      <td>NaN</td>\n",
       "      <td>NaN</td>\n",
       "      <td>NaN</td>\n",
       "    </tr>\n",
       "    <tr>\n",
       "      <th>std</th>\n",
       "      <td>NaN</td>\n",
       "      <td>NaN</td>\n",
       "      <td>NaN</td>\n",
       "      <td>1.162115</td>\n",
       "      <td>NaN</td>\n",
       "      <td>NaN</td>\n",
       "      <td>NaN</td>\n",
       "      <td>NaN</td>\n",
       "      <td>18.648834</td>\n",
       "      <td>24.096592</td>\n",
       "      <td>NaN</td>\n",
       "      <td>NaN</td>\n",
       "      <td>NaN</td>\n",
       "      <td>NaN</td>\n",
       "      <td>0.158697</td>\n",
       "      <td>NaN</td>\n",
       "      <td>NaN</td>\n",
       "      <td>NaN</td>\n",
       "      <td>NaN</td>\n",
       "      <td>NaN</td>\n",
       "      <td>NaN</td>\n",
       "      <td>NaN</td>\n",
       "      <td>NaN</td>\n",
       "      <td>NaN</td>\n",
       "    </tr>\n",
       "    <tr>\n",
       "      <th>min</th>\n",
       "      <td>NaN</td>\n",
       "      <td>NaN</td>\n",
       "      <td>NaN</td>\n",
       "      <td>2.320000</td>\n",
       "      <td>NaN</td>\n",
       "      <td>NaN</td>\n",
       "      <td>NaN</td>\n",
       "      <td>NaN</td>\n",
       "      <td>0.000000</td>\n",
       "      <td>0.000000</td>\n",
       "      <td>NaN</td>\n",
       "      <td>NaN</td>\n",
       "      <td>NaN</td>\n",
       "      <td>NaN</td>\n",
       "      <td>0.000000</td>\n",
       "      <td>NaN</td>\n",
       "      <td>NaN</td>\n",
       "      <td>NaN</td>\n",
       "      <td>NaN</td>\n",
       "      <td>NaN</td>\n",
       "      <td>NaN</td>\n",
       "      <td>NaN</td>\n",
       "      <td>NaN</td>\n",
       "      <td>NaN</td>\n",
       "    </tr>\n",
       "    <tr>\n",
       "      <th>25%</th>\n",
       "      <td>NaN</td>\n",
       "      <td>NaN</td>\n",
       "      <td>NaN</td>\n",
       "      <td>3.010000</td>\n",
       "      <td>NaN</td>\n",
       "      <td>NaN</td>\n",
       "      <td>NaN</td>\n",
       "      <td>NaN</td>\n",
       "      <td>164.000000</td>\n",
       "      <td>179.000000</td>\n",
       "      <td>NaN</td>\n",
       "      <td>NaN</td>\n",
       "      <td>NaN</td>\n",
       "      <td>NaN</td>\n",
       "      <td>1.050000</td>\n",
       "      <td>NaN</td>\n",
       "      <td>NaN</td>\n",
       "      <td>NaN</td>\n",
       "      <td>NaN</td>\n",
       "      <td>NaN</td>\n",
       "      <td>NaN</td>\n",
       "      <td>NaN</td>\n",
       "      <td>NaN</td>\n",
       "      <td>NaN</td>\n",
       "    </tr>\n",
       "    <tr>\n",
       "      <th>50%</th>\n",
       "      <td>NaN</td>\n",
       "      <td>NaN</td>\n",
       "      <td>NaN</td>\n",
       "      <td>4.000000</td>\n",
       "      <td>NaN</td>\n",
       "      <td>NaN</td>\n",
       "      <td>NaN</td>\n",
       "      <td>NaN</td>\n",
       "      <td>168.000000</td>\n",
       "      <td>183.000000</td>\n",
       "      <td>NaN</td>\n",
       "      <td>NaN</td>\n",
       "      <td>NaN</td>\n",
       "      <td>NaN</td>\n",
       "      <td>1.075000</td>\n",
       "      <td>NaN</td>\n",
       "      <td>NaN</td>\n",
       "      <td>NaN</td>\n",
       "      <td>NaN</td>\n",
       "      <td>NaN</td>\n",
       "      <td>NaN</td>\n",
       "      <td>NaN</td>\n",
       "      <td>NaN</td>\n",
       "      <td>NaN</td>\n",
       "    </tr>\n",
       "    <tr>\n",
       "      <th>75%</th>\n",
       "      <td>NaN</td>\n",
       "      <td>NaN</td>\n",
       "      <td>NaN</td>\n",
       "      <td>5.010000</td>\n",
       "      <td>NaN</td>\n",
       "      <td>NaN</td>\n",
       "      <td>NaN</td>\n",
       "      <td>NaN</td>\n",
       "      <td>170.000000</td>\n",
       "      <td>186.000000</td>\n",
       "      <td>NaN</td>\n",
       "      <td>NaN</td>\n",
       "      <td>NaN</td>\n",
       "      <td>NaN</td>\n",
       "      <td>1.100000</td>\n",
       "      <td>NaN</td>\n",
       "      <td>NaN</td>\n",
       "      <td>NaN</td>\n",
       "      <td>NaN</td>\n",
       "      <td>NaN</td>\n",
       "      <td>NaN</td>\n",
       "      <td>NaN</td>\n",
       "      <td>NaN</td>\n",
       "      <td>NaN</td>\n",
       "    </tr>\n",
       "    <tr>\n",
       "      <th>max</th>\n",
       "      <td>NaN</td>\n",
       "      <td>NaN</td>\n",
       "      <td>NaN</td>\n",
       "      <td>10.010000</td>\n",
       "      <td>NaN</td>\n",
       "      <td>NaN</td>\n",
       "      <td>NaN</td>\n",
       "      <td>NaN</td>\n",
       "      <td>174.000000</td>\n",
       "      <td>248.000000</td>\n",
       "      <td>NaN</td>\n",
       "      <td>NaN</td>\n",
       "      <td>NaN</td>\n",
       "      <td>NaN</td>\n",
       "      <td>1.200000</td>\n",
       "      <td>NaN</td>\n",
       "      <td>NaN</td>\n",
       "      <td>NaN</td>\n",
       "      <td>NaN</td>\n",
       "      <td>NaN</td>\n",
       "      <td>NaN</td>\n",
       "      <td>NaN</td>\n",
       "      <td>NaN</td>\n",
       "      <td>NaN</td>\n",
       "    </tr>\n",
       "  </tbody>\n",
       "</table>\n",
       "</div>"
      ],
      "text/plain": [
       "       activity_type                 date            title    distance  \\\n",
       "count            422                  422              422  422.000000   \n",
       "unique             1                  419                7         NaN   \n",
       "top          Running  2018-05-25 17:05:59  Shawnee Running         NaN   \n",
       "freq             422                    4              337         NaN   \n",
       "mean             NaN                  NaN              NaN    4.180284   \n",
       "std              NaN                  NaN              NaN    1.162115   \n",
       "min              NaN                  NaN              NaN    2.320000   \n",
       "25%              NaN                  NaN              NaN    3.010000   \n",
       "50%              NaN                  NaN              NaN    4.000000   \n",
       "75%              NaN                  NaN              NaN    5.010000   \n",
       "max              NaN                  NaN              NaN   10.010000   \n",
       "\n",
       "       calories      time avg_hr max_hr  avg_cadence  max_cadence avg_pace  \\\n",
       "count       422       422    422    422   422.000000   422.000000      422   \n",
       "unique      234       359     32     25          NaN          NaN      108   \n",
       "top         295  00:54:20    164    186          NaN          NaN     8:40   \n",
       "freq          8         4     44     46          NaN          NaN       14   \n",
       "mean        NaN       NaN    NaN    NaN   164.535545   183.928910      NaN   \n",
       "std         NaN       NaN    NaN    NaN    18.648834    24.096592      NaN   \n",
       "min         NaN       NaN    NaN    NaN     0.000000     0.000000      NaN   \n",
       "25%         NaN       NaN    NaN    NaN   164.000000   179.000000      NaN   \n",
       "50%         NaN       NaN    NaN    NaN   168.000000   183.000000      NaN   \n",
       "75%         NaN       NaN    NaN    NaN   170.000000   186.000000      NaN   \n",
       "max         NaN       NaN    NaN    NaN   174.000000   248.000000      NaN   \n",
       "\n",
       "       best_pace total_ascent total_descent  avg_stride moving_time  \\\n",
       "count        422          422           422  422.000000         422   \n",
       "unique       132          105           104         NaN         318   \n",
       "top         7:39           96           125         NaN    00:00:00   \n",
       "freq          11           19            24         NaN          59   \n",
       "mean         NaN          NaN           NaN    1.054289         NaN   \n",
       "std          NaN          NaN           NaN    0.158697         NaN   \n",
       "min          NaN          NaN           NaN    0.000000         NaN   \n",
       "25%          NaN          NaN           NaN    1.050000         NaN   \n",
       "50%          NaN          NaN           NaN    1.075000         NaN   \n",
       "75%          NaN          NaN           NaN    1.100000         NaN   \n",
       "max          NaN          NaN           NaN    1.200000         NaN   \n",
       "\n",
       "       elapsed_time min_elevation max_elevation   temp  humidity   wind  year  \\\n",
       "count           422           422           422  422.0     422.0  422.0   422   \n",
       "unique          383            32            46   41.0      74.0   24.0     6   \n",
       "top        00:00:00           780           905   84.0      55.0   12.0  2018   \n",
       "freq              5           152           115   25.0      20.0   44.0    94   \n",
       "mean            NaN           NaN           NaN    NaN       NaN    NaN   NaN   \n",
       "std             NaN           NaN           NaN    NaN       NaN    NaN   NaN   \n",
       "min             NaN           NaN           NaN    NaN       NaN    NaN   NaN   \n",
       "25%             NaN           NaN           NaN    NaN       NaN    NaN   NaN   \n",
       "50%             NaN           NaN           NaN    NaN       NaN    NaN   NaN   \n",
       "75%             NaN           NaN           NaN    NaN       NaN    NaN   NaN   \n",
       "max             NaN           NaN           NaN    NaN       NaN    NaN   NaN   \n",
       "\n",
       "       month  \n",
       "count    422  \n",
       "unique    12  \n",
       "top       05  \n",
       "freq      48  \n",
       "mean     NaN  \n",
       "std      NaN  \n",
       "min      NaN  \n",
       "25%      NaN  \n",
       "50%      NaN  \n",
       "75%      NaN  \n",
       "max      NaN  "
      ]
     },
     "execution_count": 16,
     "metadata": {},
     "output_type": "execute_result"
    }
   ],
   "source": [
    "activities_reg.describe(include = 'all')"
   ]
  },
  {
   "cell_type": "code",
   "execution_count": 17,
   "id": "392c56af",
   "metadata": {},
   "outputs": [],
   "source": [
    "# Remove entries with blank data and remove commas from numerical values\n",
    "activities_reg = activities_reg[(activities_reg.total_ascent != '--') & (activities_reg.temp != 'NaN') & (activities_reg.humidity != 'NaN') & (activities_reg.wind != 'NaN') & (activities_reg.moving_time != '00:00:00') ]\n",
    "activities_reg.max_elevation = activities_reg.max_elevation.apply(lambda x: x.replace(',', ''))\n",
    "activities_reg = activities_reg.reset_index(drop = True)"
   ]
  },
  {
   "cell_type": "code",
   "execution_count": 18,
   "id": "fd4428a8",
   "metadata": {},
   "outputs": [],
   "source": [
    "# Update data types\n",
    "activities_reg.distance = activities_reg.distance.astype('float')\n",
    "\n",
    "# Columns to change to int\n",
    "int_list = ['calories', 'avg_hr', 'max_hr', 'avg_cadence', 'max_cadence', 'total_ascent', 'total_descent', 'min_elevation', 'max_elevation', 'temp', 'humidity', 'wind']\n",
    "\n",
    "for column in int_list:\n",
    "    activities_reg[column] = activities_reg[column].astype('int')"
   ]
  },
  {
   "cell_type": "code",
   "execution_count": 19,
   "id": "116b81b8",
   "metadata": {},
   "outputs": [],
   "source": [
    "# Remove data with no heart rate data\n",
    "activities_reg = activities_reg[(activities_reg.avg_hr != 0.000000) & (activities_reg.max_hr != 0.000000)]"
   ]
  },
  {
   "cell_type": "code",
   "execution_count": 20,
   "id": "65e5dfa4",
   "metadata": {},
   "outputs": [],
   "source": [
    "# Add elevation difference column\n",
    "activities_reg['elev_diff'] = activities_reg.max_elevation - activities_reg.min_elevation"
   ]
  },
  {
   "cell_type": "code",
   "execution_count": 21,
   "id": "eed871fd",
   "metadata": {},
   "outputs": [
    {
     "data": {
      "text/html": [
       "<div>\n",
       "<style scoped>\n",
       "    .dataframe tbody tr th:only-of-type {\n",
       "        vertical-align: middle;\n",
       "    }\n",
       "\n",
       "    .dataframe tbody tr th {\n",
       "        vertical-align: top;\n",
       "    }\n",
       "\n",
       "    .dataframe thead th {\n",
       "        text-align: right;\n",
       "    }\n",
       "</style>\n",
       "<table border=\"1\" class=\"dataframe\">\n",
       "  <thead>\n",
       "    <tr style=\"text-align: right;\">\n",
       "      <th></th>\n",
       "      <th>activity_type</th>\n",
       "      <th>date</th>\n",
       "      <th>title</th>\n",
       "      <th>distance</th>\n",
       "      <th>calories</th>\n",
       "      <th>time</th>\n",
       "      <th>avg_hr</th>\n",
       "      <th>max_hr</th>\n",
       "      <th>avg_cadence</th>\n",
       "      <th>max_cadence</th>\n",
       "      <th>avg_pace</th>\n",
       "      <th>best_pace</th>\n",
       "      <th>total_ascent</th>\n",
       "      <th>total_descent</th>\n",
       "      <th>avg_stride</th>\n",
       "      <th>moving_time</th>\n",
       "      <th>elapsed_time</th>\n",
       "      <th>min_elevation</th>\n",
       "      <th>max_elevation</th>\n",
       "      <th>temp</th>\n",
       "      <th>humidity</th>\n",
       "      <th>wind</th>\n",
       "      <th>year</th>\n",
       "      <th>month</th>\n",
       "      <th>elev_diff</th>\n",
       "      <th>pace_str</th>\n",
       "      <th>pace_min</th>\n",
       "      <th>pace_sec</th>\n",
       "      <th>avg_pace_int</th>\n",
       "    </tr>\n",
       "  </thead>\n",
       "  <tbody>\n",
       "    <tr>\n",
       "      <th>0</th>\n",
       "      <td>Running</td>\n",
       "      <td>2022-09-21</td>\n",
       "      <td>Lenexa Running</td>\n",
       "      <td>3.00</td>\n",
       "      <td>274</td>\n",
       "      <td>00:26:48</td>\n",
       "      <td>161</td>\n",
       "      <td>173</td>\n",
       "      <td>167</td>\n",
       "      <td>172</td>\n",
       "      <td>8:55</td>\n",
       "      <td>8:24</td>\n",
       "      <td>81</td>\n",
       "      <td>102</td>\n",
       "      <td>1.08</td>\n",
       "      <td>00:26:44</td>\n",
       "      <td>00:27:26</td>\n",
       "      <td>951</td>\n",
       "      <td>996</td>\n",
       "      <td>75</td>\n",
       "      <td>69</td>\n",
       "      <td>21</td>\n",
       "      <td>2022</td>\n",
       "      <td>09</td>\n",
       "      <td>45</td>\n",
       "      <td>8:55</td>\n",
       "      <td>8</td>\n",
       "      <td>55</td>\n",
       "      <td>8.916667</td>\n",
       "    </tr>\n",
       "    <tr>\n",
       "      <th>1</th>\n",
       "      <td>Running</td>\n",
       "      <td>2022-09-12</td>\n",
       "      <td>Lenexa Running</td>\n",
       "      <td>3.01</td>\n",
       "      <td>281</td>\n",
       "      <td>00:26:21</td>\n",
       "      <td>166</td>\n",
       "      <td>179</td>\n",
       "      <td>168</td>\n",
       "      <td>174</td>\n",
       "      <td>8:46</td>\n",
       "      <td>8:16</td>\n",
       "      <td>60</td>\n",
       "      <td>65</td>\n",
       "      <td>1.09</td>\n",
       "      <td>00:26:19</td>\n",
       "      <td>00:26:25</td>\n",
       "      <td>952</td>\n",
       "      <td>996</td>\n",
       "      <td>82</td>\n",
       "      <td>30</td>\n",
       "      <td>12</td>\n",
       "      <td>2022</td>\n",
       "      <td>09</td>\n",
       "      <td>44</td>\n",
       "      <td>8:46</td>\n",
       "      <td>8</td>\n",
       "      <td>46</td>\n",
       "      <td>8.766667</td>\n",
       "    </tr>\n",
       "    <tr>\n",
       "      <th>2</th>\n",
       "      <td>Running</td>\n",
       "      <td>2022-09-09</td>\n",
       "      <td>Lenexa Running</td>\n",
       "      <td>4.00</td>\n",
       "      <td>417</td>\n",
       "      <td>00:39:06</td>\n",
       "      <td>166</td>\n",
       "      <td>181</td>\n",
       "      <td>156</td>\n",
       "      <td>179</td>\n",
       "      <td>9:46</td>\n",
       "      <td>8:17</td>\n",
       "      <td>149</td>\n",
       "      <td>144</td>\n",
       "      <td>1.06</td>\n",
       "      <td>00:39:06</td>\n",
       "      <td>00:39:06</td>\n",
       "      <td>952</td>\n",
       "      <td>1027</td>\n",
       "      <td>88</td>\n",
       "      <td>36</td>\n",
       "      <td>7</td>\n",
       "      <td>2022</td>\n",
       "      <td>09</td>\n",
       "      <td>75</td>\n",
       "      <td>9:46</td>\n",
       "      <td>9</td>\n",
       "      <td>46</td>\n",
       "      <td>9.766667</td>\n",
       "    </tr>\n",
       "    <tr>\n",
       "      <th>3</th>\n",
       "      <td>Running</td>\n",
       "      <td>2022-09-06</td>\n",
       "      <td>Lenexa Running</td>\n",
       "      <td>3.00</td>\n",
       "      <td>280</td>\n",
       "      <td>00:26:40</td>\n",
       "      <td>163</td>\n",
       "      <td>177</td>\n",
       "      <td>166</td>\n",
       "      <td>172</td>\n",
       "      <td>8:53</td>\n",
       "      <td>8:13</td>\n",
       "      <td>50</td>\n",
       "      <td>61</td>\n",
       "      <td>1.09</td>\n",
       "      <td>00:26:40</td>\n",
       "      <td>00:26:40</td>\n",
       "      <td>952</td>\n",
       "      <td>997</td>\n",
       "      <td>82</td>\n",
       "      <td>55</td>\n",
       "      <td>7</td>\n",
       "      <td>2022</td>\n",
       "      <td>09</td>\n",
       "      <td>45</td>\n",
       "      <td>8:53</td>\n",
       "      <td>8</td>\n",
       "      <td>53</td>\n",
       "      <td>8.883333</td>\n",
       "    </tr>\n",
       "    <tr>\n",
       "      <th>4</th>\n",
       "      <td>Running</td>\n",
       "      <td>2022-08-31</td>\n",
       "      <td>Lenexa Running</td>\n",
       "      <td>3.00</td>\n",
       "      <td>282</td>\n",
       "      <td>00:26:10</td>\n",
       "      <td>167</td>\n",
       "      <td>181</td>\n",
       "      <td>168</td>\n",
       "      <td>172</td>\n",
       "      <td>8:43</td>\n",
       "      <td>8:11</td>\n",
       "      <td>50</td>\n",
       "      <td>54</td>\n",
       "      <td>1.10</td>\n",
       "      <td>00:26:04</td>\n",
       "      <td>00:26:38</td>\n",
       "      <td>952</td>\n",
       "      <td>996</td>\n",
       "      <td>84</td>\n",
       "      <td>40</td>\n",
       "      <td>5</td>\n",
       "      <td>2022</td>\n",
       "      <td>08</td>\n",
       "      <td>44</td>\n",
       "      <td>8:43</td>\n",
       "      <td>8</td>\n",
       "      <td>43</td>\n",
       "      <td>8.716667</td>\n",
       "    </tr>\n",
       "  </tbody>\n",
       "</table>\n",
       "</div>"
      ],
      "text/plain": [
       "  activity_type        date           title  distance  calories      time  \\\n",
       "0       Running  2022-09-21  Lenexa Running      3.00       274  00:26:48   \n",
       "1       Running  2022-09-12  Lenexa Running      3.01       281  00:26:21   \n",
       "2       Running  2022-09-09  Lenexa Running      4.00       417  00:39:06   \n",
       "3       Running  2022-09-06  Lenexa Running      3.00       280  00:26:40   \n",
       "4       Running  2022-08-31  Lenexa Running      3.00       282  00:26:10   \n",
       "\n",
       "   avg_hr  max_hr  avg_cadence  max_cadence avg_pace best_pace  total_ascent  \\\n",
       "0     161     173          167          172     8:55      8:24            81   \n",
       "1     166     179          168          174     8:46      8:16            60   \n",
       "2     166     181          156          179     9:46      8:17           149   \n",
       "3     163     177          166          172     8:53      8:13            50   \n",
       "4     167     181          168          172     8:43      8:11            50   \n",
       "\n",
       "   total_descent  avg_stride moving_time elapsed_time  min_elevation  \\\n",
       "0            102        1.08    00:26:44     00:27:26            951   \n",
       "1             65        1.09    00:26:19     00:26:25            952   \n",
       "2            144        1.06    00:39:06     00:39:06            952   \n",
       "3             61        1.09    00:26:40     00:26:40            952   \n",
       "4             54        1.10    00:26:04     00:26:38            952   \n",
       "\n",
       "   max_elevation  temp  humidity  wind  year month  elev_diff pace_str  \\\n",
       "0            996    75        69    21  2022    09         45     8:55   \n",
       "1            996    82        30    12  2022    09         44     8:46   \n",
       "2           1027    88        36     7  2022    09         75     9:46   \n",
       "3            997    82        55     7  2022    09         45     8:53   \n",
       "4            996    84        40     5  2022    08         44     8:43   \n",
       "\n",
       "   pace_min  pace_sec  avg_pace_int  \n",
       "0         8        55      8.916667  \n",
       "1         8        46      8.766667  \n",
       "2         9        46      9.766667  \n",
       "3         8        53      8.883333  \n",
       "4         8        43      8.716667  "
      ]
     },
     "execution_count": 21,
     "metadata": {},
     "output_type": "execute_result"
    }
   ],
   "source": [
    "# Get just date from 'date' column\n",
    "activities_reg.date = pd.to_datetime(activities_reg.date)\n",
    "activities_reg.date = activities_reg.date.apply(lambda x: x.strftime('%Y-%m-%d'))\n",
    "\n",
    "# Convert avg_pace to int type\n",
    "activities_reg['pace_str'] = activities_reg.avg_pace.astype(str)\n",
    "activities_reg['pace_min'] = activities_reg.pace_str.apply(lambda x: x[0:1] if len(x) == 4 else x[0:2]).astype('int')\n",
    "activities_reg['pace_sec'] = activities_reg.pace_str.apply(lambda x: x[-2:]).astype('int')\n",
    "activities_reg['avg_pace_int'] = activities_reg.pace_min + (activities_reg.pace_sec / 60)\n",
    "\n",
    "activities_reg.head()"
   ]
  },
  {
   "cell_type": "code",
   "execution_count": 22,
   "id": "8e77429a",
   "metadata": {},
   "outputs": [
    {
     "name": "stdout",
     "output_type": "stream",
     "text": [
      "<class 'pandas.core.frame.DataFrame'>\n",
      "Int64Index: 356 entries, 0 to 357\n",
      "Data columns (total 29 columns):\n",
      " #   Column         Non-Null Count  Dtype  \n",
      "---  ------         --------------  -----  \n",
      " 0   activity_type  356 non-null    object \n",
      " 1   date           356 non-null    object \n",
      " 2   title          356 non-null    object \n",
      " 3   distance       356 non-null    float64\n",
      " 4   calories       356 non-null    int64  \n",
      " 5   time           356 non-null    object \n",
      " 6   avg_hr         356 non-null    int64  \n",
      " 7   max_hr         356 non-null    int64  \n",
      " 8   avg_cadence    356 non-null    int64  \n",
      " 9   max_cadence    356 non-null    int64  \n",
      " 10  avg_pace       356 non-null    object \n",
      " 11  best_pace      356 non-null    object \n",
      " 12  total_ascent   356 non-null    int64  \n",
      " 13  total_descent  356 non-null    int64  \n",
      " 14  avg_stride     356 non-null    float64\n",
      " 15  moving_time    356 non-null    object \n",
      " 16  elapsed_time   356 non-null    object \n",
      " 17  min_elevation  356 non-null    int64  \n",
      " 18  max_elevation  356 non-null    int64  \n",
      " 19  temp           356 non-null    int64  \n",
      " 20  humidity       356 non-null    int64  \n",
      " 21  wind           356 non-null    int64  \n",
      " 22  year           356 non-null    object \n",
      " 23  month          356 non-null    object \n",
      " 24  elev_diff      356 non-null    int64  \n",
      " 25  pace_str       356 non-null    object \n",
      " 26  pace_min       356 non-null    int64  \n",
      " 27  pace_sec       356 non-null    int64  \n",
      " 28  avg_pace_int   356 non-null    float64\n",
      "dtypes: float64(3), int64(15), object(11)\n",
      "memory usage: 83.4+ KB\n"
     ]
    }
   ],
   "source": [
    "activities_reg.info()"
   ]
  },
  {
   "cell_type": "markdown",
   "id": "7abe0abd",
   "metadata": {},
   "source": [
    "## EDA"
   ]
  },
  {
   "cell_type": "code",
   "execution_count": 23,
   "id": "2e206682",
   "metadata": {},
   "outputs": [
    {
     "data": {
      "text/html": [
       "<div>\n",
       "<style scoped>\n",
       "    .dataframe tbody tr th:only-of-type {\n",
       "        vertical-align: middle;\n",
       "    }\n",
       "\n",
       "    .dataframe tbody tr th {\n",
       "        vertical-align: top;\n",
       "    }\n",
       "\n",
       "    .dataframe thead th {\n",
       "        text-align: right;\n",
       "    }\n",
       "</style>\n",
       "<table border=\"1\" class=\"dataframe\">\n",
       "  <thead>\n",
       "    <tr style=\"text-align: right;\">\n",
       "      <th></th>\n",
       "      <th>activity_type</th>\n",
       "      <th>date</th>\n",
       "      <th>title</th>\n",
       "      <th>distance</th>\n",
       "      <th>calories</th>\n",
       "      <th>time</th>\n",
       "      <th>avg_hr</th>\n",
       "      <th>max_hr</th>\n",
       "      <th>avg_cadence</th>\n",
       "      <th>max_cadence</th>\n",
       "      <th>avg_pace</th>\n",
       "      <th>best_pace</th>\n",
       "      <th>total_ascent</th>\n",
       "      <th>total_descent</th>\n",
       "      <th>avg_stride</th>\n",
       "      <th>moving_time</th>\n",
       "      <th>elapsed_time</th>\n",
       "      <th>min_elevation</th>\n",
       "      <th>max_elevation</th>\n",
       "      <th>temp</th>\n",
       "      <th>humidity</th>\n",
       "      <th>wind</th>\n",
       "      <th>year</th>\n",
       "      <th>month</th>\n",
       "      <th>elev_diff</th>\n",
       "      <th>pace_str</th>\n",
       "      <th>pace_min</th>\n",
       "      <th>pace_sec</th>\n",
       "      <th>avg_pace_int</th>\n",
       "    </tr>\n",
       "  </thead>\n",
       "  <tbody>\n",
       "    <tr>\n",
       "      <th>count</th>\n",
       "      <td>356</td>\n",
       "      <td>356</td>\n",
       "      <td>356</td>\n",
       "      <td>356.000000</td>\n",
       "      <td>356.000000</td>\n",
       "      <td>356</td>\n",
       "      <td>356.000000</td>\n",
       "      <td>356.000000</td>\n",
       "      <td>356.000000</td>\n",
       "      <td>356.000000</td>\n",
       "      <td>356</td>\n",
       "      <td>356</td>\n",
       "      <td>356.000000</td>\n",
       "      <td>356.000000</td>\n",
       "      <td>356.000000</td>\n",
       "      <td>356</td>\n",
       "      <td>356</td>\n",
       "      <td>356.000000</td>\n",
       "      <td>356.000000</td>\n",
       "      <td>356.000000</td>\n",
       "      <td>356.000000</td>\n",
       "      <td>356.000000</td>\n",
       "      <td>356</td>\n",
       "      <td>356</td>\n",
       "      <td>356.000000</td>\n",
       "      <td>356</td>\n",
       "      <td>356.000000</td>\n",
       "      <td>356.000000</td>\n",
       "      <td>356.000000</td>\n",
       "    </tr>\n",
       "    <tr>\n",
       "      <th>unique</th>\n",
       "      <td>1</td>\n",
       "      <td>356</td>\n",
       "      <td>5</td>\n",
       "      <td>NaN</td>\n",
       "      <td>NaN</td>\n",
       "      <td>311</td>\n",
       "      <td>NaN</td>\n",
       "      <td>NaN</td>\n",
       "      <td>NaN</td>\n",
       "      <td>NaN</td>\n",
       "      <td>103</td>\n",
       "      <td>117</td>\n",
       "      <td>NaN</td>\n",
       "      <td>NaN</td>\n",
       "      <td>NaN</td>\n",
       "      <td>310</td>\n",
       "      <td>331</td>\n",
       "      <td>NaN</td>\n",
       "      <td>NaN</td>\n",
       "      <td>NaN</td>\n",
       "      <td>NaN</td>\n",
       "      <td>NaN</td>\n",
       "      <td>6</td>\n",
       "      <td>12</td>\n",
       "      <td>NaN</td>\n",
       "      <td>103</td>\n",
       "      <td>NaN</td>\n",
       "      <td>NaN</td>\n",
       "      <td>NaN</td>\n",
       "    </tr>\n",
       "    <tr>\n",
       "      <th>top</th>\n",
       "      <td>Running</td>\n",
       "      <td>2022-09-21</td>\n",
       "      <td>Shawnee Running</td>\n",
       "      <td>NaN</td>\n",
       "      <td>NaN</td>\n",
       "      <td>00:36:22</td>\n",
       "      <td>NaN</td>\n",
       "      <td>NaN</td>\n",
       "      <td>NaN</td>\n",
       "      <td>NaN</td>\n",
       "      <td>8:46</td>\n",
       "      <td>7:39</td>\n",
       "      <td>NaN</td>\n",
       "      <td>NaN</td>\n",
       "      <td>NaN</td>\n",
       "      <td>00:26:17</td>\n",
       "      <td>00:39:12</td>\n",
       "      <td>NaN</td>\n",
       "      <td>NaN</td>\n",
       "      <td>NaN</td>\n",
       "      <td>NaN</td>\n",
       "      <td>NaN</td>\n",
       "      <td>2018</td>\n",
       "      <td>08</td>\n",
       "      <td>NaN</td>\n",
       "      <td>8:46</td>\n",
       "      <td>NaN</td>\n",
       "      <td>NaN</td>\n",
       "      <td>NaN</td>\n",
       "    </tr>\n",
       "    <tr>\n",
       "      <th>freq</th>\n",
       "      <td>356</td>\n",
       "      <td>1</td>\n",
       "      <td>291</td>\n",
       "      <td>NaN</td>\n",
       "      <td>NaN</td>\n",
       "      <td>3</td>\n",
       "      <td>NaN</td>\n",
       "      <td>NaN</td>\n",
       "      <td>NaN</td>\n",
       "      <td>NaN</td>\n",
       "      <td>13</td>\n",
       "      <td>10</td>\n",
       "      <td>NaN</td>\n",
       "      <td>NaN</td>\n",
       "      <td>NaN</td>\n",
       "      <td>3</td>\n",
       "      <td>3</td>\n",
       "      <td>NaN</td>\n",
       "      <td>NaN</td>\n",
       "      <td>NaN</td>\n",
       "      <td>NaN</td>\n",
       "      <td>NaN</td>\n",
       "      <td>85</td>\n",
       "      <td>43</td>\n",
       "      <td>NaN</td>\n",
       "      <td>13</td>\n",
       "      <td>NaN</td>\n",
       "      <td>NaN</td>\n",
       "      <td>NaN</td>\n",
       "    </tr>\n",
       "    <tr>\n",
       "      <th>mean</th>\n",
       "      <td>NaN</td>\n",
       "      <td>NaN</td>\n",
       "      <td>NaN</td>\n",
       "      <td>4.175112</td>\n",
       "      <td>410.005618</td>\n",
       "      <td>NaN</td>\n",
       "      <td>163.098315</td>\n",
       "      <td>183.808989</td>\n",
       "      <td>166.766854</td>\n",
       "      <td>186.474719</td>\n",
       "      <td>NaN</td>\n",
       "      <td>NaN</td>\n",
       "      <td>109.567416</td>\n",
       "      <td>129.977528</td>\n",
       "      <td>1.075197</td>\n",
       "      <td>NaN</td>\n",
       "      <td>NaN</td>\n",
       "      <td>801.966292</td>\n",
       "      <td>922.955056</td>\n",
       "      <td>68.396067</td>\n",
       "      <td>49.682584</td>\n",
       "      <td>10.351124</td>\n",
       "      <td>NaN</td>\n",
       "      <td>NaN</td>\n",
       "      <td>120.988764</td>\n",
       "      <td>NaN</td>\n",
       "      <td>8.457865</td>\n",
       "      <td>31.831461</td>\n",
       "      <td>8.988390</td>\n",
       "    </tr>\n",
       "    <tr>\n",
       "      <th>std</th>\n",
       "      <td>NaN</td>\n",
       "      <td>NaN</td>\n",
       "      <td>NaN</td>\n",
       "      <td>1.184870</td>\n",
       "      <td>124.443527</td>\n",
       "      <td>NaN</td>\n",
       "      <td>4.982097</td>\n",
       "      <td>4.161193</td>\n",
       "      <td>4.886788</td>\n",
       "      <td>13.189921</td>\n",
       "      <td>NaN</td>\n",
       "      <td>NaN</td>\n",
       "      <td>42.470184</td>\n",
       "      <td>39.797226</td>\n",
       "      <td>0.028802</td>\n",
       "      <td>NaN</td>\n",
       "      <td>NaN</td>\n",
       "      <td>66.092884</td>\n",
       "      <td>38.311006</td>\n",
       "      <td>16.643161</td>\n",
       "      <td>16.540955</td>\n",
       "      <td>4.971216</td>\n",
       "      <td>NaN</td>\n",
       "      <td>NaN</td>\n",
       "      <td>30.653537</td>\n",
       "      <td>NaN</td>\n",
       "      <td>0.557580</td>\n",
       "      <td>17.624558</td>\n",
       "      <td>0.423649</td>\n",
       "    </tr>\n",
       "    <tr>\n",
       "      <th>min</th>\n",
       "      <td>NaN</td>\n",
       "      <td>NaN</td>\n",
       "      <td>NaN</td>\n",
       "      <td>2.320000</td>\n",
       "      <td>219.000000</td>\n",
       "      <td>NaN</td>\n",
       "      <td>133.000000</td>\n",
       "      <td>165.000000</td>\n",
       "      <td>147.000000</td>\n",
       "      <td>172.000000</td>\n",
       "      <td>NaN</td>\n",
       "      <td>NaN</td>\n",
       "      <td>42.000000</td>\n",
       "      <td>47.000000</td>\n",
       "      <td>0.980000</td>\n",
       "      <td>NaN</td>\n",
       "      <td>NaN</td>\n",
       "      <td>738.000000</td>\n",
       "      <td>853.000000</td>\n",
       "      <td>21.000000</td>\n",
       "      <td>13.000000</td>\n",
       "      <td>0.000000</td>\n",
       "      <td>NaN</td>\n",
       "      <td>NaN</td>\n",
       "      <td>43.000000</td>\n",
       "      <td>NaN</td>\n",
       "      <td>7.000000</td>\n",
       "      <td>0.000000</td>\n",
       "      <td>7.983333</td>\n",
       "    </tr>\n",
       "    <tr>\n",
       "      <th>25%</th>\n",
       "      <td>NaN</td>\n",
       "      <td>NaN</td>\n",
       "      <td>NaN</td>\n",
       "      <td>3.010000</td>\n",
       "      <td>300.000000</td>\n",
       "      <td>NaN</td>\n",
       "      <td>161.000000</td>\n",
       "      <td>181.000000</td>\n",
       "      <td>164.750000</td>\n",
       "      <td>180.000000</td>\n",
       "      <td>NaN</td>\n",
       "      <td>NaN</td>\n",
       "      <td>94.000000</td>\n",
       "      <td>120.000000</td>\n",
       "      <td>1.050000</td>\n",
       "      <td>NaN</td>\n",
       "      <td>NaN</td>\n",
       "      <td>764.000000</td>\n",
       "      <td>905.000000</td>\n",
       "      <td>55.000000</td>\n",
       "      <td>38.000000</td>\n",
       "      <td>7.000000</td>\n",
       "      <td>NaN</td>\n",
       "      <td>NaN</td>\n",
       "      <td>124.000000</td>\n",
       "      <td>NaN</td>\n",
       "      <td>8.000000</td>\n",
       "      <td>16.000000</td>\n",
       "      <td>8.683333</td>\n",
       "    </tr>\n",
       "    <tr>\n",
       "      <th>50%</th>\n",
       "      <td>NaN</td>\n",
       "      <td>NaN</td>\n",
       "      <td>NaN</td>\n",
       "      <td>4.000000</td>\n",
       "      <td>387.500000</td>\n",
       "      <td>NaN</td>\n",
       "      <td>164.000000</td>\n",
       "      <td>184.000000</td>\n",
       "      <td>168.000000</td>\n",
       "      <td>183.000000</td>\n",
       "      <td>NaN</td>\n",
       "      <td>NaN</td>\n",
       "      <td>106.000000</td>\n",
       "      <td>126.000000</td>\n",
       "      <td>1.070000</td>\n",
       "      <td>NaN</td>\n",
       "      <td>NaN</td>\n",
       "      <td>780.000000</td>\n",
       "      <td>906.000000</td>\n",
       "      <td>72.000000</td>\n",
       "      <td>48.000000</td>\n",
       "      <td>10.000000</td>\n",
       "      <td>NaN</td>\n",
       "      <td>NaN</td>\n",
       "      <td>127.000000</td>\n",
       "      <td>NaN</td>\n",
       "      <td>8.000000</td>\n",
       "      <td>34.000000</td>\n",
       "      <td>8.916667</td>\n",
       "    </tr>\n",
       "    <tr>\n",
       "      <th>75%</th>\n",
       "      <td>NaN</td>\n",
       "      <td>NaN</td>\n",
       "      <td>NaN</td>\n",
       "      <td>5.010000</td>\n",
       "      <td>484.250000</td>\n",
       "      <td>NaN</td>\n",
       "      <td>166.000000</td>\n",
       "      <td>186.000000</td>\n",
       "      <td>170.000000</td>\n",
       "      <td>187.000000</td>\n",
       "      <td>NaN</td>\n",
       "      <td>NaN</td>\n",
       "      <td>120.000000</td>\n",
       "      <td>140.250000</td>\n",
       "      <td>1.090000</td>\n",
       "      <td>NaN</td>\n",
       "      <td>NaN</td>\n",
       "      <td>780.000000</td>\n",
       "      <td>909.000000</td>\n",
       "      <td>82.000000</td>\n",
       "      <td>61.000000</td>\n",
       "      <td>13.000000</td>\n",
       "      <td>NaN</td>\n",
       "      <td>NaN</td>\n",
       "      <td>141.000000</td>\n",
       "      <td>NaN</td>\n",
       "      <td>9.000000</td>\n",
       "      <td>47.000000</td>\n",
       "      <td>9.200000</td>\n",
       "    </tr>\n",
       "    <tr>\n",
       "      <th>max</th>\n",
       "      <td>NaN</td>\n",
       "      <td>NaN</td>\n",
       "      <td>NaN</td>\n",
       "      <td>10.010000</td>\n",
       "      <td>956.000000</td>\n",
       "      <td>NaN</td>\n",
       "      <td>176.000000</td>\n",
       "      <td>197.000000</td>\n",
       "      <td>174.000000</td>\n",
       "      <td>240.000000</td>\n",
       "      <td>NaN</td>\n",
       "      <td>NaN</td>\n",
       "      <td>522.000000</td>\n",
       "      <td>499.000000</td>\n",
       "      <td>1.200000</td>\n",
       "      <td>NaN</td>\n",
       "      <td>NaN</td>\n",
       "      <td>953.000000</td>\n",
       "      <td>1043.000000</td>\n",
       "      <td>99.000000</td>\n",
       "      <td>100.000000</td>\n",
       "      <td>28.000000</td>\n",
       "      <td>NaN</td>\n",
       "      <td>NaN</td>\n",
       "      <td>202.000000</td>\n",
       "      <td>NaN</td>\n",
       "      <td>10.000000</td>\n",
       "      <td>59.000000</td>\n",
       "      <td>10.450000</td>\n",
       "    </tr>\n",
       "  </tbody>\n",
       "</table>\n",
       "</div>"
      ],
      "text/plain": [
       "       activity_type        date            title    distance    calories  \\\n",
       "count            356         356              356  356.000000  356.000000   \n",
       "unique             1         356                5         NaN         NaN   \n",
       "top          Running  2022-09-21  Shawnee Running         NaN         NaN   \n",
       "freq             356           1              291         NaN         NaN   \n",
       "mean             NaN         NaN              NaN    4.175112  410.005618   \n",
       "std              NaN         NaN              NaN    1.184870  124.443527   \n",
       "min              NaN         NaN              NaN    2.320000  219.000000   \n",
       "25%              NaN         NaN              NaN    3.010000  300.000000   \n",
       "50%              NaN         NaN              NaN    4.000000  387.500000   \n",
       "75%              NaN         NaN              NaN    5.010000  484.250000   \n",
       "max              NaN         NaN              NaN   10.010000  956.000000   \n",
       "\n",
       "            time      avg_hr      max_hr  avg_cadence  max_cadence avg_pace  \\\n",
       "count        356  356.000000  356.000000   356.000000   356.000000      356   \n",
       "unique       311         NaN         NaN          NaN          NaN      103   \n",
       "top     00:36:22         NaN         NaN          NaN          NaN     8:46   \n",
       "freq           3         NaN         NaN          NaN          NaN       13   \n",
       "mean         NaN  163.098315  183.808989   166.766854   186.474719      NaN   \n",
       "std          NaN    4.982097    4.161193     4.886788    13.189921      NaN   \n",
       "min          NaN  133.000000  165.000000   147.000000   172.000000      NaN   \n",
       "25%          NaN  161.000000  181.000000   164.750000   180.000000      NaN   \n",
       "50%          NaN  164.000000  184.000000   168.000000   183.000000      NaN   \n",
       "75%          NaN  166.000000  186.000000   170.000000   187.000000      NaN   \n",
       "max          NaN  176.000000  197.000000   174.000000   240.000000      NaN   \n",
       "\n",
       "       best_pace  total_ascent  total_descent  avg_stride moving_time  \\\n",
       "count        356    356.000000     356.000000  356.000000         356   \n",
       "unique       117           NaN            NaN         NaN         310   \n",
       "top         7:39           NaN            NaN         NaN    00:26:17   \n",
       "freq          10           NaN            NaN         NaN           3   \n",
       "mean         NaN    109.567416     129.977528    1.075197         NaN   \n",
       "std          NaN     42.470184      39.797226    0.028802         NaN   \n",
       "min          NaN     42.000000      47.000000    0.980000         NaN   \n",
       "25%          NaN     94.000000     120.000000    1.050000         NaN   \n",
       "50%          NaN    106.000000     126.000000    1.070000         NaN   \n",
       "75%          NaN    120.000000     140.250000    1.090000         NaN   \n",
       "max          NaN    522.000000     499.000000    1.200000         NaN   \n",
       "\n",
       "       elapsed_time  min_elevation  max_elevation        temp    humidity  \\\n",
       "count           356     356.000000     356.000000  356.000000  356.000000   \n",
       "unique          331            NaN            NaN         NaN         NaN   \n",
       "top        00:39:12            NaN            NaN         NaN         NaN   \n",
       "freq              3            NaN            NaN         NaN         NaN   \n",
       "mean            NaN     801.966292     922.955056   68.396067   49.682584   \n",
       "std             NaN      66.092884      38.311006   16.643161   16.540955   \n",
       "min             NaN     738.000000     853.000000   21.000000   13.000000   \n",
       "25%             NaN     764.000000     905.000000   55.000000   38.000000   \n",
       "50%             NaN     780.000000     906.000000   72.000000   48.000000   \n",
       "75%             NaN     780.000000     909.000000   82.000000   61.000000   \n",
       "max             NaN     953.000000    1043.000000   99.000000  100.000000   \n",
       "\n",
       "              wind  year month   elev_diff pace_str    pace_min    pace_sec  \\\n",
       "count   356.000000   356   356  356.000000      356  356.000000  356.000000   \n",
       "unique         NaN     6    12         NaN      103         NaN         NaN   \n",
       "top            NaN  2018    08         NaN     8:46         NaN         NaN   \n",
       "freq           NaN    85    43         NaN       13         NaN         NaN   \n",
       "mean     10.351124   NaN   NaN  120.988764      NaN    8.457865   31.831461   \n",
       "std       4.971216   NaN   NaN   30.653537      NaN    0.557580   17.624558   \n",
       "min       0.000000   NaN   NaN   43.000000      NaN    7.000000    0.000000   \n",
       "25%       7.000000   NaN   NaN  124.000000      NaN    8.000000   16.000000   \n",
       "50%      10.000000   NaN   NaN  127.000000      NaN    8.000000   34.000000   \n",
       "75%      13.000000   NaN   NaN  141.000000      NaN    9.000000   47.000000   \n",
       "max      28.000000   NaN   NaN  202.000000      NaN   10.000000   59.000000   \n",
       "\n",
       "        avg_pace_int  \n",
       "count     356.000000  \n",
       "unique           NaN  \n",
       "top              NaN  \n",
       "freq             NaN  \n",
       "mean        8.988390  \n",
       "std         0.423649  \n",
       "min         7.983333  \n",
       "25%         8.683333  \n",
       "50%         8.916667  \n",
       "75%         9.200000  \n",
       "max        10.450000  "
      ]
     },
     "execution_count": 23,
     "metadata": {},
     "output_type": "execute_result"
    }
   ],
   "source": [
    "activities_reg.describe(include = 'all', datetime_is_numeric = True)"
   ]
  },
  {
   "cell_type": "code",
   "execution_count": 24,
   "id": "d40592be-2e3f-4397-9ca2-10abb27ca3bc",
   "metadata": {},
   "outputs": [],
   "source": [
    "# Export to CSV for Tableau analysis\n",
    "# activities_reg.to_csv('/Users/macbeth/Documents/Codecademy_Projects/Inference-Final-Project/activities_clean.csv')"
   ]
  },
  {
   "cell_type": "code",
   "execution_count": 25,
   "id": "db4ddcbe",
   "metadata": {
    "scrolled": true
   },
   "outputs": [
    {
     "data": {
      "image/png": "[encoded data removed]",
      "text/plain": [
       "<Figure size 432x288 with 1 Axes>"
      ]
     },
     "metadata": {
      "needs_background": "light"
     },
     "output_type": "display_data"
    },
    {
     "data": {
      "text/plain": [
       "<Figure size 432x288 with 0 Axes>"
      ]
     },
     "metadata": {},
     "output_type": "display_data"
    }
   ],
   "source": [
    "# Check distribution of average pace values\n",
    "plt.hist(activities_reg.avg_pace_int)\n",
    "plt.title('Distribution of Mile Times')\n",
    "plt.xlabel('Mile Time')\n",
    "plt.show()\n",
    "plt.clf()\n",
    "\n",
    "# Slightly right-skewed"
   ]
  },
  {
   "cell_type": "code",
   "execution_count": 62,
   "id": "b84ed106",
   "metadata": {
    "scrolled": true
   },
   "outputs": [
    {
     "data": {
      "image/png": "[encoded data removed]",
      "text/plain": [
       "<Figure size 432x288 with 1 Axes>"
      ]
     },
     "metadata": {
      "needs_background": "light"
     },
     "output_type": "display_data"
    },
    {
     "data": {
      "text/plain": [
       "<Figure size 432x288 with 0 Axes>"
      ]
     },
     "metadata": {},
     "output_type": "display_data"
    }
   ],
   "source": [
    "# Compare total miles run by year (up to September)\n",
    "years = activities_reg.year.unique()\n",
    "years.sort()\n",
    "miles = [sum(activities_reg.distance[(activities_reg.year == i) & (activities_reg.month <= '09')]) for i in years]\n",
    "\n",
    "plt.bar(years, miles, color = 'mediumslateblue')\n",
    "plt.title('Total Miles Run Per Year (Jan - Sept)')\n",
    "plt.xlabel('Year')\n",
    "plt.ylabel('Miles Run')\n",
    "plt.show()\n",
    "plt.clf()"
   ]
  },
  {
   "cell_type": "markdown",
   "id": "b0fd3fa0",
   "metadata": {},
   "source": [
    "The total miles run in 2022 up to September is not noticeably different than in 2021 and 2020."
   ]
  },
  {
   "cell_type": "code",
   "execution_count": 63,
   "id": "e31ec649",
   "metadata": {},
   "outputs": [
    {
     "data": {
      "image/png": "[encoded data removed]",
      "text/plain": [
       "<Figure size 576x432 with 2 Axes>"
      ]
     },
     "metadata": {
      "needs_background": "light"
     },
     "output_type": "display_data"
    },
    {
     "data": {
      "text/plain": [
       "<Figure size 432x288 with 0 Axes>"
      ]
     },
     "metadata": {},
     "output_type": "display_data"
    }
   ],
   "source": [
    "# Heatmap of miles per month\n",
    "totals = activities_reg.groupby(['year', 'month']).sum()\n",
    "totals_mnth_yr = totals.reset_index().pivot(index = 'year', columns = 'month', values = 'distance')\n",
    "\n",
    "plt.figure(figsize = (8, 6))\n",
    "\n",
    "sns.heatmap(totals_mnth_yr, cbar_kws = {'label': 'Total Miles'})\n",
    "plt.title('Miles Run Per Month By Year')\n",
    "plt.show()\n",
    "plt.clf()"
   ]
  },
  {
   "cell_type": "markdown",
   "id": "25a4a49f",
   "metadata": {},
   "source": [
    "The total number of miles run per month is fairly consistent, with the exception of the summers of 2017-2019, which had higher monthly totals."
   ]
  },
  {
   "cell_type": "code",
   "execution_count": 64,
   "id": "d872f9b9",
   "metadata": {},
   "outputs": [
    {
     "data": {
      "image/png": "[encoded data removed]",
      "text/plain": [
       "<Figure size 432x288 with 1 Axes>"
      ]
     },
     "metadata": {
      "needs_background": "light"
     },
     "output_type": "display_data"
    },
    {
     "data": {
      "text/plain": [
       "<Figure size 432x288 with 0 Axes>"
      ]
     },
     "metadata": {},
     "output_type": "display_data"
    }
   ],
   "source": [
    "pplt.autocorrelation_plot(activities_reg.distance)\n",
    "plt.title('Autocorrelation Plot of Miles Run')\n",
    "plt.show()\n",
    "plt.clf()"
   ]
  },
  {
   "cell_type": "markdown",
   "id": "83bb16cf",
   "metadata": {},
   "source": [
    "There does not appear to be seasonality, and the observations appear to be independent of each other."
   ]
  },
  {
   "cell_type": "code",
   "execution_count": 61,
   "id": "f8ba0c93",
   "metadata": {},
   "outputs": [
    {
     "data": {
      "image/png": "[encoded data removed]",
      "text/plain": [
       "<Figure size 432x288 with 1 Axes>"
      ]
     },
     "metadata": {
      "needs_background": "light"
     },
     "output_type": "display_data"
    },
    {
     "data": {
      "text/plain": [
       "<Figure size 432x288 with 0 Axes>"
      ]
     },
     "metadata": {},
     "output_type": "display_data"
    }
   ],
   "source": [
    "# Plot average run distance by year\n",
    "years = activities_reg.year.unique()\n",
    "years.sort()\n",
    "avg_dist = [(activities_reg.distance[activities_reg.year == i]).mean() for i in years]\n",
    "\n",
    "plt.bar(years, avg_dist, color = 'limegreen')\n",
    "plt.title('Average Run Distance by Year')\n",
    "plt.xlabel('Year')\n",
    "plt.ylabel('Distance (Miles)')\n",
    "plt.show()\n",
    "plt.clf()"
   ]
  },
  {
   "cell_type": "markdown",
   "id": "3a2c95e8",
   "metadata": {},
   "source": [
    "My average distance per run has been consistent over the past 3 years, with higher averages in previous years."
   ]
  },
  {
   "cell_type": "markdown",
   "id": "35535e79",
   "metadata": {},
   "source": [
    "# Analysis"
   ]
  },
  {
   "cell_type": "markdown",
   "id": "5b7045e5",
   "metadata": {},
   "source": [
    "## Goal 1: test for significant difference in average mile pace before and after March 20, 2022"
   ]
  },
  {
   "cell_type": "markdown",
   "id": "4e6a1854",
   "metadata": {},
   "source": [
    "Null Hypothesis: There is not a significant difference in my average mile pace before and after March 20, 2022. \n",
    "\n",
    "Alternative Hypothesis: There is a significant difference in my average mile pace before and after March 20, 2022.\n",
    "\n",
    "Significance threshold: 0.05\n",
    "\n",
    "Method: I will use data for runs between 3 and 4 miles in length to limit pace variation due to distance.\n",
    "Divide data into different sets:"
   ]
  },
  {
   "cell_type": "markdown",
   "id": "5f27aaa8",
   "metadata": {},
   "source": [
    " 1. Data after March 20, 2022\n",
    " 2. All data before March 20, 2022\n",
    " 3. Data from previous years for the same months as set 1 (March - September) (seasonal comparison)"
   ]
  },
  {
   "cell_type": "code",
   "execution_count": 30,
   "id": "3b3a81e0",
   "metadata": {},
   "outputs": [],
   "source": [
    "# Get data for runs between 3 and 4 miles in length\n",
    "activities_3_4 = activities_reg[(activities_reg.distance >= 3) & (activities_reg.distance <= 4)]"
   ]
  },
  {
   "cell_type": "code",
   "execution_count": 31,
   "id": "2b16f323",
   "metadata": {},
   "outputs": [],
   "source": [
    "# Get data for runs after March 20, 2022 (set 1)\n",
    "activities_after = activities_3_4[activities_3_4.date >= '2022-03-20']"
   ]
  },
  {
   "cell_type": "code",
   "execution_count": 32,
   "id": "ea172ab9",
   "metadata": {},
   "outputs": [],
   "source": [
    "# Get data for runs before March 20, 2022 (set 2)\n",
    "activities_before = activities_3_4[activities_3_4.date < '2022-03-20']"
   ]
  },
  {
   "cell_type": "code",
   "execution_count": 33,
   "id": "47ece2f7",
   "metadata": {},
   "outputs": [],
   "source": [
    "# Get data for March - September for previous years (set 3)\n",
    "summer_2017 = activities_before[(activities_before.date >= '2017-03-20') & (activities_before.date <= '2017-09-21')]\n",
    "summer_2018 = activities_before[(activities_before.date >= '2018-03-20') & (activities_before.date <= '2018-09-21')]\n",
    "summer_2019 = activities_before[(activities_before.date >= '2019-03-20') & (activities_before.date <= '2019-09-21')]\n",
    "summer_2020 = activities_before[(activities_before.date >= '2020-03-20') & (activities_before.date <= '2020-09-21')]\n",
    "summer_2021 = activities_before[(activities_before.date >= '2021-03-20') & (activities_before.date <= '2021-09-21')]"
   ]
  },
  {
   "cell_type": "code",
   "execution_count": 34,
   "id": "2553c6f5",
   "metadata": {},
   "outputs": [
    {
     "data": {
      "text/plain": [
       "1.5615890329778401"
      ]
     },
     "execution_count": 34,
     "metadata": {},
     "output_type": "execute_result"
    }
   ],
   "source": [
    "# Check equal variance assumption\n",
    "before_st_dev = stdev(activities_before.avg_pace_int)\n",
    "after_st_dev = stdev(activities_after.avg_pace_int)\n",
    "ratio = before_st_dev / after_st_dev\n",
    "ratio"
   ]
  },
  {
   "cell_type": "markdown",
   "id": "7641bfea",
   "metadata": {},
   "source": [
    "The variances are not equal, so the parameter \"equal_var = False\" is needed."
   ]
  },
  {
   "cell_type": "code",
   "execution_count": 35,
   "id": "a7279b42",
   "metadata": {},
   "outputs": [
    {
     "data": {
      "text/plain": [
       "0.9836838069182449"
      ]
     },
     "execution_count": 35,
     "metadata": {},
     "output_type": "execute_result"
    }
   ],
   "source": [
    "# Run two-sample t-test to look for significant difference between data before and after March 20, 2022\n",
    "tstat, pval = ttest_ind(activities_before.avg_pace_int, activities_after.avg_pace_int, equal_var = False)\n",
    "pval"
   ]
  },
  {
   "cell_type": "markdown",
   "id": "10bb30de",
   "metadata": {},
   "source": [
    "The p-value is > 0.05, so the null hypothesis cannot be rejected. My average mile pace from before and after March 20, 2022 is not significantly different for 3-4 mile runs."
   ]
  },
  {
   "cell_type": "code",
   "execution_count": 36,
   "id": "ebeece9f",
   "metadata": {},
   "outputs": [
    {
     "data": {
      "text/plain": [
       "0.0008007860446498849"
      ]
     },
     "execution_count": 36,
     "metadata": {},
     "output_type": "execute_result"
    }
   ],
   "source": [
    "# Run ANOVA on all data sets for the same time period of different years\n",
    "fstat, pval = f_oneway(activities_after.avg_pace_int, summer_2017.avg_pace_int, summer_2018.avg_pace_int, summer_2019.avg_pace_int,\n",
    "                       summer_2020.avg_pace_int, summer_2021.avg_pace_int)\n",
    "pval"
   ]
  },
  {
   "cell_type": "markdown",
   "id": "bad87282",
   "metadata": {},
   "source": [
    "The p-value is < 0.05, so at least one pair has a significantly different average."
   ]
  },
  {
   "cell_type": "code",
   "execution_count": 37,
   "id": "35ef0153-b984-4222-a20c-50caba18d9c4",
   "metadata": {},
   "outputs": [
    {
     "name": "stdout",
     "output_type": "stream",
     "text": [
      "Multiple Comparison of Means - Tukey HSD, FWER=0.05 \n",
      "====================================================\n",
      "group1 group2 meandiff p-adj   lower   upper  reject\n",
      "----------------------------------------------------\n",
      "  2017   2018   0.0326    1.0 -0.8454  0.9107  False\n",
      "  2017   2019  -0.1833  0.996 -1.2423  0.8756  False\n",
      "  2017   2020   0.3607 0.7673 -0.4259  1.1473  False\n",
      "  2017   2021   0.5598 0.3044 -0.2204  1.3401  False\n",
      "  2017   2022   0.1703 0.9882 -0.6099  0.9506  False\n",
      "  2018   2019   -0.216 0.9799  -1.094  0.6621  False\n",
      "  2018   2020   0.3281  0.446 -0.1899   0.846  False\n",
      "  2018   2021   0.5272 0.0373  0.0189  1.0355   True\n",
      "  2018   2022   0.1377 0.9693 -0.3706  0.6459  False\n",
      "  2019   2020   0.5441 0.3451 -0.2425  1.3307  False\n",
      "  2019   2021   0.7432 0.0714 -0.0371  1.5234  False\n",
      "  2019   2022   0.3537  0.776 -0.4266  1.1339  False\n",
      "  2020   2021   0.1991 0.4866 -0.1266  0.5248  False\n",
      "  2020   2022  -0.1904  0.537 -0.5161  0.1353  False\n",
      "  2021   2022  -0.3895 0.0054 -0.6996 -0.0795   True\n",
      "----------------------------------------------------\n"
     ]
    }
   ],
   "source": [
    "# Concatenate all summer datasets for Tukey test\n",
    "summer = pd.concat([summer_2017, summer_2018, summer_2019, summer_2020, summer_2021, activities_after])\n",
    "\n",
    "tukey_results = pairwise_tukeyhsd(summer.avg_pace_int, summer.year, 0.05)\n",
    "print(tukey_results)"
   ]
  },
  {
   "cell_type": "markdown",
   "id": "a71dc70d",
   "metadata": {},
   "source": [
    "The year pairs with significant differences in average mile pace are 2018/2021 and 2021/2022. This indicates that 2021 is the year that is most different from the others, not 2022."
   ]
  },
  {
   "cell_type": "code",
   "execution_count": 38,
   "id": "8a68b523-d1fa-492d-942f-e09104de2bc8",
   "metadata": {},
   "outputs": [],
   "source": [
    "# Export summer dataset to CSV for Tableau analysis\n",
    "# summer.to_csv('/Users/macbeth/Documents/Codecademy_Projects/Inference-Final-Project/summer_data.csv')"
   ]
  },
  {
   "cell_type": "code",
   "execution_count": 39,
   "id": "bd48fccb",
   "metadata": {},
   "outputs": [
    {
     "data": {
      "image/png": "[encoded data removed]",
      "text/plain": [
       "<Figure size 432x288 with 1 Axes>"
      ]
     },
     "metadata": {
      "needs_background": "light"
     },
     "output_type": "display_data"
    },
    {
     "data": {
      "text/plain": [
       "<Figure size 432x288 with 0 Axes>"
      ]
     },
     "metadata": {},
     "output_type": "display_data"
    }
   ],
   "source": [
    "# Side-by-side boxplot of ANOVA data\n",
    "# plt.figure(figsize = (12, 10))\n",
    "\n",
    "sns.boxplot(x = summer.year, y = summer.avg_pace_int)\n",
    "plt.title('Average mile paces for summer months by year')\n",
    "plt.xlabel('Year')\n",
    "plt.ylabel('Average Mile Pace (minutes)')\n",
    "plt.show()\n",
    "plt.clf()"
   ]
  },
  {
   "cell_type": "markdown",
   "id": "2f4ebb70",
   "metadata": {},
   "source": [
    "### Conclusion:\n",
    "Based on these analyses, my average mile pace is not significantly different since March 20, 2022 than it was previously. Based on the side-by-side boxplot, the years where I was training for a race (2017-2019) had faster average paces in general than years when I was not (2020-2022)."
   ]
  },
  {
   "cell_type": "markdown",
   "id": "7abe7a18",
   "metadata": {},
   "source": [
    "## Goal 2: Predict average mile pace based on run features"
   ]
  },
  {
   "cell_type": "markdown",
   "id": "5c40a2b8",
   "metadata": {},
   "source": [
    "Method: I will create and test various regression models to predict the average mile pace of my runs."
   ]
  },
  {
   "cell_type": "code",
   "execution_count": 40,
   "id": "26da62f3-18af-41d9-8b5e-8568990d2f23",
   "metadata": {},
   "outputs": [],
   "source": [
    "# Limit features to factors external to the run\n",
    "# Target is average mile pace\n",
    "feature_list = ['distance', 'temp', 'humidity', 'month', 'elev_diff']\n",
    "X = activities_reg[feature_list]\n",
    "\n",
    "y = activities_reg['avg_pace_int']"
   ]
  },
  {
   "cell_type": "code",
   "execution_count": 41,
   "id": "14565c66-2ec4-485a-be5b-bf409bc12b9f",
   "metadata": {},
   "outputs": [],
   "source": [
    "# Change data type of year and month features to int\n",
    "X = X.astype({'month': int})"
   ]
  },
  {
   "cell_type": "code",
   "execution_count": 42,
   "id": "4dfc67af-b25e-4973-9012-1499fa224e42",
   "metadata": {},
   "outputs": [
    {
     "data": {
      "image/png": "[encoded data removed]",
      "text/plain": [
       "<Figure size 576x432 with 2 Axes>"
      ]
     },
     "metadata": {
      "needs_background": "light"
     },
     "output_type": "display_data"
    },
    {
     "data": {
      "text/plain": [
       "<Figure size 432x288 with 0 Axes>"
      ]
     },
     "metadata": {},
     "output_type": "display_data"
    }
   ],
   "source": [
    "# Check for multicollinearity\n",
    "corr_grid = X.corr()\n",
    "\n",
    "plt.figure(figsize = (8,6))\n",
    "sns.heatmap(corr_grid, xticklabels=corr_grid.columns, yticklabels=corr_grid.columns, vmin=-1, center=0, vmax=1, cmap='PuOr', annot=True)\n",
    "plt.show()\n",
    "plt.clf()"
   ]
  },
  {
   "cell_type": "code",
   "execution_count": 43,
   "id": "c3350e24-0c6b-4790-ab4c-f31558e0be64",
   "metadata": {},
   "outputs": [],
   "source": [
    "# Train test split\n",
    "X_train, X_test, y_train, y_test = train_test_split(X, y, test_size = 0.2, random_state = 42)"
   ]
  },
  {
   "cell_type": "markdown",
   "id": "0fcd31f0-79ab-4ee5-8da6-5aa14bc3ec21",
   "metadata": {
    "tags": []
   },
   "source": [
    "### Linear Regression"
   ]
  },
  {
   "cell_type": "code",
   "execution_count": 44,
   "id": "d351760c-90a7-4164-a2ef-c52542ef387f",
   "metadata": {},
   "outputs": [
    {
     "name": "stdout",
     "output_type": "stream",
     "text": [
      "Linear Regression Model Training Performance\n",
      "Bias: 7.988771122446688\n",
      "Coefficients: [-0.0480694   0.01471524  0.0002344  -0.02377411  0.00281502]\n",
      "Score: 0.32525098005219644\n",
      "MAE: 0.26742443271098043\n",
      "RMSE: 0.34643724338124665\n",
      "MSE: 0.12001876360159713\n",
      "R^2: 0.32525098005219644\n",
      "\n",
      "Linear Regression Model Test Performance\n",
      "MAE: 0.2574069883465594\n",
      "RMSE: 0.33124494848816977\n",
      "MSE: 0.10972321589893023\n",
      "R^2: 0.3951567774737771\n"
     ]
    }
   ],
   "source": [
    "# Train model\n",
    "lr_model = LinearRegression()\n",
    "lr_model.fit(X_train, y_train)\n",
    "\n",
    "# Predict target\n",
    "y_pred_lin = lr_model.predict(X_train)\n",
    "\n",
    "# Evaluate model performance on training data\n",
    "print('Linear Regression Model Training Performance')\n",
    "print('Bias:', lr_model.intercept_)\n",
    "print('Coefficients:', lr_model.coef_)\n",
    "print('Score:', lr_model.score(X_train, y_train))\n",
    "print('MAE:', mean_absolute_error(y_train, y_pred_lin))\n",
    "print('RMSE:', np.sqrt(mean_squared_error(y_train, y_pred_lin)))\n",
    "print('MSE:', mean_squared_error(y_train, y_pred_lin))\n",
    "print('R^2:', r2_score(y_train, y_pred_lin))\n",
    "print()\n",
    "\n",
    "# Evaluate model performance on test data\n",
    "y_test_pred_lin = lr_model.predict(X_test)\n",
    "\n",
    "print('Linear Regression Model Test Performance')\n",
    "print('MAE:', mean_absolute_error(y_test, y_test_pred_lin))\n",
    "print('RMSE:', np.sqrt(mean_squared_error(y_test, y_test_pred_lin)))\n",
    "print('MSE:', mean_squared_error(y_test, y_test_pred_lin))\n",
    "print('R^2:', r2_score(y_test, y_test_pred_lin))"
   ]
  },
  {
   "cell_type": "markdown",
   "id": "b7a7be6d-b741-45d7-b832-d47b918e096f",
   "metadata": {
    "tags": []
   },
   "source": [
    "### Linear Regression with Polynomial Features"
   ]
  },
  {
   "cell_type": "code",
   "execution_count": 45,
   "id": "7187c092-42b5-47d8-97d3-21b42e08634d",
   "metadata": {},
   "outputs": [
    {
     "name": "stdout",
     "output_type": "stream",
     "text": [
      "Polynomial Model Train Performance\n",
      "Bias: [8.49813099]\n",
      "Score: 0.4593802325665818\n",
      "MAE: 0.2390263260036302\n",
      "RMSE: 0.31009831308354313\n",
      "MSE: 0.09616096377725915\n",
      "R^2: 0.4593802325665818\n",
      "\n",
      "Polynomial Model Test Performance\n",
      "MAE: 0.25049478093336497\n",
      "RMSE: 0.3272573337477799\n",
      "MSE: 0.1070973624917058\n",
      "R^2: 0.4096316506689818\n"
     ]
    }
   ],
   "source": [
    "# Create polynomial features object from unscaled data\n",
    "poly_feat = PolynomialFeatures(degree = 2, include_bias = False)\n",
    "pipe_scale = StandardScaler()\n",
    "lr_pipe = LinearRegression()\n",
    "\n",
    "stages = [('poly_feat', poly_feat),\n",
    "          ('pipe_scale', pipe_scale),\n",
    "          ('lr_pipe', lr_pipe)]\n",
    "\n",
    "# Create and fit pipeline\n",
    "pipe = Pipeline(stages)\n",
    "pipe.fit(X_train.values, y_train.values)\n",
    "\n",
    "# Predict target values\n",
    "y_train_pred = pipe.predict(X_train.values)\n",
    "\n",
    "# Evaluate performance on training data\n",
    "print('Polynomial Model Train Performance')\n",
    "print('Bias:', pipe.predict([[0, 0, 0, 0, 0]]))\n",
    "print('Score:', pipe.score(X_train.values, y_train.values))\n",
    "print('MAE:', mean_absolute_error(y_train.values, y_train_pred))\n",
    "print('RMSE:', np.sqrt(mean_squared_error(y_train.values, y_train_pred)))\n",
    "print('MSE:', mean_squared_error(y_train.values, y_train_pred))\n",
    "print('R^2:', r2_score(y_train.values, y_train_pred))\n",
    "print()\n",
    "\n",
    "# Evaluate performance on test data\n",
    "y_test_pred2 = pipe.predict(X_test.values)\n",
    "\n",
    "print('Polynomial Model Test Performance')\n",
    "print('MAE:', mean_absolute_error(y_test.values, y_test_pred2))\n",
    "print('RMSE:', np.sqrt(mean_squared_error(y_test.values, y_test_pred2)))\n",
    "print('MSE:', mean_squared_error(y_test.values, y_test_pred2))\n",
    "print('R^2:', r2_score(y_test.values, y_test_pred2))"
   ]
  },
  {
   "cell_type": "markdown",
   "id": "5febd72d-e670-46f7-8c1b-db47c8695652",
   "metadata": {
    "tags": []
   },
   "source": [
    "### Support Vector Regression Model"
   ]
  },
  {
   "cell_type": "code",
   "execution_count": 46,
   "id": "2c3ea425-1ea0-4151-bec9-660afdb39120",
   "metadata": {},
   "outputs": [
    {
     "name": "stdout",
     "output_type": "stream",
     "text": [
      "SVR Model Train Performance\n",
      "Bias: [8.92441161]\n",
      "Score: 0.39580438822408803\n",
      "MAE: 0.2399087166378627\n",
      "RMSE: 0.32782511812879295\n",
      "MSE: 0.10746930807615704\n",
      "R^2: 0.39580438822408803\n",
      "\n",
      "SVR Model Test Performance\n",
      "MAE: 0.24511062090450592\n",
      "RMSE: 0.31986745441400594\n",
      "MSE: 0.10231518839329616\n",
      "R^2: 0.43599312365960097\n"
     ]
    }
   ],
   "source": [
    "# Create SVR model\n",
    "svr = SVR(kernel = 'rbf', C = 0.1)\n",
    "svr_scale = StandardScaler()\n",
    "\n",
    "# Create and fit pipeline\n",
    "steps2 = [('svr_scale', svr_scale),\n",
    "          ('svr', svr)]\n",
    "pipe_svr = Pipeline(steps2)\n",
    "pipe_svr.fit(X_train.values, y_train.values)\n",
    "\n",
    "# Predict target values\n",
    "y_pred_svr = pipe_svr.predict(X_train.values)\n",
    "\n",
    "# Evaluate performance on training data\n",
    "print('SVR Model Train Performance')\n",
    "print('Bias:', pipe_svr.predict([[0, 0, 0, 0, 0]]))\n",
    "print('Score:', pipe_svr.score(X_train.values, y_train.values))\n",
    "print('MAE:', mean_absolute_error(y_train.values, y_pred_svr))\n",
    "print('RMSE:', np.sqrt(mean_squared_error(y_train.values, y_pred_svr)))\n",
    "print('MSE:', mean_squared_error(y_train.values, y_pred_svr))\n",
    "print('R^2:', r2_score(y_train.values, y_pred_svr))\n",
    "print()\n",
    "\n",
    "# Evaluate performance on test data\n",
    "y_test_svr = pipe_svr.predict(X_test.values)\n",
    "\n",
    "print('SVR Model Test Performance')\n",
    "print('MAE:', mean_absolute_error(y_test.values, y_test_svr))\n",
    "print('RMSE:', np.sqrt(mean_squared_error(y_test.values, y_test_svr)))\n",
    "print('MSE:', mean_squared_error(y_test.values, y_test_svr))\n",
    "print('R^2:', r2_score(y_test.values, y_test_svr))"
   ]
  },
  {
   "cell_type": "markdown",
   "id": "1e68001c-4ddf-45b0-871c-67916868d874",
   "metadata": {
    "tags": []
   },
   "source": [
    "### Decision Tree Regression"
   ]
  },
  {
   "cell_type": "code",
   "execution_count": 47,
   "id": "198bf9f5-8252-4ece-ab41-296f2e849b63",
   "metadata": {},
   "outputs": [
    {
     "name": "stdout",
     "output_type": "stream",
     "text": [
      "Decision Tree Model Train Performance\n",
      "Bias: [8.97179487]\n",
      "Score: 0.41486357199207446\n",
      "MAE: 0.2520144715025373\n",
      "RMSE: 0.3226131095024997\n",
      "MSE: 0.10407921842287188\n",
      "R^2: 0.41486357199207446\n",
      "\n",
      "Decision Tree Model Test Performance\n",
      "MAE: 0.318230243024648\n",
      "RMSE: 0.3990568567480846\n",
      "MSE: 0.15924637491766133\n",
      "R^2: 0.12216307376972857\n"
     ]
    }
   ],
   "source": [
    "# Create and train model\n",
    "tree_scale = StandardScaler()\n",
    "tree = DecisionTreeRegressor(max_depth = 3, random_state = 42)\n",
    "\n",
    "steps3 = [('tree_scale', tree_scale),\n",
    "          ('tree', tree)]\n",
    "\n",
    "pipe_tree = Pipeline(steps3)\n",
    "pipe_tree.fit(X_train.values, y_train.values)\n",
    "\n",
    "# Predict target values\n",
    "y_pred_tree = pipe_tree.predict(X_train.values)\n",
    "\n",
    "# Evaluate performance on training data\n",
    "print('Decision Tree Model Train Performance')\n",
    "print('Bias:', pipe_tree.predict([[0, 0, 0, 0, 0]]))\n",
    "print('Score:', pipe_tree.score(X_train.values, y_train.values))\n",
    "print('MAE:', mean_absolute_error(y_train.values, y_pred_tree))\n",
    "print('RMSE:', np.sqrt(mean_squared_error(y_train.values, y_pred_tree)))\n",
    "print('MSE:', mean_squared_error(y_train.values, y_pred_tree))\n",
    "print('R^2:', r2_score(y_train.values, y_pred_tree))\n",
    "print()\n",
    "\n",
    "# Evaluate performance on test data\n",
    "y_test_tree = pipe_tree.predict(X_test.values)\n",
    "\n",
    "print('Decision Tree Model Test Performance')\n",
    "print('MAE:', mean_absolute_error(y_test.values, y_test_tree))\n",
    "print('RMSE:', np.sqrt(mean_squared_error(y_test.values, y_test_tree)))\n",
    "print('MSE:', mean_squared_error(y_test.values, y_test_tree))\n",
    "print('R^2:', r2_score(y_test.values, y_test_tree))"
   ]
  },
  {
   "cell_type": "markdown",
   "id": "4c1d19a2-3e77-4a97-8b8d-ccfc5900e36e",
   "metadata": {
    "tags": []
   },
   "source": [
    "### Artificial Neural Net Model"
   ]
  },
  {
   "cell_type": "code",
   "execution_count": 48,
   "id": "1eb1aac7-ecc5-4d14-b95c-5ac6ab9d07d4",
   "metadata": {},
   "outputs": [
    {
     "name": "stdout",
     "output_type": "stream",
     "text": [
      "ANN Model Train Performance\n",
      "Bias: [9.98694375]\n",
      "Score: 0.4410546514509964\n",
      "MAE: 0.244024096234873\n",
      "RMSE: 0.3153102698463194\n",
      "MSE: 0.09942056627055874\n",
      "R^2: 0.4410546514509964\n",
      "\n",
      "Ann Model Test Performance\n",
      "MAE: 0.29773782054827386\n",
      "RMSE: 0.3798475904849077\n",
      "MSE: 0.14428419199719011\n",
      "R^2: 0.2046412882433245\n"
     ]
    }
   ],
   "source": [
    "# Build and train model\n",
    "ann_scale = StandardScaler()\n",
    "ann = MLPRegressor(hidden_layer_sizes = (50, 25, 10),\n",
    "                   solver='sgd', \n",
    "                   max_iter = 400,\n",
    "                  random_state = 42)\n",
    "\n",
    "steps3 = [('ann_scale', ann_scale),\n",
    "          ('ann', ann)]\n",
    "\n",
    "pipe_ann = Pipeline(steps3)\n",
    "pipe_ann.fit(X_train.values, y_train.values)\n",
    "\n",
    "# Predict target values\n",
    "y_pred_ann = pipe_ann.predict(X_train.values)\n",
    "\n",
    "# Evaluate performance on training data\n",
    "print('ANN Model Train Performance')\n",
    "print('Bias:', pipe_ann.predict([[0, 0, 0, 0, 0]]))\n",
    "print('Score:', pipe_ann.score(X_train.values, y_train.values))\n",
    "print('MAE:', mean_absolute_error(y_train.values, y_pred_ann))\n",
    "print('RMSE:', np.sqrt(mean_squared_error(y_train.values, y_pred_ann)))\n",
    "print('MSE:', mean_squared_error(y_train.values, y_pred_ann))\n",
    "print('R^2:', r2_score(y_train.values, y_pred_ann))\n",
    "print()\n",
    "\n",
    "# Evaluate performance on test data\n",
    "y_test_ann = pipe_ann.predict(X_test.values)\n",
    "\n",
    "print('Ann Model Test Performance')\n",
    "print('MAE:', mean_absolute_error(y_test.values, y_test_ann))\n",
    "print('RMSE:', np.sqrt(mean_squared_error(y_test.values, y_test_ann)))\n",
    "print('MSE:', mean_squared_error(y_test.values, y_test_ann))\n",
    "print('R^2:', r2_score(y_test.values, y_test_ann))"
   ]
  },
  {
   "cell_type": "markdown",
   "id": "464be7e2-ea4e-4254-aa68-273defc370a7",
   "metadata": {},
   "source": [
    "### Comparison of Results\n",
    "\n",
    "| Model | Set | RMSE | R2 |\n",
    "|:---|:---|:---|:---|\n",
    "|Linear Regression|Training|0.35|32.53|\n",
    "||Test|0.33|39.52|\n",
    "|Polynomial|Training|0.31|45.94|\n",
    "||Test|0.33|40.96|\n",
    "|SVR|Training|0.33|39.58|\n",
    "||Test|0.32|43.60|\n",
    "|Decision Tree|Training|0.32|41.49|\n",
    "||Test|0.40|12.22|\n",
    "|Artificial Neural Network|Training|0.32|44.11|\n",
    "||Test|0.38|20.46|"
   ]
  },
  {
   "cell_type": "markdown",
   "id": "8046bece",
   "metadata": {},
   "source": [
    "The SVR model has the most consistent performance between the train and test data."
   ]
  },
  {
   "cell_type": "markdown",
   "id": "f163feac",
   "metadata": {},
   "source": [
    "### Hyperparameter Tuning"
   ]
  },
  {
   "cell_type": "code",
   "execution_count": 49,
   "id": "815cf8d9",
   "metadata": {},
   "outputs": [
    {
     "name": "stdout",
     "output_type": "stream",
     "text": [
      "{'C': 0.1, 'epsilon': 0.1}\n"
     ]
    }
   ],
   "source": [
    "X_scale = svr_scale.fit_transform(X)\n",
    "\n",
    "svr2 = SVR()\n",
    "\n",
    "param_grid = [\n",
    "    {'C': [0.01, 0.1, 0.5, 1.0],\n",
    "    'epsilon': [0.01, 0.1, 0.5, 1.0]}\n",
    "]\n",
    "\n",
    "grid_search = GridSearchCV(svr2, param_grid, cv = 3, scoring = 'r2')\n",
    "grid_search.fit(X_scale, y)\n",
    "\n",
    "best_params = grid_search.best_params_\n",
    "print(best_params)"
   ]
  },
  {
   "cell_type": "code",
   "execution_count": 50,
   "id": "96031113",
   "metadata": {},
   "outputs": [],
   "source": [
    "best_c = grid_search.best_params_['C']\n",
    "best_epsilon = grid_search.best_params_['epsilon']"
   ]
  },
  {
   "cell_type": "markdown",
   "id": "e9c9b9d3",
   "metadata": {},
   "source": [
    "### Final Model"
   ]
  },
  {
   "cell_type": "code",
   "execution_count": 51,
   "id": "2143c106",
   "metadata": {},
   "outputs": [
    {
     "name": "stdout",
     "output_type": "stream",
     "text": [
      "Final SVR Model Training Performance\n",
      "R^2: 0.39580438822408803\n",
      "\n",
      "Final SVR Model Test Performance\n",
      "R^2: 0.43599312365960097\n"
     ]
    }
   ],
   "source": [
    "# Final SVR model\n",
    "best_svr = SVR(C = best_c, epsilon = best_epsilon)\n",
    "svr_scaler = StandardScaler()\n",
    "\n",
    "steps_final = [('svr_scaler', svr_scaler),\n",
    "              ('best_svr', best_svr)]\n",
    "\n",
    "final_model = Pipeline(steps_final)\n",
    "final_model.fit(X_train.values, y_train.values)\n",
    "\n",
    "y_pred_final = final_model.predict(X_train.values)\n",
    "\n",
    "print('Final SVR Model Training Performance')\n",
    "print('R^2:', r2_score(y_train.values, y_pred_final))\n",
    "print()\n",
    "\n",
    "y_pred_test_final = final_model.predict(X_test.values)\n",
    "\n",
    "print('Final SVR Model Test Performance')\n",
    "print('R^2:', r2_score(y_test.values, y_pred_test_final))"
   ]
  },
  {
   "cell_type": "code",
   "execution_count": 52,
   "id": "13cf298c",
   "metadata": {},
   "outputs": [
    {
     "name": "stdout",
     "output_type": "stream",
     "text": [
      "Feature: 0, Score: 0.00938\n",
      "Feature: 1, Score: 0.09675\n",
      "Feature: 2, Score: 0.00668\n",
      "Feature: 3, Score: 0.01602\n",
      "Feature: 4, Score: 0.01201\n"
     ]
    },
    {
     "data": {
      "image/png": "[encoded data removed]",
      "text/plain": [
       "<Figure size 432x288 with 1 Axes>"
      ]
     },
     "metadata": {
      "needs_background": "light"
     },
     "output_type": "display_data"
    }
   ],
   "source": [
    "# Perform permutation importance\n",
    "results = permutation_importance(final_model, X.values, y.values, scoring='neg_mean_squared_error')\n",
    "\n",
    "# Get importance\n",
    "importance = results.importances_mean\n",
    "\n",
    "# Summarize feature importance\n",
    "for i,v in enumerate(importance):\n",
    "    print('Feature: %0d, Score: %.5f' % (i,v))\n",
    "    \n",
    "# Plot feature importance\n",
    "plt.bar(feature_list, importance)\n",
    "plt.title('Feature Importance for SVR Model')\n",
    "plt.xlabel('Feature')\n",
    "plt.ylabel('Relative Importance')\n",
    "plt.show()"
   ]
  },
  {
   "cell_type": "code",
   "execution_count": 53,
   "id": "e222a4b7-64e0-4b2b-885c-395788c16ecf",
   "metadata": {},
   "outputs": [],
   "source": [
    "# Export importance to CSV for Tableau analysis\n",
    "# importance_df = pd.DataFrame(importance, columns = ['importance'], index = feature_list)\n",
    "# importance_df\n",
    "# importance_df.to_csv('/Users/macbeth/Documents/Codecademy_Projects/Inference-Final-Project/importance.csv')"
   ]
  },
  {
   "cell_type": "code",
   "execution_count": 54,
   "id": "2129c064",
   "metadata": {},
   "outputs": [],
   "source": [
    "# Calculate fitted values and residuals\n",
    "fitted_values = pipe_svr.predict(X)\n",
    "residuals = y - fitted_values"
   ]
  },
  {
   "cell_type": "code",
   "execution_count": 55,
   "id": "00ba0bf3-2ffd-444c-b683-63a8aaccd7c2",
   "metadata": {},
   "outputs": [],
   "source": [
    "# Export residuals and fitted values to CSV for Tableau analysis\n",
    "# res_fit_dict = {'fitted_values': fitted_values, 'residuals': residuals}\n",
    "# res_fit_df = pd.DataFrame(res_fit_dict)\n",
    "# res_fit_df.to_csv('/Users/macbeth/Documents/Codecademy_Projects/Inference-Final-Project/res_fit_data.csv')"
   ]
  },
  {
   "cell_type": "code",
   "execution_count": 56,
   "id": "27ad7f16",
   "metadata": {},
   "outputs": [
    {
     "data": {
      "image/png": "[encoded data removed]",
      "text/plain": [
       "<Figure size 432x288 with 1 Axes>"
      ]
     },
     "metadata": {
      "needs_background": "light"
     },
     "output_type": "display_data"
    },
    {
     "data": {
      "text/plain": [
       "<Figure size 432x288 with 0 Axes>"
      ]
     },
     "metadata": {},
     "output_type": "display_data"
    }
   ],
   "source": [
    "# Check normality assumption\n",
    "plt.hist(residuals)\n",
    "plt.title('Distribution of Residuals from SVR Model')\n",
    "plt.show()\n",
    "plt.clf()"
   ]
  },
  {
   "cell_type": "markdown",
   "id": "fd0c1217",
   "metadata": {},
   "source": [
    "The residuals are slightly right-skewed"
   ]
  },
  {
   "cell_type": "code",
   "execution_count": 57,
   "id": "73e7cfe1",
   "metadata": {
    "scrolled": true
   },
   "outputs": [
    {
     "data": {
      "image/png": "[encoded data removed]",
      "text/plain": [
       "<Figure size 432x288 with 1 Axes>"
      ]
     },
     "metadata": {
      "needs_background": "light"
     },
     "output_type": "display_data"
    },
    {
     "data": {
      "text/plain": [
       "<Figure size 432x288 with 0 Axes>"
      ]
     },
     "metadata": {},
     "output_type": "display_data"
    }
   ],
   "source": [
    "# Check homoscedasticity assumption\n",
    "plt.scatter(fitted_values, residuals)\n",
    "plt.axhline(y=0, color='black', linestyle='-')\n",
    "plt.title('SVR Model Residuals vs. Fitted Values')\n",
    "plt.show()\n",
    "plt.clf()"
   ]
  },
  {
   "cell_type": "markdown",
   "id": "d228dcc4",
   "metadata": {},
   "source": [
    "There is a relatively even distribution of residuals vs fitted values, indicating homoscedasticity."
   ]
  },
  {
   "cell_type": "markdown",
   "id": "ae035edf",
   "metadata": {},
   "source": [
    "# Conclusions"
   ]
  },
  {
   "cell_type": "markdown",
   "id": "b567f410",
   "metadata": {},
   "source": [
    "## Goal 1:"
   ]
  },
  {
   "cell_type": "markdown",
   "id": "f4ff3f0d",
   "metadata": {},
   "source": [
    "There is not enough evidence to reject the null hypothesis. The p-value of the two-sample t-test between data from before and after March 20, 2022 is 0.98, much higher than the significance threshold of 0.05, indicating that there is not a significant difference between the two data sets.\n",
    "\n",
    "The one-way ANOVA showed that the data from at least one year was significantly different than the others, but that year was 2021, not 2022. This is further illustrated by the side-by-side boxplots of the data.\n",
    "\n",
    "My average mile pace for regular 3-4 mile runs has remained roughly consistent over the past 6 years."
   ]
  },
  {
   "cell_type": "markdown",
   "id": "5ba4f653",
   "metadata": {},
   "source": [
    "## Goal 2:"
   ]
  },
  {
   "cell_type": "markdown",
   "id": "44d88b5b",
   "metadata": {},
   "source": [
    "The best model I was able to make was a support vector regression model. Surprisingly, the distance of the run had the lowest impact on the average mile pace. This could be because I am more likely to run longer distances when I am training for a race, and therefore in better shape. The biggest factor that affects my pace is the temperature. \n",
    "\n",
    "This model only accounts for about 40% of the variation in my average mile pace. Because this is heavily dependent on things that are harder to measure, like how tired/energized I am, how much I've been training, and how much other activity I've been doing, I think this is a reasonable level with the information I have available."
   ]
  },
  {
   "cell_type": "markdown",
   "id": "be5445d8",
   "metadata": {},
   "source": [
    "## Other Observations"
   ]
  },
  {
   "cell_type": "markdown",
   "id": "69adcccd",
   "metadata": {},
   "source": [
    "The distribution of my mile paces is normal, but slightly right-skewed (skewed towards slower times).\n",
    "\n",
    "My total run distance by year (Jan-Sept) was pretty consistent for 2017-2019, then dropped to a lower, but still consistent level for 2020-2022. This makes sense, because I was using training schedules in 2017-2019, which leads me to run farther. This is also demonstrated in the heatmap of miles per month, where I ran more miles in the summers of those years than any other times in this dataset."
   ]
  },
  {
   "cell_type": "code",
   "execution_count": 58,
   "id": "55b18feb-7fc7-4860-b31b-3a4db658901f",
   "metadata": {},
   "outputs": [
    {
     "name": "stdout",
     "output_type": "stream",
     "text": [
      "Last updated: 2023-06-11T17:26:27.504189-05:00\n",
      "\n",
      "Python implementation: CPython\n",
      "Python version       : 3.9.12\n",
      "IPython version      : 8.2.0\n",
      "\n",
      "Compiler    : Clang 12.0.0 \n",
      "OS          : Darwin\n",
      "Release     : 22.5.0\n",
      "Machine     : x86_64\n",
      "Processor   : i386\n",
      "CPU cores   : 8\n",
      "Architecture: 64bit\n",
      "\n"
     ]
    }
   ],
   "source": [
    "from watermark import watermark\n",
    "print(watermark())"
   ]
  },
  {
   "cell_type": "code",
   "execution_count": null,
   "id": "6c2dd7d5-a9fc-44c3-a03d-a16a7282a5f2",
   "metadata": {},
   "outputs": [],
   "source": []
  }
 ],
 "metadata": {
  "kernelspec": {
   "display_name": "Python 3 (ipykernel)",
   "language": "python",
   "name": "python3"
  },
  "language_info": {
   "codemirror_mode": {
    "name": "ipython",
    "version": 3
   },
   "file_extension": ".py",
   "mimetype": "text/x-python",
   "name": "python",
   "nbconvert_exporter": "python",
   "pygments_lexer": "ipython3",
   "version": "3.9.12"
  }
 },
 "nbformat": 4,
 "nbformat_minor": 5
}

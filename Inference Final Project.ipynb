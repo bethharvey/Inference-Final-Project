{
 "cells": [
  {
   "cell_type": "markdown",
   "id": "5fcc6107",
   "metadata": {},
   "source": [
    "# Scope"
   ]
  },
  {
   "cell_type": "markdown",
   "id": "6f2c75c6",
   "metadata": {},
   "source": [
    "Goal 1: Use a two-sample t-test to determine if there is a significant change in my average running pace since March 20, 2022. The data will be imported from my Garmin account, which I use to track my runs. The results may help me determine the reason for my chronic fatigue since that time.\n",
    "\n",
    "Goal 2: Use linear regression model to predict mile pace based on total distance and weather conditions."
   ]
  },
  {
   "cell_type": "code",
   "execution_count": 2,
   "id": "60d79336",
   "metadata": {},
   "outputs": [],
   "source": [
    "# Import libraries\n",
    "import pandas as pd\n",
    "import matplotlib.pyplot as plt\n",
    "import seaborn as sns"
   ]
  },
  {
   "cell_type": "code",
   "execution_count": 3,
   "id": "0ef99be1",
   "metadata": {},
   "outputs": [],
   "source": [
    "# Import data\n",
    "activities_all = pd.read_csv('Activities.csv')"
   ]
  },
  {
   "cell_type": "code",
   "execution_count": 4,
   "id": "7c06eacd",
   "metadata": {},
   "outputs": [
    {
     "name": "stdout",
     "output_type": "stream",
     "text": [
      "  Activity Type                 Date  Favorite           Title  Distance  \\\n",
      "0       Running  2022-09-21 17:52:41     False  Lenexa Running      3.00   \n",
      "1       Running  2022-09-12 16:50:18     False  Lenexa Running      3.01   \n",
      "2       Running  2022-09-09 16:13:22     False  Lenexa Running      4.00   \n",
      "3       Running  2022-09-06 17:03:55     False  Lenexa Running      3.00   \n",
      "4       Running  2022-08-31 17:30:04     False  Lenexa Running      3.00   \n",
      "5       Running  2022-08-29 16:17:09     False  Lenexa Running      3.01   \n",
      "6       Running  2022-08-24 17:15:12     False  Lenexa Running      3.00   \n",
      "7       Running  2022-08-22 16:40:29     False  Lenexa Running      3.00   \n",
      "8       Running  2022-08-19 16:41:01     False  Lenexa Running      4.00   \n",
      "9       Running  2022-08-17 16:49:32     False  Lenexa Running      4.00   \n",
      "\n",
      "  Calories      Time Avg HR Max HR  Avg Run Cadence  ...  Min Temp  \\\n",
      "0      274  00:26:48    161    173              167  ...       0.0   \n",
      "1      281  00:26:21    166    179              168  ...       0.0   \n",
      "2      417  00:39:06    166    181              156  ...       0.0   \n",
      "3      280  00:26:40    163    177              166  ...       0.0   \n",
      "4      282  00:26:10    167    181              168  ...       0.0   \n",
      "5      266  00:26:09    161    177              168  ...       0.0   \n",
      "6      277  00:26:41    163    179              167  ...       0.0   \n",
      "7      275  00:27:44    159    176              160  ...       0.0   \n",
      "8      362  00:34:33    166    181              168  ...       0.0   \n",
      "9      367  00:35:36    163    183              167  ...       0.0   \n",
      "\n",
      "  Surface Interval Decompression Best Lap Time Number of Laps  Max Temp  \\\n",
      "0             0:00            No    00:02.01.6              4       0.0   \n",
      "1             0:00            No    00:02.34.9              4       0.0   \n",
      "2             0:00            No    00:00.58.8              5       0.0   \n",
      "3             0:00            No    08:47.63.7              3       0.0   \n",
      "4             0:00            No    00:01.69.5              4       0.0   \n",
      "5             0:00            No      00:01.87              4       0.0   \n",
      "6             0:00            No    00:00.16.6              4       0.0   \n",
      "7             0:00            No    08:42.38.2              3       0.0   \n",
      "8             0:00            No    08:35.32.2              4       0.0   \n",
      "9             0:00            No    08:42.83.6              4       0.0   \n",
      "\n",
      "   Moving Time  Elapsed Time  Min Elevation  Max Elevation  \n",
      "0     00:26:44      00:27:26            951            996  \n",
      "1     00:26:19      00:26:25            952            996  \n",
      "2     00:39:06      00:39:06            952          1,027  \n",
      "3     00:26:40      00:26:40            952            997  \n",
      "4     00:26:04      00:26:38            952            996  \n",
      "5     00:26:08      00:26:09            951            996  \n",
      "6     00:26:39      00:26:48            952            996  \n",
      "7     00:27:41      00:27:51            952            997  \n",
      "8     00:34:30      00:34:37            952          1,027  \n",
      "9     00:35:27      00:36:04            952          1,017  \n",
      "\n",
      "[10 rows x 40 columns]\n"
     ]
    }
   ],
   "source": [
    "# View first 10 rows of data\n",
    "print(activities_all.head(10))"
   ]
  }
 ],
 "metadata": {
  "kernelspec": {
   "display_name": "Python 3 (ipykernel)",
   "language": "python",
   "name": "python3"
  },
  "language_info": {
   "codemirror_mode": {
    "name": "ipython",
    "version": 3
   },
   "file_extension": ".py",
   "mimetype": "text/x-python",
   "name": "python",
   "nbconvert_exporter": "python",
   "pygments_lexer": "ipython3",
   "version": "3.9.12"
  }
 },
 "nbformat": 4,
 "nbformat_minor": 5
}

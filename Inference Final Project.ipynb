{
 "cells": [
  {
   "cell_type": "markdown",
   "id": "5fcc6107",
   "metadata": {},
   "source": [
    "# Scope"
   ]
  },
  {
   "cell_type": "markdown",
   "id": "6f2c75c6",
   "metadata": {},
   "source": [
    "Goal 1: Use a two-sample t-test, ANOVA and Tukey Range Test to determine if there is a significant change in my average running pace since March 20, 2022. The data will be imported from my Garmin account, which I use to track my runs. The results may help me determine the reason for my chronic fatigue since that time.\n",
    "\n",
    "Goal 2: Use linear regression model to predict mile pace based on weather conditions and other run features."
   ]
  },
  {
   "cell_type": "code",
   "execution_count": 1,
   "id": "60d79336",
   "metadata": {},
   "outputs": [],
   "source": [
    "# Import libraries\n",
    "import pandas as pd\n",
    "import matplotlib.pyplot as plt\n",
    "import seaborn as sns\n",
    "import numpy as np\n",
    "import pandas.plotting as pplt\n",
    "import statsmodels.api as sm"
   ]
  },
  {
   "cell_type": "code",
   "execution_count": 2,
   "id": "0ef99be1",
   "metadata": {},
   "outputs": [],
   "source": [
    "# Import data\n",
    "activities_all = pd.read_csv('Activities.csv')"
   ]
  },
  {
   "cell_type": "markdown",
   "id": "735f8bcf",
   "metadata": {},
   "source": [
    "## Data Inspection and Cleaning"
   ]
  },
  {
   "cell_type": "code",
   "execution_count": 3,
   "id": "7c06eacd",
   "metadata": {},
   "outputs": [
    {
     "data": {
      "text/html": [
       "<div>\n",
       "<style scoped>\n",
       "    .dataframe tbody tr th:only-of-type {\n",
       "        vertical-align: middle;\n",
       "    }\n",
       "\n",
       "    .dataframe tbody tr th {\n",
       "        vertical-align: top;\n",
       "    }\n",
       "\n",
       "    .dataframe thead th {\n",
       "        text-align: right;\n",
       "    }\n",
       "</style>\n",
       "<table border=\"1\" class=\"dataframe\">\n",
       "  <thead>\n",
       "    <tr style=\"text-align: right;\">\n",
       "      <th></th>\n",
       "      <th>Activity Type</th>\n",
       "      <th>Date</th>\n",
       "      <th>Favorite</th>\n",
       "      <th>Title</th>\n",
       "      <th>Distance</th>\n",
       "      <th>Calories</th>\n",
       "      <th>Time</th>\n",
       "      <th>Avg HR</th>\n",
       "      <th>Max HR</th>\n",
       "      <th>Avg Run Cadence</th>\n",
       "      <th>Max Run Cadence</th>\n",
       "      <th>Avg Pace</th>\n",
       "      <th>Best Pace</th>\n",
       "      <th>Total Ascent</th>\n",
       "      <th>Total Descent</th>\n",
       "      <th>Avg Stride Length</th>\n",
       "      <th>Avg Vertical Ratio</th>\n",
       "      <th>Avg Vertical Oscillation</th>\n",
       "      <th>Avg Ground Contact Time</th>\n",
       "      <th>Avg Run Cadence.1</th>\n",
       "      <th>Max Run Cadence.1</th>\n",
       "      <th>Training Stress Score®</th>\n",
       "      <th>Avg Power</th>\n",
       "      <th>Max Power</th>\n",
       "      <th>Grit</th>\n",
       "      <th>Flow</th>\n",
       "      <th>Avg. Swolf</th>\n",
       "      <th>Avg Stroke Rate</th>\n",
       "      <th>Total Reps</th>\n",
       "      <th>Dive Time</th>\n",
       "      <th>Min Temp</th>\n",
       "      <th>Surface Interval</th>\n",
       "      <th>Decompression</th>\n",
       "      <th>Best Lap Time</th>\n",
       "      <th>Number of Laps</th>\n",
       "      <th>Max Temp</th>\n",
       "      <th>Moving Time</th>\n",
       "      <th>Elapsed Time</th>\n",
       "      <th>Min Elevation</th>\n",
       "      <th>Max Elevation</th>\n",
       "    </tr>\n",
       "  </thead>\n",
       "  <tbody>\n",
       "    <tr>\n",
       "      <th>0</th>\n",
       "      <td>Running</td>\n",
       "      <td>2022-09-21 17:52:41</td>\n",
       "      <td>False</td>\n",
       "      <td>Lenexa Running</td>\n",
       "      <td>3.00</td>\n",
       "      <td>274</td>\n",
       "      <td>00:26:48</td>\n",
       "      <td>161</td>\n",
       "      <td>173</td>\n",
       "      <td>167</td>\n",
       "      <td>172</td>\n",
       "      <td>8:55</td>\n",
       "      <td>8:24</td>\n",
       "      <td>81</td>\n",
       "      <td>102</td>\n",
       "      <td>1.08</td>\n",
       "      <td>0.0</td>\n",
       "      <td>0.0</td>\n",
       "      <td>0</td>\n",
       "      <td>0</td>\n",
       "      <td>0</td>\n",
       "      <td>0.0</td>\n",
       "      <td>0</td>\n",
       "      <td>0</td>\n",
       "      <td>0.0</td>\n",
       "      <td>0.0</td>\n",
       "      <td>0</td>\n",
       "      <td>0</td>\n",
       "      <td>0</td>\n",
       "      <td>0:00</td>\n",
       "      <td>0.0</td>\n",
       "      <td>0:00</td>\n",
       "      <td>No</td>\n",
       "      <td>00:02.01.6</td>\n",
       "      <td>4</td>\n",
       "      <td>0.0</td>\n",
       "      <td>00:26:44</td>\n",
       "      <td>00:27:26</td>\n",
       "      <td>951</td>\n",
       "      <td>996</td>\n",
       "    </tr>\n",
       "    <tr>\n",
       "      <th>1</th>\n",
       "      <td>Running</td>\n",
       "      <td>2022-09-12 16:50:18</td>\n",
       "      <td>False</td>\n",
       "      <td>Lenexa Running</td>\n",
       "      <td>3.01</td>\n",
       "      <td>281</td>\n",
       "      <td>00:26:21</td>\n",
       "      <td>166</td>\n",
       "      <td>179</td>\n",
       "      <td>168</td>\n",
       "      <td>174</td>\n",
       "      <td>8:46</td>\n",
       "      <td>8:16</td>\n",
       "      <td>60</td>\n",
       "      <td>65</td>\n",
       "      <td>1.09</td>\n",
       "      <td>0.0</td>\n",
       "      <td>0.0</td>\n",
       "      <td>0</td>\n",
       "      <td>0</td>\n",
       "      <td>0</td>\n",
       "      <td>0.0</td>\n",
       "      <td>0</td>\n",
       "      <td>0</td>\n",
       "      <td>0.0</td>\n",
       "      <td>0.0</td>\n",
       "      <td>0</td>\n",
       "      <td>0</td>\n",
       "      <td>0</td>\n",
       "      <td>0:00</td>\n",
       "      <td>0.0</td>\n",
       "      <td>0:00</td>\n",
       "      <td>No</td>\n",
       "      <td>00:02.34.9</td>\n",
       "      <td>4</td>\n",
       "      <td>0.0</td>\n",
       "      <td>00:26:19</td>\n",
       "      <td>00:26:25</td>\n",
       "      <td>952</td>\n",
       "      <td>996</td>\n",
       "    </tr>\n",
       "    <tr>\n",
       "      <th>2</th>\n",
       "      <td>Running</td>\n",
       "      <td>2022-09-09 16:13:22</td>\n",
       "      <td>False</td>\n",
       "      <td>Lenexa Running</td>\n",
       "      <td>4.00</td>\n",
       "      <td>417</td>\n",
       "      <td>00:39:06</td>\n",
       "      <td>166</td>\n",
       "      <td>181</td>\n",
       "      <td>156</td>\n",
       "      <td>179</td>\n",
       "      <td>9:46</td>\n",
       "      <td>8:17</td>\n",
       "      <td>149</td>\n",
       "      <td>144</td>\n",
       "      <td>1.06</td>\n",
       "      <td>0.0</td>\n",
       "      <td>0.0</td>\n",
       "      <td>0</td>\n",
       "      <td>0</td>\n",
       "      <td>0</td>\n",
       "      <td>0.0</td>\n",
       "      <td>0</td>\n",
       "      <td>0</td>\n",
       "      <td>0.0</td>\n",
       "      <td>0.0</td>\n",
       "      <td>0</td>\n",
       "      <td>0</td>\n",
       "      <td>0</td>\n",
       "      <td>0:00</td>\n",
       "      <td>0.0</td>\n",
       "      <td>0:00</td>\n",
       "      <td>No</td>\n",
       "      <td>00:00.58.8</td>\n",
       "      <td>5</td>\n",
       "      <td>0.0</td>\n",
       "      <td>00:39:06</td>\n",
       "      <td>00:39:06</td>\n",
       "      <td>952</td>\n",
       "      <td>1,027</td>\n",
       "    </tr>\n",
       "    <tr>\n",
       "      <th>3</th>\n",
       "      <td>Running</td>\n",
       "      <td>2022-09-06 17:03:55</td>\n",
       "      <td>False</td>\n",
       "      <td>Lenexa Running</td>\n",
       "      <td>3.00</td>\n",
       "      <td>280</td>\n",
       "      <td>00:26:40</td>\n",
       "      <td>163</td>\n",
       "      <td>177</td>\n",
       "      <td>166</td>\n",
       "      <td>172</td>\n",
       "      <td>8:53</td>\n",
       "      <td>8:13</td>\n",
       "      <td>50</td>\n",
       "      <td>61</td>\n",
       "      <td>1.09</td>\n",
       "      <td>0.0</td>\n",
       "      <td>0.0</td>\n",
       "      <td>0</td>\n",
       "      <td>0</td>\n",
       "      <td>0</td>\n",
       "      <td>0.0</td>\n",
       "      <td>0</td>\n",
       "      <td>0</td>\n",
       "      <td>0.0</td>\n",
       "      <td>0.0</td>\n",
       "      <td>0</td>\n",
       "      <td>0</td>\n",
       "      <td>0</td>\n",
       "      <td>0:00</td>\n",
       "      <td>0.0</td>\n",
       "      <td>0:00</td>\n",
       "      <td>No</td>\n",
       "      <td>08:47.63.7</td>\n",
       "      <td>3</td>\n",
       "      <td>0.0</td>\n",
       "      <td>00:26:40</td>\n",
       "      <td>00:26:40</td>\n",
       "      <td>952</td>\n",
       "      <td>997</td>\n",
       "    </tr>\n",
       "    <tr>\n",
       "      <th>4</th>\n",
       "      <td>Running</td>\n",
       "      <td>2022-08-31 17:30:04</td>\n",
       "      <td>False</td>\n",
       "      <td>Lenexa Running</td>\n",
       "      <td>3.00</td>\n",
       "      <td>282</td>\n",
       "      <td>00:26:10</td>\n",
       "      <td>167</td>\n",
       "      <td>181</td>\n",
       "      <td>168</td>\n",
       "      <td>172</td>\n",
       "      <td>8:43</td>\n",
       "      <td>8:11</td>\n",
       "      <td>50</td>\n",
       "      <td>54</td>\n",
       "      <td>1.10</td>\n",
       "      <td>0.0</td>\n",
       "      <td>0.0</td>\n",
       "      <td>0</td>\n",
       "      <td>0</td>\n",
       "      <td>0</td>\n",
       "      <td>0.0</td>\n",
       "      <td>0</td>\n",
       "      <td>0</td>\n",
       "      <td>0.0</td>\n",
       "      <td>0.0</td>\n",
       "      <td>0</td>\n",
       "      <td>0</td>\n",
       "      <td>0</td>\n",
       "      <td>0:00</td>\n",
       "      <td>0.0</td>\n",
       "      <td>0:00</td>\n",
       "      <td>No</td>\n",
       "      <td>00:01.69.5</td>\n",
       "      <td>4</td>\n",
       "      <td>0.0</td>\n",
       "      <td>00:26:04</td>\n",
       "      <td>00:26:38</td>\n",
       "      <td>952</td>\n",
       "      <td>996</td>\n",
       "    </tr>\n",
       "  </tbody>\n",
       "</table>\n",
       "</div>"
      ],
      "text/plain": [
       "  Activity Type                 Date  Favorite           Title  Distance  \\\n",
       "0       Running  2022-09-21 17:52:41     False  Lenexa Running      3.00   \n",
       "1       Running  2022-09-12 16:50:18     False  Lenexa Running      3.01   \n",
       "2       Running  2022-09-09 16:13:22     False  Lenexa Running      4.00   \n",
       "3       Running  2022-09-06 17:03:55     False  Lenexa Running      3.00   \n",
       "4       Running  2022-08-31 17:30:04     False  Lenexa Running      3.00   \n",
       "\n",
       "  Calories      Time Avg HR Max HR  Avg Run Cadence  Max Run Cadence Avg Pace  \\\n",
       "0      274  00:26:48    161    173              167              172     8:55   \n",
       "1      281  00:26:21    166    179              168              174     8:46   \n",
       "2      417  00:39:06    166    181              156              179     9:46   \n",
       "3      280  00:26:40    163    177              166              172     8:53   \n",
       "4      282  00:26:10    167    181              168              172     8:43   \n",
       "\n",
       "  Best Pace Total Ascent Total Descent  Avg Stride Length  Avg Vertical Ratio  \\\n",
       "0      8:24           81           102               1.08                 0.0   \n",
       "1      8:16           60            65               1.09                 0.0   \n",
       "2      8:17          149           144               1.06                 0.0   \n",
       "3      8:13           50            61               1.09                 0.0   \n",
       "4      8:11           50            54               1.10                 0.0   \n",
       "\n",
       "   Avg Vertical Oscillation  Avg Ground Contact Time  Avg Run Cadence.1  \\\n",
       "0                       0.0                        0                  0   \n",
       "1                       0.0                        0                  0   \n",
       "2                       0.0                        0                  0   \n",
       "3                       0.0                        0                  0   \n",
       "4                       0.0                        0                  0   \n",
       "\n",
       "   Max Run Cadence.1  Training Stress Score®  Avg Power  Max Power  Grit  \\\n",
       "0                  0                     0.0          0          0   0.0   \n",
       "1                  0                     0.0          0          0   0.0   \n",
       "2                  0                     0.0          0          0   0.0   \n",
       "3                  0                     0.0          0          0   0.0   \n",
       "4                  0                     0.0          0          0   0.0   \n",
       "\n",
       "   Flow  Avg. Swolf  Avg Stroke Rate  Total Reps Dive Time  Min Temp  \\\n",
       "0   0.0           0                0           0      0:00       0.0   \n",
       "1   0.0           0                0           0      0:00       0.0   \n",
       "2   0.0           0                0           0      0:00       0.0   \n",
       "3   0.0           0                0           0      0:00       0.0   \n",
       "4   0.0           0                0           0      0:00       0.0   \n",
       "\n",
       "  Surface Interval Decompression Best Lap Time Number of Laps  Max Temp  \\\n",
       "0             0:00            No    00:02.01.6              4       0.0   \n",
       "1             0:00            No    00:02.34.9              4       0.0   \n",
       "2             0:00            No    00:00.58.8              5       0.0   \n",
       "3             0:00            No    08:47.63.7              3       0.0   \n",
       "4             0:00            No    00:01.69.5              4       0.0   \n",
       "\n",
       "  Moving Time Elapsed Time Min Elevation Max Elevation  \n",
       "0    00:26:44     00:27:26           951           996  \n",
       "1    00:26:19     00:26:25           952           996  \n",
       "2    00:39:06     00:39:06           952         1,027  \n",
       "3    00:26:40     00:26:40           952           997  \n",
       "4    00:26:04     00:26:38           952           996  "
      ]
     },
     "execution_count": 3,
     "metadata": {},
     "output_type": "execute_result"
    }
   ],
   "source": [
    "# Display all columns\n",
    "pd.set_option('display.max_columns', None)\n",
    "\n",
    "#View first 5 rows of data\n",
    "activities_all.head()"
   ]
  },
  {
   "cell_type": "code",
   "execution_count": 4,
   "id": "29a184c5",
   "metadata": {},
   "outputs": [
    {
     "data": {
      "text/plain": [
       "Index(['Activity Type', 'Date', 'Favorite', 'Title', 'Distance', 'Calories',\n",
       "       'Time', 'Avg HR', 'Max HR', 'Avg Run Cadence', 'Max Run Cadence',\n",
       "       'Avg Pace', 'Best Pace', 'Total Ascent', 'Total Descent',\n",
       "       'Avg Stride Length', 'Avg Vertical Ratio', 'Avg Vertical Oscillation',\n",
       "       'Avg Ground Contact Time', 'Avg Run Cadence.1', 'Max Run Cadence.1',\n",
       "       'Training Stress Score®', 'Avg Power', 'Max Power', 'Grit', 'Flow',\n",
       "       'Avg. Swolf', 'Avg Stroke Rate', 'Total Reps', 'Dive Time', 'Min Temp',\n",
       "       'Surface Interval', 'Decompression', 'Best Lap Time', 'Number of Laps',\n",
       "       'Max Temp', 'Moving Time', 'Elapsed Time', 'Min Elevation',\n",
       "       'Max Elevation'],\n",
       "      dtype='object')"
      ]
     },
     "execution_count": 4,
     "metadata": {},
     "output_type": "execute_result"
    }
   ],
   "source": [
    "activities_all.columns"
   ]
  },
  {
   "cell_type": "code",
   "execution_count": 5,
   "id": "5d8844eb",
   "metadata": {},
   "outputs": [],
   "source": [
    "# Drop unnecessary columns\n",
    "activities_all = activities_all[['Activity Type', 'Date', 'Title', 'Distance', 'Calories', 'Time', 'Avg HR', 'Max HR', 'Avg Run Cadence', 'Max Run Cadence', 'Avg Pace','Best Pace', 'Total Ascent', 'Total Descent', 'Avg Stride Length', 'Moving Time', 'Elapsed Time', 'Min Elevation', 'Max Elevation']]"
   ]
  },
  {
   "cell_type": "code",
   "execution_count": 6,
   "id": "1e9329c8",
   "metadata": {},
   "outputs": [],
   "source": [
    "# Rename columns\n",
    "activities_all.columns = ['activity_type', 'date', 'title', 'distance', 'calories', 'time', 'avg_hr', 'max_hr', 'avg_cadence', 'max_cadence', 'avg_pace', 'best_pace', 'total_ascent', 'total_descent', 'avg_stride', 'moving_time', 'elapsed_time', 'min_elevation', 'max_elevation']"
   ]
  },
  {
   "cell_type": "code",
   "execution_count": 7,
   "id": "55051a72",
   "metadata": {},
   "outputs": [
    {
     "data": {
      "text/html": [
       "<div>\n",
       "<style scoped>\n",
       "    .dataframe tbody tr th:only-of-type {\n",
       "        vertical-align: middle;\n",
       "    }\n",
       "\n",
       "    .dataframe tbody tr th {\n",
       "        vertical-align: top;\n",
       "    }\n",
       "\n",
       "    .dataframe thead th {\n",
       "        text-align: right;\n",
       "    }\n",
       "</style>\n",
       "<table border=\"1\" class=\"dataframe\">\n",
       "  <thead>\n",
       "    <tr style=\"text-align: right;\">\n",
       "      <th></th>\n",
       "      <th>activity_type</th>\n",
       "      <th>date</th>\n",
       "      <th>title</th>\n",
       "      <th>distance</th>\n",
       "      <th>calories</th>\n",
       "      <th>time</th>\n",
       "      <th>avg_hr</th>\n",
       "      <th>max_hr</th>\n",
       "      <th>avg_cadence</th>\n",
       "      <th>max_cadence</th>\n",
       "      <th>avg_pace</th>\n",
       "      <th>best_pace</th>\n",
       "      <th>total_ascent</th>\n",
       "      <th>total_descent</th>\n",
       "      <th>avg_stride</th>\n",
       "      <th>moving_time</th>\n",
       "      <th>elapsed_time</th>\n",
       "      <th>min_elevation</th>\n",
       "      <th>max_elevation</th>\n",
       "    </tr>\n",
       "  </thead>\n",
       "  <tbody>\n",
       "    <tr>\n",
       "      <th>0</th>\n",
       "      <td>Running</td>\n",
       "      <td>2022-09-21 17:52:41</td>\n",
       "      <td>Lenexa Running</td>\n",
       "      <td>3.00</td>\n",
       "      <td>274</td>\n",
       "      <td>00:26:48</td>\n",
       "      <td>161</td>\n",
       "      <td>173</td>\n",
       "      <td>167</td>\n",
       "      <td>172</td>\n",
       "      <td>8:55</td>\n",
       "      <td>8:24</td>\n",
       "      <td>81</td>\n",
       "      <td>102</td>\n",
       "      <td>1.08</td>\n",
       "      <td>00:26:44</td>\n",
       "      <td>00:27:26</td>\n",
       "      <td>951</td>\n",
       "      <td>996</td>\n",
       "    </tr>\n",
       "    <tr>\n",
       "      <th>1</th>\n",
       "      <td>Running</td>\n",
       "      <td>2022-09-12 16:50:18</td>\n",
       "      <td>Lenexa Running</td>\n",
       "      <td>3.01</td>\n",
       "      <td>281</td>\n",
       "      <td>00:26:21</td>\n",
       "      <td>166</td>\n",
       "      <td>179</td>\n",
       "      <td>168</td>\n",
       "      <td>174</td>\n",
       "      <td>8:46</td>\n",
       "      <td>8:16</td>\n",
       "      <td>60</td>\n",
       "      <td>65</td>\n",
       "      <td>1.09</td>\n",
       "      <td>00:26:19</td>\n",
       "      <td>00:26:25</td>\n",
       "      <td>952</td>\n",
       "      <td>996</td>\n",
       "    </tr>\n",
       "    <tr>\n",
       "      <th>2</th>\n",
       "      <td>Running</td>\n",
       "      <td>2022-09-09 16:13:22</td>\n",
       "      <td>Lenexa Running</td>\n",
       "      <td>4.00</td>\n",
       "      <td>417</td>\n",
       "      <td>00:39:06</td>\n",
       "      <td>166</td>\n",
       "      <td>181</td>\n",
       "      <td>156</td>\n",
       "      <td>179</td>\n",
       "      <td>9:46</td>\n",
       "      <td>8:17</td>\n",
       "      <td>149</td>\n",
       "      <td>144</td>\n",
       "      <td>1.06</td>\n",
       "      <td>00:39:06</td>\n",
       "      <td>00:39:06</td>\n",
       "      <td>952</td>\n",
       "      <td>1,027</td>\n",
       "    </tr>\n",
       "    <tr>\n",
       "      <th>3</th>\n",
       "      <td>Running</td>\n",
       "      <td>2022-09-06 17:03:55</td>\n",
       "      <td>Lenexa Running</td>\n",
       "      <td>3.00</td>\n",
       "      <td>280</td>\n",
       "      <td>00:26:40</td>\n",
       "      <td>163</td>\n",
       "      <td>177</td>\n",
       "      <td>166</td>\n",
       "      <td>172</td>\n",
       "      <td>8:53</td>\n",
       "      <td>8:13</td>\n",
       "      <td>50</td>\n",
       "      <td>61</td>\n",
       "      <td>1.09</td>\n",
       "      <td>00:26:40</td>\n",
       "      <td>00:26:40</td>\n",
       "      <td>952</td>\n",
       "      <td>997</td>\n",
       "    </tr>\n",
       "    <tr>\n",
       "      <th>4</th>\n",
       "      <td>Running</td>\n",
       "      <td>2022-08-31 17:30:04</td>\n",
       "      <td>Lenexa Running</td>\n",
       "      <td>3.00</td>\n",
       "      <td>282</td>\n",
       "      <td>00:26:10</td>\n",
       "      <td>167</td>\n",
       "      <td>181</td>\n",
       "      <td>168</td>\n",
       "      <td>172</td>\n",
       "      <td>8:43</td>\n",
       "      <td>8:11</td>\n",
       "      <td>50</td>\n",
       "      <td>54</td>\n",
       "      <td>1.10</td>\n",
       "      <td>00:26:04</td>\n",
       "      <td>00:26:38</td>\n",
       "      <td>952</td>\n",
       "      <td>996</td>\n",
       "    </tr>\n",
       "  </tbody>\n",
       "</table>\n",
       "</div>"
      ],
      "text/plain": [
       "  activity_type                 date           title  distance calories  \\\n",
       "0       Running  2022-09-21 17:52:41  Lenexa Running      3.00      274   \n",
       "1       Running  2022-09-12 16:50:18  Lenexa Running      3.01      281   \n",
       "2       Running  2022-09-09 16:13:22  Lenexa Running      4.00      417   \n",
       "3       Running  2022-09-06 17:03:55  Lenexa Running      3.00      280   \n",
       "4       Running  2022-08-31 17:30:04  Lenexa Running      3.00      282   \n",
       "\n",
       "       time avg_hr max_hr  avg_cadence  max_cadence avg_pace best_pace  \\\n",
       "0  00:26:48    161    173          167          172     8:55      8:24   \n",
       "1  00:26:21    166    179          168          174     8:46      8:16   \n",
       "2  00:39:06    166    181          156          179     9:46      8:17   \n",
       "3  00:26:40    163    177          166          172     8:53      8:13   \n",
       "4  00:26:10    167    181          168          172     8:43      8:11   \n",
       "\n",
       "  total_ascent total_descent  avg_stride moving_time elapsed_time  \\\n",
       "0           81           102        1.08    00:26:44     00:27:26   \n",
       "1           60            65        1.09    00:26:19     00:26:25   \n",
       "2          149           144        1.06    00:39:06     00:39:06   \n",
       "3           50            61        1.09    00:26:40     00:26:40   \n",
       "4           50            54        1.10    00:26:04     00:26:38   \n",
       "\n",
       "  min_elevation max_elevation  \n",
       "0           951           996  \n",
       "1           952           996  \n",
       "2           952         1,027  \n",
       "3           952           997  \n",
       "4           952           996  "
      ]
     },
     "execution_count": 7,
     "metadata": {},
     "output_type": "execute_result"
    }
   ],
   "source": [
    "activities_all.head()"
   ]
  },
  {
   "cell_type": "code",
   "execution_count": 8,
   "id": "7b165209",
   "metadata": {},
   "outputs": [],
   "source": [
    "# Add weather data from Garmin Connect (no function to export with run data)\n",
    "activities_all['temp'] = [75, 82, 88, 82, 84, 72, 88, 82, 79, 81, 90, 90, 88, 84, 75, 93, 93, 88, 88, 91, 99, 95, 90, 82, 79, 82, 82, 64, 70, 79, 79, 88, 63, 73, 59, 79, 55, 66, 61, 55, 54, 73, 55, 43, 81, 63, 63, 50, 54, 64, 21, 52, 43, 52, 55, 63, 66, 54, 66, 64, 70, 46, 50, 66, 68, 72, 73, 66, 82, 73, 72, 79, 90, 77, 73, 73, 84, 82, 84, 88, 86, 84, 72, 93, 81, 82, 95, 90, 86, 84, 82, 77, 91, 86, 86, 73, 86, 79, 84, 93, 88, 72, 73, 72, 70, 63, 61, 63, 70, 54, 57, 61, 75, 61, 61, 48, 73, 70, 55, 70, 52, 68, 61, 57, 37, 50, 46, 48, 37, 45, 36, 64, 57, 37, 43, 54, 50, 39, 55, 63, 48, 72, 75, 66, 63, 46, 46, 79, 81, 63, 73, 66, 79, 79, 84, 93, 82, 84, 88, 84, 81, 73, 81, 93, 82, 81, 90, 91, 88, 84, 88, 90, 88, 68, 66, 48, 57, 63, 77, 64, 70, 54, 48, 77, 72, 68, 64, 48, 48, 66, 55, 57, 54, 43, 57, 41, 36, 43, 64, 30, 55, 45, 34, 25, 41, 36, 57, 64, 61, 39, 63, 55, 37, 55, 59, 57, 72, 64, 72, 68, 61, 84, 79, 75, 77, 82, 82, 66, 81, 82, 66, 81, 84, 72, 86, 84, 72, 79, 82, 88, 64, 84, 79, 81, 77, 82, 73, 88, 82, 90, 73, 70, 90, 90, 81, 91, 84, 79, 73, 79, 75, 81, 77, 79, 88, 84, 68, 82, 48, 63, 61, 63, 77, 73, 75, 64, 55, 54, 57, 52, 54, 43, 36, 43, 28, 37, 30, 32, 28, 37, 50, 50, 45, 28, 59, 45, 34, 45, 55, 70, 55, 61, 70, 61, 64, 61, 45, 48, 'NaN', 82, 88, 77, 72, 86, 79, 79, 81, 90, 75, 81, 82, 88, 77, 95, 75, 79, 88, 91, 88, 84, 81, 95, 99, 93, 93, 84, 93, 84, 72, 81, 84, 86, 90, 88, 81, 88, 91, 84, 'NaN', 'NaN', 'NaN', 'NaN', 'NaN', 84, 73, 81, 81, 84, 84, 61, 81, 81, 73, 75, 63, 66, 50, 61, 46, 43, 55, 45, 61, 54, 64, 52, 61, 54, 59, 61, 50, 46, 36, 48, 30, 39, 41, 45, 45, 70, 57, 66, 52, 50, 45, 52, 48, 48, 64, 68, 63, 77, 'NaN', 'NaN', 73, 75, 64, 72, 86, 79, 82, 79, 81, 81, 79, 77, 84, 84, 79, 77, 75, 86, 73, 77, 84, 88, 'NaN', 90, 86, 95, 91, 'NaN', 81, 81, 81, 90, 79, 90, 81, 86, 88, 81, 82, 82, 84, 75, 66, 82, 72, 72, 82, 64, 57, 54, 77, 72, 63, 64, 54, 'NaN', 'NaN', 'NaN', 'NaN', 59, 55, 63, 72, 50, 70, 43, 48, 45, 55, 39, 48, 46, 36, 27, 25, 43, 48, 52, 66, 55, 68, 73, 72, 75, 75, 68, 'NaN', 'NaN', 'NaN', 'NaN']\n",
    "activities_all['humidity'] = [69, 30, 36, 55, 40, 78, 43, 48, 65, 51, 46, 34, 43, 62, 74, 36, 28, 63, 43, 34, 40, 44, 59, 58, 48, 58, 58, 88, 60, 39, 61, 55, 68, 36, 39, 54, 28, 37, 36, 33, 32, 33, 62, 39, 16, 20, 59, 25, 26, 18, 32, 30, 49, 50, 38, 68, 56, 22, 68, 56, 46, 46, 76, 46, 43, 38, 41, 49, 48, 61, 65, 70, 30, 41, 29, 36, 52, 27, 55, 59, 59, 55, 55, 50, 37, 42, 47, 41, 40, 45, 66, 61, 53, 46, 38, 94, 55, 28, 55, 28, 55, 61, 73, 83, 49, 27, 45, 27, 60, 47, 36, 31, 47, 59, 55, 87, 41, 26, 33, 18, 28, 23, 29, 41, 65, 58, 46, 46, 56, 66, 51, 28, 24, 41, 75, 41, 32, 35, 35, 29, 32, 57, 31, 32, 42, 66, 53, 51, 37, 36, 27, 40, 48, 48, 62, 41, 42, 40, 55, 66, 79, 44, 74, 47, 62, 70, 43, 49, 55, 37, 43, 41, 63, 68, 83, 50, 36, 48, 47, 42, 46, 32, 27, 57, 38, 28, 83, 87, 71, 46, 16, 36, 41, 42, 67, 45, 55, 70, 37, 64, 33, 53, 69, 80, 48, 55, 41, 64, 39, 41, 52, 38, 93, 58, 31, 44, 38, 37, 43, 40, 72, 66, 54, 74, 47, 45, 37, 88, 62, 70, 100, 70, 43, 94, 59, 62, 83, 74, 55, 36, 88, 45, 45, 45, 83, 58, 89, 46, 55, 52, 89, 94, 52, 52, 79, 53, 52, 45, 78, 70, 65, 62, 65, 23, 36, 55, 68, 55, 93, 83, 72, 72, 54, 41, 39, 68, 38, 67, 41, 35, 44, 81, 69, 56, 74, 52, 69, 80, 100, 44, 34, 46, 66, 74, 41, 57, 47, 57, 51, 40, 67, 39, 46, 77, 45, 39, 57, 87, 'NaN', 66, 52, 79, 83, 49, 54, 54, 74, 59, 69, 39, 48, 52, 69, 39, 54, 65, 33, 28, 46, 62, 84, 39, 33, 44, 50, 55, 56, 48, 73, 70, 52, 59, 49, 43, 42, 46, 41, 52, 'NaN', 'NaN', 'NaN', 'NaN', 'NaN', 52, 61, 62, 70, 43, 29, 72, 62, 32, 25, 22, 25, 40, 40, 39, 66, 36, 38, 76, 55, 47, 18, 32, 31, 19, 23, 22, 34, 13, 35, 32, 43, 87, 56, 39, 24, 60, 36, 49, 50, 76, 57, 71, 37, 27, 42, 40, 55, 39, 'NaN', 'NaN', 78, 41, 83, 41, 59, 51, 48, 51, 51, 42, 61, 94, 66, 62, 65, 65, 44, 46, 78, 57, 55, 55, 'NaN', 52, 62, 53, 53, 'NaN', 66, 70, 66, 52, 37, 41, 54, 66, 52, 32, 35, 45, 52, 44, 46, 51, 38, 73, 42, 42, 55, 54, 57, 53, 42, 30, 82, 'NaN', 'NaN', 'NaN', 'NaN', 77, 30, 36, 31, 29, 28, 61, 43, 33, 58, 81, 66, 53, 51, 42, 58, 81, 50, 50, 46, 47, 46, 65, 61, 65, 47, 73, 'NaN', 'NaN', 'NaN', 'NaN']\n",
    "activities_all['wind'] = [21, 12, 7, 7, 5, 18, 5, 5, 12, 6, 12, 9, 5, 0, 8, 5, 6, 15, 7, 13, 15, 9, 18, 7, 15, 9, 20, 8, 16, 6, 10, 21, 6, 17, 13, 23, 18, 9, 13, 16, 20, 16, 8, 7, 12, 6, 7, 5, 17, 16, 12, 9, 9, 14, 14, 14, 20, 15, 10, 7, 3, 3, 0, 5, 12, 12, 7, 9, 10, 8, 8, 7, 9, 9, 9, 10, 10, 9, 9, 7, 9, 8, 0, 16, 7, 8, 5, 8, 5, 7, 7, 6, 14, 9, 6, 8, 15, 15, 6, 8, 6, 3, 12, 14, 10, 10, 5, 14, 13, 13, 13, 12, 23, 15, 13, 14, 22, 18, 5, 10, 10, 18, 17, 17, 5, 13, 10, 10, 7, 9, 3, 20, 14, 5, 12, 8, 14, 12, 12, 7, 10, 12, 15, 13, 7, 9, 7, 14, 6, 'NaN', 21, 12, 10, 9, 12, 13, 6, 17, 9, 6, 9, 6, 10, 12, 0, 14, 13, 12, 12, 7, 14, 12, 16, 9, 8, 6, 14, 12, 9, 12, 12, 7, 27, 14, 17, 12, 0, 7, 8, 6, 3, 6, 6, 8, 9, 8, 13, 15, 8, 15, 13, 8, 8, 7, 13, 5, 12, 22, 7, 12, 7, 'NaN', 10, 6, 17, 24, 16, 17, 13, 0, 7, 15, 8, 16, 7, 3, 7, 9, 12, 7, 16, 15, 10, 5, 9, 7, 7, 5, 13, 14, 5, 10, 7, 18, 12, 12, 0, 0, 14, 10, 0, 6, 8, 10, 8, 12, 10, 12, 13, 14, 12, 8, 15, 9, 10, 16, 9, 12, 0, 3, 15, 0, 16, 18, 14, 6, 12, 7, 18, 12, 6, 9, 6, 10, 13, 15, 13, 15, 13, 12, 17, 5, 12, 13, 16, 12, 5, 10, 8, 14, 8, 7, 7, 10, 8, 6, 6, 0, 'NaN', 14, 25, 15, 13, 5, 12, 6, 13, 17, 10, 6, 14, 12, 5, 12, 9, 9, 7, 5, 10, 9, 7, 8, 5, 9, 14, 8, 12, 14, 10, 6, 9, 0, 10, 6, 10, 13, 9, 12, 'NaN', 'NaN', 'NaN', 'NaN', 'NaN', 10, 3, 10, 7, 10, 6, 0, 16, 28, 14, 13, 13, 10, 3, 16, 12, 12, 6, 12, 17, 'NaN', 21, 8, 3, 24, 20, 10, 7, 13, 13, 23, 3, 13, 7, 14, 12, 16, 12, 16, 8, 8, 12, 17, 20, 10, 5, 12, 0, 7, 'NaN', 'NaN', 10, 10, 3, 10, 13, 0, 9, 10, 13, 6, 13, 5, 8, 0, 7, 8, 3, 5, 5, 8, 9, 9, 'NaN', 8, 3, 15, 20, 'NaN', 17, 7, 10, 17, 15, 13, 9, 13, 17, 5, 8, 13, 14, 18, 13, 21, 6, 10, 16, 6, 22, 15, 16, 9, 7, 12, 12, 'NaN', 'NaN', 'NaN', 'NaN', 18, 24, 17, 5, 6, 18, 15, 5, 16, 20, 5, 12, 18, 5, 12, 5, 9, 9, 9, 9, 13, 13, 16, 18, 14, 8, 14, 'NaN', 'NaN', 'NaN', 'NaN']"
   ]
  },
  {
   "cell_type": "code",
   "execution_count": 9,
   "id": "eb1ddb15",
   "metadata": {},
   "outputs": [
    {
     "data": {
      "text/plain": [
       "array(['Lenexa Running', 'Shawnee Running', 'Running',\n",
       "       'Shawnee - Pre-Race Workout', 'Shawnee - Run Walk Run®',\n",
       "       'Shawnee - Speed Repeats', 'Shawnee - Drill Workout',\n",
       "       'Shawnee - Hill Repeats', 'Shawnee - Benchmark Run',\n",
       "       'Shawnee - Progression Run', 'Shawnee - Goal Pace Run',\n",
       "       'Shawnee - Easy Run', 'Shawnee - Stride Repeats',\n",
       "       'Shawnee - Long Easy Run', 'Kansas City Running',\n",
       "       'Shawnee - Running', 'Shawnee run', 'Imogene Running',\n",
       "       'Shawnee Mission Running', 'Manson Running', 'Untitled'],\n",
       "      dtype=object)"
      ]
     },
     "execution_count": 9,
     "metadata": {},
     "output_type": "execute_result"
    }
   ],
   "source": [
    "activities_all.title.unique()"
   ]
  },
  {
   "cell_type": "code",
   "execution_count": 10,
   "id": "033e9fe9",
   "metadata": {},
   "outputs": [],
   "source": [
    "# Add year and month columns\n",
    "activities_all['year'] = activities_all.date.apply(lambda x: x[:4])\n",
    "activities_all['month'] = activities_all.date.apply(lambda x: x[5:7])"
   ]
  },
  {
   "cell_type": "code",
   "execution_count": 11,
   "id": "58a6aa6f",
   "metadata": {},
   "outputs": [],
   "source": [
    "# Remove data from 2015 and 2016 due to not enough data\n",
    "activities_all = activities_all[(activities_all.year != '2015') & (activities_all.year != '2016')]"
   ]
  },
  {
   "cell_type": "code",
   "execution_count": 12,
   "id": "c5746d5f",
   "metadata": {},
   "outputs": [],
   "source": [
    "# Remove all non-standard run types to normalize running speed\n",
    "activities_reg = activities_all[activities_all.title.isin(['Lenexa Running', 'Shawnee Running', 'Running', 'Kansas City Running', 'Shawnee - Running', 'Shawnee run', 'Shawnee Mission Running', 'Manson Running', 'Untitled'])]"
   ]
  },
  {
   "cell_type": "code",
   "execution_count": 13,
   "id": "79eabf46",
   "metadata": {},
   "outputs": [
    {
     "data": {
      "text/plain": [
       "array([ 3.  ,  3.01,  4.  ,  5.  ,  4.02,  6.  ,  4.01,  3.7 ,  5.02,\n",
       "        5.01,  3.03,  3.02,  3.09,  2.32,  5.08,  3.2 ,  6.01,  4.28,\n",
       "        5.1 ,  7.01,  3.67,  8.01,  4.03,  7.  ,  5.06,  3.19,  3.66,\n",
       "        5.22,  4.3 , 10.01,  6.68,  4.34,  9.  ,  9.01,  3.12,  4.46,\n",
       "        3.47,  3.65,  3.51,  4.5 ,  4.57,  3.81])"
      ]
     },
     "execution_count": 13,
     "metadata": {},
     "output_type": "execute_result"
    }
   ],
   "source": [
    "activities_reg.distance.unique()"
   ]
  },
  {
   "cell_type": "code",
   "execution_count": 14,
   "id": "15c0a9af",
   "metadata": {},
   "outputs": [],
   "source": [
    "# Remove all rows where the distance is under 2 miles -- I don't usually run less than that, so it's most likely a glitch\n",
    "activities_reg = activities_reg[activities_reg.distance >= 2]"
   ]
  },
  {
   "cell_type": "code",
   "execution_count": 15,
   "id": "cbeac40f",
   "metadata": {},
   "outputs": [
    {
     "name": "stdout",
     "output_type": "stream",
     "text": [
      "<class 'pandas.core.frame.DataFrame'>\n",
      "Int64Index: 422 entries, 0 to 475\n",
      "Data columns (total 24 columns):\n",
      " #   Column         Non-Null Count  Dtype  \n",
      "---  ------         --------------  -----  \n",
      " 0   activity_type  422 non-null    object \n",
      " 1   date           422 non-null    object \n",
      " 2   title          422 non-null    object \n",
      " 3   distance       422 non-null    float64\n",
      " 4   calories       422 non-null    object \n",
      " 5   time           422 non-null    object \n",
      " 6   avg_hr         422 non-null    object \n",
      " 7   max_hr         422 non-null    object \n",
      " 8   avg_cadence    422 non-null    int64  \n",
      " 9   max_cadence    422 non-null    int64  \n",
      " 10  avg_pace       422 non-null    object \n",
      " 11  best_pace      422 non-null    object \n",
      " 12  total_ascent   422 non-null    object \n",
      " 13  total_descent  422 non-null    object \n",
      " 14  avg_stride     422 non-null    float64\n",
      " 15  moving_time    422 non-null    object \n",
      " 16  elapsed_time   422 non-null    object \n",
      " 17  min_elevation  422 non-null    object \n",
      " 18  max_elevation  422 non-null    object \n",
      " 19  temp           422 non-null    object \n",
      " 20  humidity       422 non-null    object \n",
      " 21  wind           422 non-null    object \n",
      " 22  year           422 non-null    object \n",
      " 23  month          422 non-null    object \n",
      "dtypes: float64(2), int64(2), object(20)\n",
      "memory usage: 82.4+ KB\n"
     ]
    }
   ],
   "source": [
    "activities_reg.info()"
   ]
  },
  {
   "cell_type": "code",
   "execution_count": 16,
   "id": "d8a26761",
   "metadata": {},
   "outputs": [
    {
     "data": {
      "text/html": [
       "<div>\n",
       "<style scoped>\n",
       "    .dataframe tbody tr th:only-of-type {\n",
       "        vertical-align: middle;\n",
       "    }\n",
       "\n",
       "    .dataframe tbody tr th {\n",
       "        vertical-align: top;\n",
       "    }\n",
       "\n",
       "    .dataframe thead th {\n",
       "        text-align: right;\n",
       "    }\n",
       "</style>\n",
       "<table border=\"1\" class=\"dataframe\">\n",
       "  <thead>\n",
       "    <tr style=\"text-align: right;\">\n",
       "      <th></th>\n",
       "      <th>activity_type</th>\n",
       "      <th>date</th>\n",
       "      <th>title</th>\n",
       "      <th>distance</th>\n",
       "      <th>calories</th>\n",
       "      <th>time</th>\n",
       "      <th>avg_hr</th>\n",
       "      <th>max_hr</th>\n",
       "      <th>avg_cadence</th>\n",
       "      <th>max_cadence</th>\n",
       "      <th>avg_pace</th>\n",
       "      <th>best_pace</th>\n",
       "      <th>total_ascent</th>\n",
       "      <th>total_descent</th>\n",
       "      <th>avg_stride</th>\n",
       "      <th>moving_time</th>\n",
       "      <th>elapsed_time</th>\n",
       "      <th>min_elevation</th>\n",
       "      <th>max_elevation</th>\n",
       "      <th>temp</th>\n",
       "      <th>humidity</th>\n",
       "      <th>wind</th>\n",
       "      <th>year</th>\n",
       "      <th>month</th>\n",
       "    </tr>\n",
       "  </thead>\n",
       "  <tbody>\n",
       "    <tr>\n",
       "      <th>count</th>\n",
       "      <td>422</td>\n",
       "      <td>422</td>\n",
       "      <td>422</td>\n",
       "      <td>422.000000</td>\n",
       "      <td>422</td>\n",
       "      <td>422</td>\n",
       "      <td>422</td>\n",
       "      <td>422</td>\n",
       "      <td>422.000000</td>\n",
       "      <td>422.000000</td>\n",
       "      <td>422</td>\n",
       "      <td>422</td>\n",
       "      <td>422</td>\n",
       "      <td>422</td>\n",
       "      <td>422.000000</td>\n",
       "      <td>422</td>\n",
       "      <td>422</td>\n",
       "      <td>422</td>\n",
       "      <td>422</td>\n",
       "      <td>422.0</td>\n",
       "      <td>422.0</td>\n",
       "      <td>422.0</td>\n",
       "      <td>422</td>\n",
       "      <td>422</td>\n",
       "    </tr>\n",
       "    <tr>\n",
       "      <th>unique</th>\n",
       "      <td>1</td>\n",
       "      <td>419</td>\n",
       "      <td>7</td>\n",
       "      <td>NaN</td>\n",
       "      <td>234</td>\n",
       "      <td>359</td>\n",
       "      <td>32</td>\n",
       "      <td>25</td>\n",
       "      <td>NaN</td>\n",
       "      <td>NaN</td>\n",
       "      <td>108</td>\n",
       "      <td>132</td>\n",
       "      <td>105</td>\n",
       "      <td>104</td>\n",
       "      <td>NaN</td>\n",
       "      <td>318</td>\n",
       "      <td>383</td>\n",
       "      <td>32</td>\n",
       "      <td>46</td>\n",
       "      <td>41.0</td>\n",
       "      <td>74.0</td>\n",
       "      <td>24.0</td>\n",
       "      <td>6</td>\n",
       "      <td>12</td>\n",
       "    </tr>\n",
       "    <tr>\n",
       "      <th>top</th>\n",
       "      <td>Running</td>\n",
       "      <td>2018-05-25 17:05:59</td>\n",
       "      <td>Shawnee Running</td>\n",
       "      <td>NaN</td>\n",
       "      <td>295</td>\n",
       "      <td>00:54:20</td>\n",
       "      <td>164</td>\n",
       "      <td>186</td>\n",
       "      <td>NaN</td>\n",
       "      <td>NaN</td>\n",
       "      <td>8:40</td>\n",
       "      <td>7:39</td>\n",
       "      <td>96</td>\n",
       "      <td>125</td>\n",
       "      <td>NaN</td>\n",
       "      <td>00:00:00</td>\n",
       "      <td>00:00:00</td>\n",
       "      <td>780</td>\n",
       "      <td>905</td>\n",
       "      <td>84.0</td>\n",
       "      <td>55.0</td>\n",
       "      <td>12.0</td>\n",
       "      <td>2018</td>\n",
       "      <td>05</td>\n",
       "    </tr>\n",
       "    <tr>\n",
       "      <th>freq</th>\n",
       "      <td>422</td>\n",
       "      <td>4</td>\n",
       "      <td>337</td>\n",
       "      <td>NaN</td>\n",
       "      <td>8</td>\n",
       "      <td>4</td>\n",
       "      <td>44</td>\n",
       "      <td>46</td>\n",
       "      <td>NaN</td>\n",
       "      <td>NaN</td>\n",
       "      <td>14</td>\n",
       "      <td>11</td>\n",
       "      <td>19</td>\n",
       "      <td>24</td>\n",
       "      <td>NaN</td>\n",
       "      <td>59</td>\n",
       "      <td>5</td>\n",
       "      <td>152</td>\n",
       "      <td>115</td>\n",
       "      <td>25.0</td>\n",
       "      <td>20.0</td>\n",
       "      <td>44.0</td>\n",
       "      <td>94</td>\n",
       "      <td>48</td>\n",
       "    </tr>\n",
       "    <tr>\n",
       "      <th>mean</th>\n",
       "      <td>NaN</td>\n",
       "      <td>NaN</td>\n",
       "      <td>NaN</td>\n",
       "      <td>4.180284</td>\n",
       "      <td>NaN</td>\n",
       "      <td>NaN</td>\n",
       "      <td>NaN</td>\n",
       "      <td>NaN</td>\n",
       "      <td>164.535545</td>\n",
       "      <td>183.928910</td>\n",
       "      <td>NaN</td>\n",
       "      <td>NaN</td>\n",
       "      <td>NaN</td>\n",
       "      <td>NaN</td>\n",
       "      <td>1.054289</td>\n",
       "      <td>NaN</td>\n",
       "      <td>NaN</td>\n",
       "      <td>NaN</td>\n",
       "      <td>NaN</td>\n",
       "      <td>NaN</td>\n",
       "      <td>NaN</td>\n",
       "      <td>NaN</td>\n",
       "      <td>NaN</td>\n",
       "      <td>NaN</td>\n",
       "    </tr>\n",
       "    <tr>\n",
       "      <th>std</th>\n",
       "      <td>NaN</td>\n",
       "      <td>NaN</td>\n",
       "      <td>NaN</td>\n",
       "      <td>1.162115</td>\n",
       "      <td>NaN</td>\n",
       "      <td>NaN</td>\n",
       "      <td>NaN</td>\n",
       "      <td>NaN</td>\n",
       "      <td>18.648834</td>\n",
       "      <td>24.096592</td>\n",
       "      <td>NaN</td>\n",
       "      <td>NaN</td>\n",
       "      <td>NaN</td>\n",
       "      <td>NaN</td>\n",
       "      <td>0.158697</td>\n",
       "      <td>NaN</td>\n",
       "      <td>NaN</td>\n",
       "      <td>NaN</td>\n",
       "      <td>NaN</td>\n",
       "      <td>NaN</td>\n",
       "      <td>NaN</td>\n",
       "      <td>NaN</td>\n",
       "      <td>NaN</td>\n",
       "      <td>NaN</td>\n",
       "    </tr>\n",
       "    <tr>\n",
       "      <th>min</th>\n",
       "      <td>NaN</td>\n",
       "      <td>NaN</td>\n",
       "      <td>NaN</td>\n",
       "      <td>2.320000</td>\n",
       "      <td>NaN</td>\n",
       "      <td>NaN</td>\n",
       "      <td>NaN</td>\n",
       "      <td>NaN</td>\n",
       "      <td>0.000000</td>\n",
       "      <td>0.000000</td>\n",
       "      <td>NaN</td>\n",
       "      <td>NaN</td>\n",
       "      <td>NaN</td>\n",
       "      <td>NaN</td>\n",
       "      <td>0.000000</td>\n",
       "      <td>NaN</td>\n",
       "      <td>NaN</td>\n",
       "      <td>NaN</td>\n",
       "      <td>NaN</td>\n",
       "      <td>NaN</td>\n",
       "      <td>NaN</td>\n",
       "      <td>NaN</td>\n",
       "      <td>NaN</td>\n",
       "      <td>NaN</td>\n",
       "    </tr>\n",
       "    <tr>\n",
       "      <th>25%</th>\n",
       "      <td>NaN</td>\n",
       "      <td>NaN</td>\n",
       "      <td>NaN</td>\n",
       "      <td>3.010000</td>\n",
       "      <td>NaN</td>\n",
       "      <td>NaN</td>\n",
       "      <td>NaN</td>\n",
       "      <td>NaN</td>\n",
       "      <td>164.000000</td>\n",
       "      <td>179.000000</td>\n",
       "      <td>NaN</td>\n",
       "      <td>NaN</td>\n",
       "      <td>NaN</td>\n",
       "      <td>NaN</td>\n",
       "      <td>1.050000</td>\n",
       "      <td>NaN</td>\n",
       "      <td>NaN</td>\n",
       "      <td>NaN</td>\n",
       "      <td>NaN</td>\n",
       "      <td>NaN</td>\n",
       "      <td>NaN</td>\n",
       "      <td>NaN</td>\n",
       "      <td>NaN</td>\n",
       "      <td>NaN</td>\n",
       "    </tr>\n",
       "    <tr>\n",
       "      <th>50%</th>\n",
       "      <td>NaN</td>\n",
       "      <td>NaN</td>\n",
       "      <td>NaN</td>\n",
       "      <td>4.000000</td>\n",
       "      <td>NaN</td>\n",
       "      <td>NaN</td>\n",
       "      <td>NaN</td>\n",
       "      <td>NaN</td>\n",
       "      <td>168.000000</td>\n",
       "      <td>183.000000</td>\n",
       "      <td>NaN</td>\n",
       "      <td>NaN</td>\n",
       "      <td>NaN</td>\n",
       "      <td>NaN</td>\n",
       "      <td>1.075000</td>\n",
       "      <td>NaN</td>\n",
       "      <td>NaN</td>\n",
       "      <td>NaN</td>\n",
       "      <td>NaN</td>\n",
       "      <td>NaN</td>\n",
       "      <td>NaN</td>\n",
       "      <td>NaN</td>\n",
       "      <td>NaN</td>\n",
       "      <td>NaN</td>\n",
       "    </tr>\n",
       "    <tr>\n",
       "      <th>75%</th>\n",
       "      <td>NaN</td>\n",
       "      <td>NaN</td>\n",
       "      <td>NaN</td>\n",
       "      <td>5.010000</td>\n",
       "      <td>NaN</td>\n",
       "      <td>NaN</td>\n",
       "      <td>NaN</td>\n",
       "      <td>NaN</td>\n",
       "      <td>170.000000</td>\n",
       "      <td>186.000000</td>\n",
       "      <td>NaN</td>\n",
       "      <td>NaN</td>\n",
       "      <td>NaN</td>\n",
       "      <td>NaN</td>\n",
       "      <td>1.100000</td>\n",
       "      <td>NaN</td>\n",
       "      <td>NaN</td>\n",
       "      <td>NaN</td>\n",
       "      <td>NaN</td>\n",
       "      <td>NaN</td>\n",
       "      <td>NaN</td>\n",
       "      <td>NaN</td>\n",
       "      <td>NaN</td>\n",
       "      <td>NaN</td>\n",
       "    </tr>\n",
       "    <tr>\n",
       "      <th>max</th>\n",
       "      <td>NaN</td>\n",
       "      <td>NaN</td>\n",
       "      <td>NaN</td>\n",
       "      <td>10.010000</td>\n",
       "      <td>NaN</td>\n",
       "      <td>NaN</td>\n",
       "      <td>NaN</td>\n",
       "      <td>NaN</td>\n",
       "      <td>174.000000</td>\n",
       "      <td>248.000000</td>\n",
       "      <td>NaN</td>\n",
       "      <td>NaN</td>\n",
       "      <td>NaN</td>\n",
       "      <td>NaN</td>\n",
       "      <td>1.200000</td>\n",
       "      <td>NaN</td>\n",
       "      <td>NaN</td>\n",
       "      <td>NaN</td>\n",
       "      <td>NaN</td>\n",
       "      <td>NaN</td>\n",
       "      <td>NaN</td>\n",
       "      <td>NaN</td>\n",
       "      <td>NaN</td>\n",
       "      <td>NaN</td>\n",
       "    </tr>\n",
       "  </tbody>\n",
       "</table>\n",
       "</div>"
      ],
      "text/plain": [
       "       activity_type                 date            title    distance  \\\n",
       "count            422                  422              422  422.000000   \n",
       "unique             1                  419                7         NaN   \n",
       "top          Running  2018-05-25 17:05:59  Shawnee Running         NaN   \n",
       "freq             422                    4              337         NaN   \n",
       "mean             NaN                  NaN              NaN    4.180284   \n",
       "std              NaN                  NaN              NaN    1.162115   \n",
       "min              NaN                  NaN              NaN    2.320000   \n",
       "25%              NaN                  NaN              NaN    3.010000   \n",
       "50%              NaN                  NaN              NaN    4.000000   \n",
       "75%              NaN                  NaN              NaN    5.010000   \n",
       "max              NaN                  NaN              NaN   10.010000   \n",
       "\n",
       "       calories      time avg_hr max_hr  avg_cadence  max_cadence avg_pace  \\\n",
       "count       422       422    422    422   422.000000   422.000000      422   \n",
       "unique      234       359     32     25          NaN          NaN      108   \n",
       "top         295  00:54:20    164    186          NaN          NaN     8:40   \n",
       "freq          8         4     44     46          NaN          NaN       14   \n",
       "mean        NaN       NaN    NaN    NaN   164.535545   183.928910      NaN   \n",
       "std         NaN       NaN    NaN    NaN    18.648834    24.096592      NaN   \n",
       "min         NaN       NaN    NaN    NaN     0.000000     0.000000      NaN   \n",
       "25%         NaN       NaN    NaN    NaN   164.000000   179.000000      NaN   \n",
       "50%         NaN       NaN    NaN    NaN   168.000000   183.000000      NaN   \n",
       "75%         NaN       NaN    NaN    NaN   170.000000   186.000000      NaN   \n",
       "max         NaN       NaN    NaN    NaN   174.000000   248.000000      NaN   \n",
       "\n",
       "       best_pace total_ascent total_descent  avg_stride moving_time  \\\n",
       "count        422          422           422  422.000000         422   \n",
       "unique       132          105           104         NaN         318   \n",
       "top         7:39           96           125         NaN    00:00:00   \n",
       "freq          11           19            24         NaN          59   \n",
       "mean         NaN          NaN           NaN    1.054289         NaN   \n",
       "std          NaN          NaN           NaN    0.158697         NaN   \n",
       "min          NaN          NaN           NaN    0.000000         NaN   \n",
       "25%          NaN          NaN           NaN    1.050000         NaN   \n",
       "50%          NaN          NaN           NaN    1.075000         NaN   \n",
       "75%          NaN          NaN           NaN    1.100000         NaN   \n",
       "max          NaN          NaN           NaN    1.200000         NaN   \n",
       "\n",
       "       elapsed_time min_elevation max_elevation   temp  humidity   wind  year  \\\n",
       "count           422           422           422  422.0     422.0  422.0   422   \n",
       "unique          383            32            46   41.0      74.0   24.0     6   \n",
       "top        00:00:00           780           905   84.0      55.0   12.0  2018   \n",
       "freq              5           152           115   25.0      20.0   44.0    94   \n",
       "mean            NaN           NaN           NaN    NaN       NaN    NaN   NaN   \n",
       "std             NaN           NaN           NaN    NaN       NaN    NaN   NaN   \n",
       "min             NaN           NaN           NaN    NaN       NaN    NaN   NaN   \n",
       "25%             NaN           NaN           NaN    NaN       NaN    NaN   NaN   \n",
       "50%             NaN           NaN           NaN    NaN       NaN    NaN   NaN   \n",
       "75%             NaN           NaN           NaN    NaN       NaN    NaN   NaN   \n",
       "max             NaN           NaN           NaN    NaN       NaN    NaN   NaN   \n",
       "\n",
       "       month  \n",
       "count    422  \n",
       "unique    12  \n",
       "top       05  \n",
       "freq      48  \n",
       "mean     NaN  \n",
       "std      NaN  \n",
       "min      NaN  \n",
       "25%      NaN  \n",
       "50%      NaN  \n",
       "75%      NaN  \n",
       "max      NaN  "
      ]
     },
     "execution_count": 16,
     "metadata": {},
     "output_type": "execute_result"
    }
   ],
   "source": [
    "activities_reg.describe(include = 'all')"
   ]
  },
  {
   "cell_type": "code",
   "execution_count": 17,
   "id": "392c56af",
   "metadata": {},
   "outputs": [],
   "source": [
    "# Remove entries with blank data and remove commas from numerical values\n",
    "activities_reg = activities_reg[(activities_reg.total_ascent != '--') & (activities_reg.temp != 'NaN') & (activities_reg.humidity != 'NaN') & (activities_reg.wind != 'NaN') & (activities_reg.moving_time != '00:00:00') ]\n",
    "activities_reg.max_elevation = activities_reg.max_elevation.apply(lambda x: x.replace(',', ''))\n",
    "activities_reg = activities_reg.reset_index(drop = True)"
   ]
  },
  {
   "cell_type": "code",
   "execution_count": 18,
   "id": "fd4428a8",
   "metadata": {},
   "outputs": [],
   "source": [
    "# Update data types\n",
    "activities_reg.distance = activities_reg.distance.astype('float')\n",
    "\n",
    "# Columns to change to int\n",
    "int_list = ['calories', 'avg_hr', 'max_hr', 'avg_cadence', 'max_cadence', 'total_ascent', 'total_descent', 'min_elevation', 'max_elevation', 'temp', 'humidity', 'wind']\n",
    "\n",
    "for column in int_list:\n",
    "    activities_reg[column] = activities_reg[column].astype('int')\n"
   ]
  },
  {
   "cell_type": "code",
   "execution_count": 19,
   "id": "65e5dfa4",
   "metadata": {},
   "outputs": [],
   "source": [
    "# Add elevation difference column\n",
    "activities_reg['elev_diff'] = activities_reg.max_elevation - activities_reg.min_elevation"
   ]
  },
  {
   "cell_type": "code",
   "execution_count": 20,
   "id": "eed871fd",
   "metadata": {},
   "outputs": [
    {
     "data": {
      "text/html": [
       "<div>\n",
       "<style scoped>\n",
       "    .dataframe tbody tr th:only-of-type {\n",
       "        vertical-align: middle;\n",
       "    }\n",
       "\n",
       "    .dataframe tbody tr th {\n",
       "        vertical-align: top;\n",
       "    }\n",
       "\n",
       "    .dataframe thead th {\n",
       "        text-align: right;\n",
       "    }\n",
       "</style>\n",
       "<table border=\"1\" class=\"dataframe\">\n",
       "  <thead>\n",
       "    <tr style=\"text-align: right;\">\n",
       "      <th></th>\n",
       "      <th>activity_type</th>\n",
       "      <th>date</th>\n",
       "      <th>title</th>\n",
       "      <th>distance</th>\n",
       "      <th>calories</th>\n",
       "      <th>time</th>\n",
       "      <th>avg_hr</th>\n",
       "      <th>max_hr</th>\n",
       "      <th>avg_cadence</th>\n",
       "      <th>max_cadence</th>\n",
       "      <th>avg_pace</th>\n",
       "      <th>best_pace</th>\n",
       "      <th>total_ascent</th>\n",
       "      <th>total_descent</th>\n",
       "      <th>avg_stride</th>\n",
       "      <th>moving_time</th>\n",
       "      <th>elapsed_time</th>\n",
       "      <th>min_elevation</th>\n",
       "      <th>max_elevation</th>\n",
       "      <th>temp</th>\n",
       "      <th>humidity</th>\n",
       "      <th>wind</th>\n",
       "      <th>year</th>\n",
       "      <th>month</th>\n",
       "      <th>elev_diff</th>\n",
       "      <th>pace_str</th>\n",
       "      <th>pace_min</th>\n",
       "      <th>pace_sec</th>\n",
       "      <th>avg_pace_int</th>\n",
       "    </tr>\n",
       "  </thead>\n",
       "  <tbody>\n",
       "    <tr>\n",
       "      <th>0</th>\n",
       "      <td>Running</td>\n",
       "      <td>2022-09-21</td>\n",
       "      <td>Lenexa Running</td>\n",
       "      <td>3.00</td>\n",
       "      <td>274</td>\n",
       "      <td>00:26:48</td>\n",
       "      <td>161</td>\n",
       "      <td>173</td>\n",
       "      <td>167</td>\n",
       "      <td>172</td>\n",
       "      <td>8:55</td>\n",
       "      <td>8:24</td>\n",
       "      <td>81</td>\n",
       "      <td>102</td>\n",
       "      <td>1.08</td>\n",
       "      <td>00:26:44</td>\n",
       "      <td>00:27:26</td>\n",
       "      <td>951</td>\n",
       "      <td>996</td>\n",
       "      <td>75</td>\n",
       "      <td>69</td>\n",
       "      <td>21</td>\n",
       "      <td>2022</td>\n",
       "      <td>09</td>\n",
       "      <td>45</td>\n",
       "      <td>8:55</td>\n",
       "      <td>8</td>\n",
       "      <td>55</td>\n",
       "      <td>8.916667</td>\n",
       "    </tr>\n",
       "    <tr>\n",
       "      <th>1</th>\n",
       "      <td>Running</td>\n",
       "      <td>2022-09-12</td>\n",
       "      <td>Lenexa Running</td>\n",
       "      <td>3.01</td>\n",
       "      <td>281</td>\n",
       "      <td>00:26:21</td>\n",
       "      <td>166</td>\n",
       "      <td>179</td>\n",
       "      <td>168</td>\n",
       "      <td>174</td>\n",
       "      <td>8:46</td>\n",
       "      <td>8:16</td>\n",
       "      <td>60</td>\n",
       "      <td>65</td>\n",
       "      <td>1.09</td>\n",
       "      <td>00:26:19</td>\n",
       "      <td>00:26:25</td>\n",
       "      <td>952</td>\n",
       "      <td>996</td>\n",
       "      <td>82</td>\n",
       "      <td>30</td>\n",
       "      <td>12</td>\n",
       "      <td>2022</td>\n",
       "      <td>09</td>\n",
       "      <td>44</td>\n",
       "      <td>8:46</td>\n",
       "      <td>8</td>\n",
       "      <td>46</td>\n",
       "      <td>8.766667</td>\n",
       "    </tr>\n",
       "    <tr>\n",
       "      <th>2</th>\n",
       "      <td>Running</td>\n",
       "      <td>2022-09-09</td>\n",
       "      <td>Lenexa Running</td>\n",
       "      <td>4.00</td>\n",
       "      <td>417</td>\n",
       "      <td>00:39:06</td>\n",
       "      <td>166</td>\n",
       "      <td>181</td>\n",
       "      <td>156</td>\n",
       "      <td>179</td>\n",
       "      <td>9:46</td>\n",
       "      <td>8:17</td>\n",
       "      <td>149</td>\n",
       "      <td>144</td>\n",
       "      <td>1.06</td>\n",
       "      <td>00:39:06</td>\n",
       "      <td>00:39:06</td>\n",
       "      <td>952</td>\n",
       "      <td>1027</td>\n",
       "      <td>88</td>\n",
       "      <td>36</td>\n",
       "      <td>7</td>\n",
       "      <td>2022</td>\n",
       "      <td>09</td>\n",
       "      <td>75</td>\n",
       "      <td>9:46</td>\n",
       "      <td>9</td>\n",
       "      <td>46</td>\n",
       "      <td>9.766667</td>\n",
       "    </tr>\n",
       "    <tr>\n",
       "      <th>3</th>\n",
       "      <td>Running</td>\n",
       "      <td>2022-09-06</td>\n",
       "      <td>Lenexa Running</td>\n",
       "      <td>3.00</td>\n",
       "      <td>280</td>\n",
       "      <td>00:26:40</td>\n",
       "      <td>163</td>\n",
       "      <td>177</td>\n",
       "      <td>166</td>\n",
       "      <td>172</td>\n",
       "      <td>8:53</td>\n",
       "      <td>8:13</td>\n",
       "      <td>50</td>\n",
       "      <td>61</td>\n",
       "      <td>1.09</td>\n",
       "      <td>00:26:40</td>\n",
       "      <td>00:26:40</td>\n",
       "      <td>952</td>\n",
       "      <td>997</td>\n",
       "      <td>82</td>\n",
       "      <td>55</td>\n",
       "      <td>7</td>\n",
       "      <td>2022</td>\n",
       "      <td>09</td>\n",
       "      <td>45</td>\n",
       "      <td>8:53</td>\n",
       "      <td>8</td>\n",
       "      <td>53</td>\n",
       "      <td>8.883333</td>\n",
       "    </tr>\n",
       "    <tr>\n",
       "      <th>4</th>\n",
       "      <td>Running</td>\n",
       "      <td>2022-08-31</td>\n",
       "      <td>Lenexa Running</td>\n",
       "      <td>3.00</td>\n",
       "      <td>282</td>\n",
       "      <td>00:26:10</td>\n",
       "      <td>167</td>\n",
       "      <td>181</td>\n",
       "      <td>168</td>\n",
       "      <td>172</td>\n",
       "      <td>8:43</td>\n",
       "      <td>8:11</td>\n",
       "      <td>50</td>\n",
       "      <td>54</td>\n",
       "      <td>1.10</td>\n",
       "      <td>00:26:04</td>\n",
       "      <td>00:26:38</td>\n",
       "      <td>952</td>\n",
       "      <td>996</td>\n",
       "      <td>84</td>\n",
       "      <td>40</td>\n",
       "      <td>5</td>\n",
       "      <td>2022</td>\n",
       "      <td>08</td>\n",
       "      <td>44</td>\n",
       "      <td>8:43</td>\n",
       "      <td>8</td>\n",
       "      <td>43</td>\n",
       "      <td>8.716667</td>\n",
       "    </tr>\n",
       "  </tbody>\n",
       "</table>\n",
       "</div>"
      ],
      "text/plain": [
       "  activity_type        date           title  distance  calories      time  \\\n",
       "0       Running  2022-09-21  Lenexa Running      3.00       274  00:26:48   \n",
       "1       Running  2022-09-12  Lenexa Running      3.01       281  00:26:21   \n",
       "2       Running  2022-09-09  Lenexa Running      4.00       417  00:39:06   \n",
       "3       Running  2022-09-06  Lenexa Running      3.00       280  00:26:40   \n",
       "4       Running  2022-08-31  Lenexa Running      3.00       282  00:26:10   \n",
       "\n",
       "   avg_hr  max_hr  avg_cadence  max_cadence avg_pace best_pace  total_ascent  \\\n",
       "0     161     173          167          172     8:55      8:24            81   \n",
       "1     166     179          168          174     8:46      8:16            60   \n",
       "2     166     181          156          179     9:46      8:17           149   \n",
       "3     163     177          166          172     8:53      8:13            50   \n",
       "4     167     181          168          172     8:43      8:11            50   \n",
       "\n",
       "   total_descent  avg_stride moving_time elapsed_time  min_elevation  \\\n",
       "0            102        1.08    00:26:44     00:27:26            951   \n",
       "1             65        1.09    00:26:19     00:26:25            952   \n",
       "2            144        1.06    00:39:06     00:39:06            952   \n",
       "3             61        1.09    00:26:40     00:26:40            952   \n",
       "4             54        1.10    00:26:04     00:26:38            952   \n",
       "\n",
       "   max_elevation  temp  humidity  wind  year month  elev_diff pace_str  \\\n",
       "0            996    75        69    21  2022    09         45     8:55   \n",
       "1            996    82        30    12  2022    09         44     8:46   \n",
       "2           1027    88        36     7  2022    09         75     9:46   \n",
       "3            997    82        55     7  2022    09         45     8:53   \n",
       "4            996    84        40     5  2022    08         44     8:43   \n",
       "\n",
       "   pace_min  pace_sec  avg_pace_int  \n",
       "0         8        55      8.916667  \n",
       "1         8        46      8.766667  \n",
       "2         9        46      9.766667  \n",
       "3         8        53      8.883333  \n",
       "4         8        43      8.716667  "
      ]
     },
     "execution_count": 20,
     "metadata": {},
     "output_type": "execute_result"
    }
   ],
   "source": [
    "# Get just date from 'date' column\n",
    "activities_reg.date = pd.to_datetime(activities_reg.date)\n",
    "activities_reg.date = activities_reg.date.apply(lambda x: x.strftime('%Y-%m-%d'))\n",
    "\n",
    "# Convert avg_pace to int type\n",
    "activities_reg['pace_str'] = activities_reg.avg_pace.astype(str)\n",
    "activities_reg['pace_min'] = activities_reg.pace_str.apply(lambda x: x[0:1] if len(x) == 4 else x[0:2]).astype('int')\n",
    "activities_reg['pace_sec'] = activities_reg.pace_str.apply(lambda x: x[-2:]).astype('int')\n",
    "activities_reg['avg_pace_int'] = activities_reg.pace_min + (activities_reg.pace_sec / 60)\n",
    "\n",
    "activities_reg.head()"
   ]
  },
  {
   "cell_type": "code",
   "execution_count": 21,
   "id": "8e77429a",
   "metadata": {},
   "outputs": [
    {
     "name": "stdout",
     "output_type": "stream",
     "text": [
      "<class 'pandas.core.frame.DataFrame'>\n",
      "RangeIndex: 358 entries, 0 to 357\n",
      "Data columns (total 29 columns):\n",
      " #   Column         Non-Null Count  Dtype  \n",
      "---  ------         --------------  -----  \n",
      " 0   activity_type  358 non-null    object \n",
      " 1   date           358 non-null    object \n",
      " 2   title          358 non-null    object \n",
      " 3   distance       358 non-null    float64\n",
      " 4   calories       358 non-null    int64  \n",
      " 5   time           358 non-null    object \n",
      " 6   avg_hr         358 non-null    int64  \n",
      " 7   max_hr         358 non-null    int64  \n",
      " 8   avg_cadence    358 non-null    int64  \n",
      " 9   max_cadence    358 non-null    int64  \n",
      " 10  avg_pace       358 non-null    object \n",
      " 11  best_pace      358 non-null    object \n",
      " 12  total_ascent   358 non-null    int64  \n",
      " 13  total_descent  358 non-null    int64  \n",
      " 14  avg_stride     358 non-null    float64\n",
      " 15  moving_time    358 non-null    object \n",
      " 16  elapsed_time   358 non-null    object \n",
      " 17  min_elevation  358 non-null    int64  \n",
      " 18  max_elevation  358 non-null    int64  \n",
      " 19  temp           358 non-null    int64  \n",
      " 20  humidity       358 non-null    int64  \n",
      " 21  wind           358 non-null    int64  \n",
      " 22  year           358 non-null    object \n",
      " 23  month          358 non-null    object \n",
      " 24  elev_diff      358 non-null    int64  \n",
      " 25  pace_str       358 non-null    object \n",
      " 26  pace_min       358 non-null    int64  \n",
      " 27  pace_sec       358 non-null    int64  \n",
      " 28  avg_pace_int   358 non-null    float64\n",
      "dtypes: float64(3), int64(15), object(11)\n",
      "memory usage: 81.2+ KB\n"
     ]
    }
   ],
   "source": [
    "activities_reg.info()"
   ]
  },
  {
   "cell_type": "markdown",
   "id": "7abe0abd",
   "metadata": {},
   "source": [
    "## EDA"
   ]
  },
  {
   "cell_type": "code",
   "execution_count": 22,
   "id": "2e206682",
   "metadata": {},
   "outputs": [
    {
     "data": {
      "text/html": [
       "<div>\n",
       "<style scoped>\n",
       "    .dataframe tbody tr th:only-of-type {\n",
       "        vertical-align: middle;\n",
       "    }\n",
       "\n",
       "    .dataframe tbody tr th {\n",
       "        vertical-align: top;\n",
       "    }\n",
       "\n",
       "    .dataframe thead th {\n",
       "        text-align: right;\n",
       "    }\n",
       "</style>\n",
       "<table border=\"1\" class=\"dataframe\">\n",
       "  <thead>\n",
       "    <tr style=\"text-align: right;\">\n",
       "      <th></th>\n",
       "      <th>activity_type</th>\n",
       "      <th>date</th>\n",
       "      <th>title</th>\n",
       "      <th>distance</th>\n",
       "      <th>calories</th>\n",
       "      <th>time</th>\n",
       "      <th>avg_hr</th>\n",
       "      <th>max_hr</th>\n",
       "      <th>avg_cadence</th>\n",
       "      <th>max_cadence</th>\n",
       "      <th>avg_pace</th>\n",
       "      <th>best_pace</th>\n",
       "      <th>total_ascent</th>\n",
       "      <th>total_descent</th>\n",
       "      <th>avg_stride</th>\n",
       "      <th>moving_time</th>\n",
       "      <th>elapsed_time</th>\n",
       "      <th>min_elevation</th>\n",
       "      <th>max_elevation</th>\n",
       "      <th>temp</th>\n",
       "      <th>humidity</th>\n",
       "      <th>wind</th>\n",
       "      <th>year</th>\n",
       "      <th>month</th>\n",
       "      <th>elev_diff</th>\n",
       "      <th>pace_str</th>\n",
       "      <th>pace_min</th>\n",
       "      <th>pace_sec</th>\n",
       "      <th>avg_pace_int</th>\n",
       "    </tr>\n",
       "  </thead>\n",
       "  <tbody>\n",
       "    <tr>\n",
       "      <th>count</th>\n",
       "      <td>358</td>\n",
       "      <td>358</td>\n",
       "      <td>358</td>\n",
       "      <td>358.000000</td>\n",
       "      <td>358.000000</td>\n",
       "      <td>358</td>\n",
       "      <td>358.000000</td>\n",
       "      <td>358.000000</td>\n",
       "      <td>358.000000</td>\n",
       "      <td>358.000000</td>\n",
       "      <td>358</td>\n",
       "      <td>358</td>\n",
       "      <td>358.000000</td>\n",
       "      <td>358.000000</td>\n",
       "      <td>358.000000</td>\n",
       "      <td>358</td>\n",
       "      <td>358</td>\n",
       "      <td>358.000000</td>\n",
       "      <td>358.000000</td>\n",
       "      <td>358.000000</td>\n",
       "      <td>358.000000</td>\n",
       "      <td>358.000000</td>\n",
       "      <td>358</td>\n",
       "      <td>358</td>\n",
       "      <td>358.000000</td>\n",
       "      <td>358</td>\n",
       "      <td>358.000000</td>\n",
       "      <td>358.000000</td>\n",
       "      <td>358.000000</td>\n",
       "    </tr>\n",
       "    <tr>\n",
       "      <th>unique</th>\n",
       "      <td>1</td>\n",
       "      <td>358</td>\n",
       "      <td>5</td>\n",
       "      <td>NaN</td>\n",
       "      <td>NaN</td>\n",
       "      <td>313</td>\n",
       "      <td>NaN</td>\n",
       "      <td>NaN</td>\n",
       "      <td>NaN</td>\n",
       "      <td>NaN</td>\n",
       "      <td>105</td>\n",
       "      <td>117</td>\n",
       "      <td>NaN</td>\n",
       "      <td>NaN</td>\n",
       "      <td>NaN</td>\n",
       "      <td>312</td>\n",
       "      <td>333</td>\n",
       "      <td>NaN</td>\n",
       "      <td>NaN</td>\n",
       "      <td>NaN</td>\n",
       "      <td>NaN</td>\n",
       "      <td>NaN</td>\n",
       "      <td>6</td>\n",
       "      <td>12</td>\n",
       "      <td>NaN</td>\n",
       "      <td>105</td>\n",
       "      <td>NaN</td>\n",
       "      <td>NaN</td>\n",
       "      <td>NaN</td>\n",
       "    </tr>\n",
       "    <tr>\n",
       "      <th>top</th>\n",
       "      <td>Running</td>\n",
       "      <td>2022-09-21</td>\n",
       "      <td>Shawnee Running</td>\n",
       "      <td>NaN</td>\n",
       "      <td>NaN</td>\n",
       "      <td>00:26:32</td>\n",
       "      <td>NaN</td>\n",
       "      <td>NaN</td>\n",
       "      <td>NaN</td>\n",
       "      <td>NaN</td>\n",
       "      <td>8:46</td>\n",
       "      <td>7:22</td>\n",
       "      <td>NaN</td>\n",
       "      <td>NaN</td>\n",
       "      <td>NaN</td>\n",
       "      <td>00:36:21</td>\n",
       "      <td>00:40:24</td>\n",
       "      <td>NaN</td>\n",
       "      <td>NaN</td>\n",
       "      <td>NaN</td>\n",
       "      <td>NaN</td>\n",
       "      <td>NaN</td>\n",
       "      <td>2018</td>\n",
       "      <td>08</td>\n",
       "      <td>NaN</td>\n",
       "      <td>8:46</td>\n",
       "      <td>NaN</td>\n",
       "      <td>NaN</td>\n",
       "      <td>NaN</td>\n",
       "    </tr>\n",
       "    <tr>\n",
       "      <th>freq</th>\n",
       "      <td>358</td>\n",
       "      <td>1</td>\n",
       "      <td>293</td>\n",
       "      <td>NaN</td>\n",
       "      <td>NaN</td>\n",
       "      <td>3</td>\n",
       "      <td>NaN</td>\n",
       "      <td>NaN</td>\n",
       "      <td>NaN</td>\n",
       "      <td>NaN</td>\n",
       "      <td>13</td>\n",
       "      <td>10</td>\n",
       "      <td>NaN</td>\n",
       "      <td>NaN</td>\n",
       "      <td>NaN</td>\n",
       "      <td>3</td>\n",
       "      <td>3</td>\n",
       "      <td>NaN</td>\n",
       "      <td>NaN</td>\n",
       "      <td>NaN</td>\n",
       "      <td>NaN</td>\n",
       "      <td>NaN</td>\n",
       "      <td>87</td>\n",
       "      <td>43</td>\n",
       "      <td>NaN</td>\n",
       "      <td>13</td>\n",
       "      <td>NaN</td>\n",
       "      <td>NaN</td>\n",
       "      <td>NaN</td>\n",
       "    </tr>\n",
       "    <tr>\n",
       "      <th>mean</th>\n",
       "      <td>NaN</td>\n",
       "      <td>NaN</td>\n",
       "      <td>NaN</td>\n",
       "      <td>4.179777</td>\n",
       "      <td>410.477654</td>\n",
       "      <td>NaN</td>\n",
       "      <td>162.187151</td>\n",
       "      <td>182.782123</td>\n",
       "      <td>166.706704</td>\n",
       "      <td>186.432961</td>\n",
       "      <td>NaN</td>\n",
       "      <td>NaN</td>\n",
       "      <td>109.527933</td>\n",
       "      <td>130.041899</td>\n",
       "      <td>1.074832</td>\n",
       "      <td>NaN</td>\n",
       "      <td>NaN</td>\n",
       "      <td>801.754190</td>\n",
       "      <td>922.860335</td>\n",
       "      <td>68.513966</td>\n",
       "      <td>49.667598</td>\n",
       "      <td>10.337989</td>\n",
       "      <td>NaN</td>\n",
       "      <td>NaN</td>\n",
       "      <td>121.106145</td>\n",
       "      <td>NaN</td>\n",
       "      <td>8.466480</td>\n",
       "      <td>31.729050</td>\n",
       "      <td>8.995298</td>\n",
       "    </tr>\n",
       "    <tr>\n",
       "      <th>std</th>\n",
       "      <td>NaN</td>\n",
       "      <td>NaN</td>\n",
       "      <td>NaN</td>\n",
       "      <td>1.183189</td>\n",
       "      <td>124.254610</td>\n",
       "      <td>NaN</td>\n",
       "      <td>13.148203</td>\n",
       "      <td>14.333073</td>\n",
       "      <td>4.938899</td>\n",
       "      <td>13.164962</td>\n",
       "      <td>NaN</td>\n",
       "      <td>NaN</td>\n",
       "      <td>42.354355</td>\n",
       "      <td>39.695069</td>\n",
       "      <td>0.029169</td>\n",
       "      <td>NaN</td>\n",
       "      <td>NaN</td>\n",
       "      <td>65.968382</td>\n",
       "      <td>38.224496</td>\n",
       "      <td>16.676140</td>\n",
       "      <td>16.506636</td>\n",
       "      <td>4.960376</td>\n",
       "      <td>NaN</td>\n",
       "      <td>NaN</td>\n",
       "      <td>30.607755</td>\n",
       "      <td>NaN</td>\n",
       "      <td>0.567805</td>\n",
       "      <td>17.649301</td>\n",
       "      <td>0.432664</td>\n",
       "    </tr>\n",
       "    <tr>\n",
       "      <th>min</th>\n",
       "      <td>NaN</td>\n",
       "      <td>NaN</td>\n",
       "      <td>NaN</td>\n",
       "      <td>2.320000</td>\n",
       "      <td>219.000000</td>\n",
       "      <td>NaN</td>\n",
       "      <td>0.000000</td>\n",
       "      <td>0.000000</td>\n",
       "      <td>147.000000</td>\n",
       "      <td>172.000000</td>\n",
       "      <td>NaN</td>\n",
       "      <td>NaN</td>\n",
       "      <td>42.000000</td>\n",
       "      <td>47.000000</td>\n",
       "      <td>0.980000</td>\n",
       "      <td>NaN</td>\n",
       "      <td>NaN</td>\n",
       "      <td>738.000000</td>\n",
       "      <td>853.000000</td>\n",
       "      <td>21.000000</td>\n",
       "      <td>13.000000</td>\n",
       "      <td>0.000000</td>\n",
       "      <td>NaN</td>\n",
       "      <td>NaN</td>\n",
       "      <td>43.000000</td>\n",
       "      <td>NaN</td>\n",
       "      <td>7.000000</td>\n",
       "      <td>0.000000</td>\n",
       "      <td>7.983333</td>\n",
       "    </tr>\n",
       "    <tr>\n",
       "      <th>25%</th>\n",
       "      <td>NaN</td>\n",
       "      <td>NaN</td>\n",
       "      <td>NaN</td>\n",
       "      <td>3.010000</td>\n",
       "      <td>300.000000</td>\n",
       "      <td>NaN</td>\n",
       "      <td>160.250000</td>\n",
       "      <td>181.000000</td>\n",
       "      <td>164.000000</td>\n",
       "      <td>180.000000</td>\n",
       "      <td>NaN</td>\n",
       "      <td>NaN</td>\n",
       "      <td>94.000000</td>\n",
       "      <td>120.000000</td>\n",
       "      <td>1.050000</td>\n",
       "      <td>NaN</td>\n",
       "      <td>NaN</td>\n",
       "      <td>764.000000</td>\n",
       "      <td>905.000000</td>\n",
       "      <td>55.000000</td>\n",
       "      <td>38.000000</td>\n",
       "      <td>7.000000</td>\n",
       "      <td>NaN</td>\n",
       "      <td>NaN</td>\n",
       "      <td>124.000000</td>\n",
       "      <td>NaN</td>\n",
       "      <td>8.000000</td>\n",
       "      <td>16.000000</td>\n",
       "      <td>8.687500</td>\n",
       "    </tr>\n",
       "    <tr>\n",
       "      <th>50%</th>\n",
       "      <td>NaN</td>\n",
       "      <td>NaN</td>\n",
       "      <td>NaN</td>\n",
       "      <td>4.000000</td>\n",
       "      <td>388.500000</td>\n",
       "      <td>NaN</td>\n",
       "      <td>164.000000</td>\n",
       "      <td>184.000000</td>\n",
       "      <td>168.000000</td>\n",
       "      <td>183.000000</td>\n",
       "      <td>NaN</td>\n",
       "      <td>NaN</td>\n",
       "      <td>106.000000</td>\n",
       "      <td>126.000000</td>\n",
       "      <td>1.070000</td>\n",
       "      <td>NaN</td>\n",
       "      <td>NaN</td>\n",
       "      <td>780.000000</td>\n",
       "      <td>906.000000</td>\n",
       "      <td>72.000000</td>\n",
       "      <td>48.000000</td>\n",
       "      <td>10.000000</td>\n",
       "      <td>NaN</td>\n",
       "      <td>NaN</td>\n",
       "      <td>127.000000</td>\n",
       "      <td>NaN</td>\n",
       "      <td>8.000000</td>\n",
       "      <td>34.000000</td>\n",
       "      <td>8.916667</td>\n",
       "    </tr>\n",
       "    <tr>\n",
       "      <th>75%</th>\n",
       "      <td>NaN</td>\n",
       "      <td>NaN</td>\n",
       "      <td>NaN</td>\n",
       "      <td>5.010000</td>\n",
       "      <td>487.250000</td>\n",
       "      <td>NaN</td>\n",
       "      <td>166.000000</td>\n",
       "      <td>186.000000</td>\n",
       "      <td>170.000000</td>\n",
       "      <td>187.000000</td>\n",
       "      <td>NaN</td>\n",
       "      <td>NaN</td>\n",
       "      <td>119.750000</td>\n",
       "      <td>140.750000</td>\n",
       "      <td>1.090000</td>\n",
       "      <td>NaN</td>\n",
       "      <td>NaN</td>\n",
       "      <td>780.000000</td>\n",
       "      <td>909.000000</td>\n",
       "      <td>82.000000</td>\n",
       "      <td>61.000000</td>\n",
       "      <td>13.000000</td>\n",
       "      <td>NaN</td>\n",
       "      <td>NaN</td>\n",
       "      <td>141.000000</td>\n",
       "      <td>NaN</td>\n",
       "      <td>9.000000</td>\n",
       "      <td>47.000000</td>\n",
       "      <td>9.200000</td>\n",
       "    </tr>\n",
       "    <tr>\n",
       "      <th>max</th>\n",
       "      <td>NaN</td>\n",
       "      <td>NaN</td>\n",
       "      <td>NaN</td>\n",
       "      <td>10.010000</td>\n",
       "      <td>956.000000</td>\n",
       "      <td>NaN</td>\n",
       "      <td>176.000000</td>\n",
       "      <td>197.000000</td>\n",
       "      <td>174.000000</td>\n",
       "      <td>240.000000</td>\n",
       "      <td>NaN</td>\n",
       "      <td>NaN</td>\n",
       "      <td>522.000000</td>\n",
       "      <td>499.000000</td>\n",
       "      <td>1.200000</td>\n",
       "      <td>NaN</td>\n",
       "      <td>NaN</td>\n",
       "      <td>953.000000</td>\n",
       "      <td>1043.000000</td>\n",
       "      <td>99.000000</td>\n",
       "      <td>100.000000</td>\n",
       "      <td>28.000000</td>\n",
       "      <td>NaN</td>\n",
       "      <td>NaN</td>\n",
       "      <td>202.000000</td>\n",
       "      <td>NaN</td>\n",
       "      <td>10.000000</td>\n",
       "      <td>59.000000</td>\n",
       "      <td>10.450000</td>\n",
       "    </tr>\n",
       "  </tbody>\n",
       "</table>\n",
       "</div>"
      ],
      "text/plain": [
       "       activity_type        date            title    distance    calories  \\\n",
       "count            358         358              358  358.000000  358.000000   \n",
       "unique             1         358                5         NaN         NaN   \n",
       "top          Running  2022-09-21  Shawnee Running         NaN         NaN   \n",
       "freq             358           1              293         NaN         NaN   \n",
       "mean             NaN         NaN              NaN    4.179777  410.477654   \n",
       "std              NaN         NaN              NaN    1.183189  124.254610   \n",
       "min              NaN         NaN              NaN    2.320000  219.000000   \n",
       "25%              NaN         NaN              NaN    3.010000  300.000000   \n",
       "50%              NaN         NaN              NaN    4.000000  388.500000   \n",
       "75%              NaN         NaN              NaN    5.010000  487.250000   \n",
       "max              NaN         NaN              NaN   10.010000  956.000000   \n",
       "\n",
       "            time      avg_hr      max_hr  avg_cadence  max_cadence avg_pace  \\\n",
       "count        358  358.000000  358.000000   358.000000   358.000000      358   \n",
       "unique       313         NaN         NaN          NaN          NaN      105   \n",
       "top     00:26:32         NaN         NaN          NaN          NaN     8:46   \n",
       "freq           3         NaN         NaN          NaN          NaN       13   \n",
       "mean         NaN  162.187151  182.782123   166.706704   186.432961      NaN   \n",
       "std          NaN   13.148203   14.333073     4.938899    13.164962      NaN   \n",
       "min          NaN    0.000000    0.000000   147.000000   172.000000      NaN   \n",
       "25%          NaN  160.250000  181.000000   164.000000   180.000000      NaN   \n",
       "50%          NaN  164.000000  184.000000   168.000000   183.000000      NaN   \n",
       "75%          NaN  166.000000  186.000000   170.000000   187.000000      NaN   \n",
       "max          NaN  176.000000  197.000000   174.000000   240.000000      NaN   \n",
       "\n",
       "       best_pace  total_ascent  total_descent  avg_stride moving_time  \\\n",
       "count        358    358.000000     358.000000  358.000000         358   \n",
       "unique       117           NaN            NaN         NaN         312   \n",
       "top         7:22           NaN            NaN         NaN    00:36:21   \n",
       "freq          10           NaN            NaN         NaN           3   \n",
       "mean         NaN    109.527933     130.041899    1.074832         NaN   \n",
       "std          NaN     42.354355      39.695069    0.029169         NaN   \n",
       "min          NaN     42.000000      47.000000    0.980000         NaN   \n",
       "25%          NaN     94.000000     120.000000    1.050000         NaN   \n",
       "50%          NaN    106.000000     126.000000    1.070000         NaN   \n",
       "75%          NaN    119.750000     140.750000    1.090000         NaN   \n",
       "max          NaN    522.000000     499.000000    1.200000         NaN   \n",
       "\n",
       "       elapsed_time  min_elevation  max_elevation        temp    humidity  \\\n",
       "count           358     358.000000     358.000000  358.000000  358.000000   \n",
       "unique          333            NaN            NaN         NaN         NaN   \n",
       "top        00:40:24            NaN            NaN         NaN         NaN   \n",
       "freq              3            NaN            NaN         NaN         NaN   \n",
       "mean            NaN     801.754190     922.860335   68.513966   49.667598   \n",
       "std             NaN      65.968382      38.224496   16.676140   16.506636   \n",
       "min             NaN     738.000000     853.000000   21.000000   13.000000   \n",
       "25%             NaN     764.000000     905.000000   55.000000   38.000000   \n",
       "50%             NaN     780.000000     906.000000   72.000000   48.000000   \n",
       "75%             NaN     780.000000     909.000000   82.000000   61.000000   \n",
       "max             NaN     953.000000    1043.000000   99.000000  100.000000   \n",
       "\n",
       "              wind  year month   elev_diff pace_str    pace_min    pace_sec  \\\n",
       "count   358.000000   358   358  358.000000      358  358.000000  358.000000   \n",
       "unique         NaN     6    12         NaN      105         NaN         NaN   \n",
       "top            NaN  2018    08         NaN     8:46         NaN         NaN   \n",
       "freq           NaN    87    43         NaN       13         NaN         NaN   \n",
       "mean     10.337989   NaN   NaN  121.106145      NaN    8.466480   31.729050   \n",
       "std       4.960376   NaN   NaN   30.607755      NaN    0.567805   17.649301   \n",
       "min       0.000000   NaN   NaN   43.000000      NaN    7.000000    0.000000   \n",
       "25%       7.000000   NaN   NaN  124.000000      NaN    8.000000   16.000000   \n",
       "50%      10.000000   NaN   NaN  127.000000      NaN    8.000000   34.000000   \n",
       "75%      13.000000   NaN   NaN  141.000000      NaN    9.000000   47.000000   \n",
       "max      28.000000   NaN   NaN  202.000000      NaN   10.000000   59.000000   \n",
       "\n",
       "        avg_pace_int  \n",
       "count     358.000000  \n",
       "unique           NaN  \n",
       "top              NaN  \n",
       "freq             NaN  \n",
       "mean        8.995298  \n",
       "std         0.432664  \n",
       "min         7.983333  \n",
       "25%         8.687500  \n",
       "50%         8.916667  \n",
       "75%         9.200000  \n",
       "max        10.450000  "
      ]
     },
     "execution_count": 22,
     "metadata": {},
     "output_type": "execute_result"
    }
   ],
   "source": [
    "activities_reg.describe(include = 'all', datetime_is_numeric = True)"
   ]
  },
  {
   "cell_type": "code",
   "execution_count": 23,
   "id": "db4ddcbe",
   "metadata": {},
   "outputs": [
    {
     "data": {
      "image/png": "[encoded data removed]",
      "text/plain": [
       "<Figure size 432x288 with 1 Axes>"
      ]
     },
     "metadata": {
      "needs_background": "light"
     },
     "output_type": "display_data"
    },
    {
     "data": {
      "text/plain": [
       "<Figure size 432x288 with 0 Axes>"
      ]
     },
     "metadata": {},
     "output_type": "display_data"
    }
   ],
   "source": [
    "# Check distribution of average pace values\n",
    "plt.hist(activities_reg.avg_pace_int)\n",
    "plt.title('Distribution of Mile Times')\n",
    "plt.xlabel('Mile Time')\n",
    "plt.show()\n",
    "plt.clf()\n",
    "\n",
    "# Slightly right-skewed"
   ]
  },
  {
   "cell_type": "code",
   "execution_count": 24,
   "id": "b84ed106",
   "metadata": {
    "scrolled": true
   },
   "outputs": [
    {
     "data": {
      "image/png": "[encoded data removed]",
      "text/plain": [
       "<Figure size 432x288 with 1 Axes>"
      ]
     },
     "metadata": {
      "needs_background": "light"
     },
     "output_type": "display_data"
    },
    {
     "data": {
      "text/plain": [
       "<Figure size 432x288 with 0 Axes>"
      ]
     },
     "metadata": {},
     "output_type": "display_data"
    }
   ],
   "source": [
    "# Compare total miles run by year (up to September)b\n",
    "years = activities_all.year.unique()\n",
    "miles = [sum(activities_all.distance[(activities_all.year == i) & (activities_all.month <= '09')]) for i in years]\n",
    "\n",
    "plt.bar(years, miles)\n",
    "plt.title('Total Miles Run Per Year (Jan - Sept)')\n",
    "plt.xlabel('Year')\n",
    "plt.ylabel('Miles Run')\n",
    "plt.show()\n",
    "plt.clf()"
   ]
  },
  {
   "cell_type": "markdown",
   "id": "b0fd3fa0",
   "metadata": {},
   "source": [
    "The total miles run in 2022 up to September is not noticeably different than in 2021 and 2020."
   ]
  },
  {
   "cell_type": "code",
   "execution_count": 25,
   "id": "e31ec649",
   "metadata": {},
   "outputs": [
    {
     "data": {
      "image/png": "[encoded data removed]",
      "text/plain": [
       "<Figure size 576x432 with 2 Axes>"
      ]
     },
     "metadata": {
      "needs_background": "light"
     },
     "output_type": "display_data"
    },
    {
     "data": {
      "text/plain": [
       "<Figure size 432x288 with 0 Axes>"
      ]
     },
     "metadata": {},
     "output_type": "display_data"
    }
   ],
   "source": [
    "# Heatmap of miles per month\n",
    "totals = activities_all.groupby(['year', 'month']).sum()\n",
    "totals_mnth_yr = totals.reset_index().pivot(index = 'year', columns = 'month', values = 'distance')\n",
    "\n",
    "plt.figure(figsize = (8, 6))\n",
    "\n",
    "sns.heatmap(totals_mnth_yr, cbar_kws = {'label': 'Total Miles'})\n",
    "plt.title('Miles Run Per Month By Year')\n",
    "plt.show()\n",
    "plt.clf()"
   ]
  },
  {
   "cell_type": "markdown",
   "id": "25a4a49f",
   "metadata": {},
   "source": [
    "The total number of miles run per month is fairly consistent, with the exception of the summers of 2017-2019, which had higher monthly totals."
   ]
  },
  {
   "cell_type": "code",
   "execution_count": 26,
   "id": "d872f9b9",
   "metadata": {},
   "outputs": [
    {
     "data": {
      "image/png": "[encoded data removed]",
      "text/plain": [
       "<Figure size 432x288 with 1 Axes>"
      ]
     },
     "metadata": {
      "needs_background": "light"
     },
     "output_type": "display_data"
    },
    {
     "data": {
      "text/plain": [
       "<Figure size 432x288 with 0 Axes>"
      ]
     },
     "metadata": {},
     "output_type": "display_data"
    }
   ],
   "source": [
    "pplt.autocorrelation_plot(activities_all.distance)\n",
    "plt.title('Autocorrelation Plot of Miles Run')\n",
    "plt.show()\n",
    "plt.clf()"
   ]
  },
  {
   "cell_type": "markdown",
   "id": "83bb16cf",
   "metadata": {},
   "source": [
    "There does not appear to be seasonality, and the observations appear to be independent of each other."
   ]
  },
  {
   "cell_type": "code",
   "execution_count": 27,
   "id": "f8ba0c93",
   "metadata": {},
   "outputs": [
    {
     "data": {
      "image/png": "[encoded data removed]",
      "text/plain": [
       "<Figure size 432x288 with 1 Axes>"
      ]
     },
     "metadata": {
      "needs_background": "light"
     },
     "output_type": "display_data"
    },
    {
     "data": {
      "text/plain": [
       "<Figure size 432x288 with 0 Axes>"
      ]
     },
     "metadata": {},
     "output_type": "display_data"
    }
   ],
   "source": [
    "# Plot average run distance by year\n",
    "years = activities_all.year.unique()\n",
    "avg_dist = [(activities_all.distance[activities_all.year == i]).mean() for i in years]\n",
    "\n",
    "plt.bar(years, avg_dist)\n",
    "plt.title('Average Run Distance by Year')\n",
    "plt.xlabel('Year')\n",
    "plt.ylabel('Distance (Miles)')\n",
    "plt.show()\n",
    "plt.clf()"
   ]
  },
  {
   "cell_type": "markdown",
   "id": "3a2c95e8",
   "metadata": {},
   "source": [
    "My average distance per run has been consistent over the past 3 years, with higher averages in previous years."
   ]
  },
  {
   "cell_type": "markdown",
   "id": "35535e79",
   "metadata": {},
   "source": [
    "# Analysis"
   ]
  },
  {
   "cell_type": "markdown",
   "id": "5b7045e5",
   "metadata": {},
   "source": [
    "## Goal 1: test for significant difference in average mile pace before and after March 20, 2022 (estimated onset of chronic fatigue)"
   ]
  },
  {
   "cell_type": "markdown",
   "id": "4e6a1854",
   "metadata": {},
   "source": [
    "Null Hypothesis: There is not a significant difference in my average mile pace before and after March 20, 2022. \n",
    "\n",
    "Alternative Hypothesis: There is a significant difference in my average mile pace before and after March 20, 2022.\n",
    "\n",
    "Significance threshold: 0.05\n",
    "\n",
    "Method: I will use data for runs between 3 and 4 miles in length to limit pace variation due to distance.\n",
    "Divide data into different sets:"
   ]
  },
  {
   "cell_type": "markdown",
   "id": "5f27aaa8",
   "metadata": {},
   "source": [
    " 1. Data after March 20, 2022\n",
    " 2. All data before March 20, 2022\n",
    " 3. Data from previous years for the same months as set 1 (March - September) (seasonal comparison)"
   ]
  },
  {
   "cell_type": "code",
   "execution_count": 28,
   "id": "3b3a81e0",
   "metadata": {},
   "outputs": [],
   "source": [
    "# Get data for runs between 3 and 4 miles in length\n",
    "activities_3_4 = activities_reg[(activities_reg.distance >= 3) & (activities_reg.distance <= 4)]"
   ]
  },
  {
   "cell_type": "code",
   "execution_count": 29,
   "id": "2b16f323",
   "metadata": {},
   "outputs": [],
   "source": [
    "# Get data for runs after March 20, 2022 (set 1)\n",
    "activities_after = activities_3_4[activities_3_4.date >= '2022-03-20']"
   ]
  },
  {
   "cell_type": "code",
   "execution_count": 30,
   "id": "ea172ab9",
   "metadata": {},
   "outputs": [],
   "source": [
    "# Get data for runs before March 20, 2022 (set 2)\n",
    "activities_before = activities_3_4[activities_3_4.date < '2022-03-20']"
   ]
  },
  {
   "cell_type": "code",
   "execution_count": 31,
   "id": "47ece2f7",
   "metadata": {},
   "outputs": [],
   "source": [
    "# Get data for March - September for previous years (set 3)\n",
    "summer_2017 = activities_before[(activities_before.date >= '2017-03-20') & (activities_before.date <= '2017-09-21')]\n",
    "summer_2018 = activities_before[(activities_before.date >= '2018-03-20') & (activities_before.date <= '2018-09-21')]\n",
    "summer_2019 = activities_before[(activities_before.date >= '2019-03-20') & (activities_before.date <= '2019-09-21')]\n",
    "summer_2020 = activities_before[(activities_before.date >= '2020-03-20') & (activities_before.date <= '2020-09-21')]\n",
    "summer_2021 = activities_before[(activities_before.date >= '2021-03-20') & (activities_before.date <= '2021-09-21')]"
   ]
  },
  {
   "cell_type": "code",
   "execution_count": 32,
   "id": "2553c6f5",
   "metadata": {},
   "outputs": [
    {
     "data": {
      "text/plain": [
       "1.5615890329778401"
      ]
     },
     "execution_count": 32,
     "metadata": {},
     "output_type": "execute_result"
    }
   ],
   "source": [
    "# Check equal variance assumption\n",
    "from statistics import stdev\n",
    "\n",
    "before_st_dev = stdev(activities_before.avg_pace_int)\n",
    "after_st_dev = stdev(activities_after.avg_pace_int)\n",
    "ratio = before_st_dev / after_st_dev\n",
    "ratio"
   ]
  },
  {
   "cell_type": "markdown",
   "id": "7641bfea",
   "metadata": {},
   "source": [
    "The variances are not equal, so the parameter \"equal_var = False\" is needed."
   ]
  },
  {
   "cell_type": "code",
   "execution_count": 33,
   "id": "a7279b42",
   "metadata": {},
   "outputs": [
    {
     "data": {
      "text/plain": [
       "0.9836838069182449"
      ]
     },
     "execution_count": 33,
     "metadata": {},
     "output_type": "execute_result"
    }
   ],
   "source": [
    "# Run two-sample t-test to look for significant difference between data before and after March 20, 2022\n",
    "from scipy.stats import ttest_ind\n",
    "\n",
    "tstat, pval = ttest_ind(activities_before.avg_pace_int, activities_after.avg_pace_int, equal_var = False)\n",
    "pval"
   ]
  },
  {
   "cell_type": "markdown",
   "id": "10bb30de",
   "metadata": {},
   "source": [
    "The p-value is > 0.05, so the null hypothesis cannot be rejected."
   ]
  },
  {
   "cell_type": "code",
   "execution_count": 34,
   "id": "ebeece9f",
   "metadata": {},
   "outputs": [
    {
     "data": {
      "text/plain": [
       "0.0008007860446498849"
      ]
     },
     "execution_count": 34,
     "metadata": {},
     "output_type": "execute_result"
    }
   ],
   "source": [
    "# Run ANOVA on all data sets for the same time period of different years\n",
    "from scipy.stats import f_oneway\n",
    "\n",
    "fstat, pval = f_oneway(activities_after.avg_pace_int, summer_2017.avg_pace_int, summer_2018.avg_pace_int, summer_2019.avg_pace_int, summer_2020.avg_pace_int, summer_2021.avg_pace_int)\n",
    "pval"
   ]
  },
  {
   "cell_type": "markdown",
   "id": "bad87282",
   "metadata": {},
   "source": [
    "The p-value is < 0.05, so at least one pair has a significantly different average."
   ]
  },
  {
   "cell_type": "code",
   "execution_count": 35,
   "id": "796e8531",
   "metadata": {},
   "outputs": [],
   "source": [
    "# Add year column to original data for Tukey's Range Test\n",
    "activities_summer = activities_reg[((activities_reg.date >= '2017-03-20') & (activities_reg.date <= '2017-09-21')) | ((activities_reg.date >= '2018-03-20') & (activities_reg.date <= '2018-09-21')) | ((activities_reg.date >= '2019-03-20') & (activities_reg.date <= '2019-09-21')) | ((activities_reg.date >= '2020-03-20') & (activities_reg.date <= '2020-09-21')) | ((activities_reg.date >= '2021-03-20') & (activities_reg.date <= '2021-09-21')) | ((activities_reg.date >= '2022-03-20') & (activities_reg.date <= '2022-09-21'))]"
   ]
  },
  {
   "cell_type": "code",
   "execution_count": 36,
   "id": "e0d231e1",
   "metadata": {},
   "outputs": [
    {
     "name": "stdout",
     "output_type": "stream",
     "text": [
      "Multiple Comparison of Means - Tukey HSD, FWER=0.05 \n",
      "====================================================\n",
      "group1 group2 meandiff p-adj   lower   upper  reject\n",
      "----------------------------------------------------\n",
      "  2017   2018  -0.0439  0.999 -0.3767  0.2888  False\n",
      "  2017   2019  -0.0048    1.0 -0.3959  0.3864  False\n",
      "  2017   2020   0.1528 0.8137 -0.2001  0.5056  False\n",
      "  2017   2021   0.3492 0.0477   0.002  0.6963   True\n",
      "  2017   2022  -0.0138    1.0 -0.3597   0.332  False\n",
      "  2018   2019   0.0392 0.9991 -0.2684  0.3467  False\n",
      "  2018   2020   0.1967 0.2414 -0.0603  0.4538  False\n",
      "  2018   2021   0.3931 0.0001   0.144  0.6423   True\n",
      "  2018   2022   0.0301 0.9993 -0.2173  0.2775  False\n",
      "  2019   2020   0.1575 0.7409 -0.1717  0.4868  False\n",
      "  2019   2021   0.3539 0.0227  0.0308   0.677   True\n",
      "  2019   2022  -0.0091    1.0 -0.3308  0.3127  False\n",
      "  2020   2021   0.1964 0.3173 -0.0791  0.4718  False\n",
      "  2020   2022  -0.1666 0.5003 -0.4404  0.1072  False\n",
      "  2021   2022   -0.363 0.0017 -0.6294 -0.0965   True\n",
      "----------------------------------------------------\n"
     ]
    }
   ],
   "source": [
    "# Run Tukey's Range Test to find out which pair(s) is significantly different\n",
    "from statsmodels.stats.multicomp import pairwise_tukeyhsd\n",
    "\n",
    "tukey_results = pairwise_tukeyhsd(activities_summer.avg_pace_int, activities_summer.year, 0.05)\n",
    "print(tukey_results)"
   ]
  },
  {
   "cell_type": "markdown",
   "id": "a71dc70d",
   "metadata": {},
   "source": [
    "The year pairs with significant differences in average mile pace are 2017/2021, 2018/2021, 2019/2021, and 2021/2022. This indicates that 2021 is the year that is most different from the others, not 2022."
   ]
  },
  {
   "cell_type": "code",
   "execution_count": 37,
   "id": "bd48fccb",
   "metadata": {},
   "outputs": [
    {
     "data": {
      "image/png": "[encoded data removed]",
      "text/plain": [
       "<Figure size 432x288 with 1 Axes>"
      ]
     },
     "metadata": {
      "needs_background": "light"
     },
     "output_type": "display_data"
    },
    {
     "data": {
      "text/plain": [
       "<Figure size 432x288 with 0 Axes>"
      ]
     },
     "metadata": {},
     "output_type": "display_data"
    }
   ],
   "source": [
    "# Side-by-side boxplot of ANOVA data\n",
    "sns.boxplot(x = activities_summer.year, y = activities_summer.avg_pace_int)\n",
    "plt.title('Average mile paces for summer months by year')\n",
    "plt.xlabel('Year')\n",
    "plt.ylabel('Average Mile Pace (minutes)')\n",
    "plt.show()\n",
    "plt.clf()"
   ]
  },
  {
   "cell_type": "markdown",
   "id": "2f4ebb70",
   "metadata": {},
   "source": [
    "### Conclusion:\n",
    "Based on these analyses, my average mile pace is not significantly different since March 20, 2022 than it was previously."
   ]
  },
  {
   "cell_type": "markdown",
   "id": "7abe7a18",
   "metadata": {},
   "source": [
    "## Goal 2: Predict average mile pace based on run features"
   ]
  },
  {
   "cell_type": "markdown",
   "id": "2a04a3d9",
   "metadata": {},
   "source": [
    "Null Hypothesis: The weather conditions and other features of the run do not influence my average mile pace."
   ]
  },
  {
   "cell_type": "markdown",
   "id": "f3480d4a",
   "metadata": {},
   "source": [
    "Alternative Hypothesis: Weather conditions, elevation, distance, etc. influence my average mile pace."
   ]
  },
  {
   "cell_type": "markdown",
   "id": "f2066ea4",
   "metadata": {},
   "source": [
    "Significance Threshold: 0.05"
   ]
  },
  {
   "cell_type": "markdown",
   "id": "5c40a2b8",
   "metadata": {},
   "source": [
    "Method: I will build a linear regression model using different run parameters to predict the average mile pace of my runs."
   ]
  },
  {
   "cell_type": "code",
   "execution_count": 38,
   "id": "0c9ec168",
   "metadata": {},
   "outputs": [
    {
     "data": {
      "image/png": "[encoded data removed]",
      "text/plain": [
       "<Figure size 415.125x360 with 1 Axes>"
      ]
     },
     "metadata": {
      "needs_background": "light"
     },
     "output_type": "display_data"
    },
    {
     "data": {
      "text/plain": [
       "<Figure size 432x288 with 0 Axes>"
      ]
     },
     "metadata": {},
     "output_type": "display_data"
    }
   ],
   "source": [
    "# Use lmplot to explore dataset\n",
    "sns.lmplot(x = 'temp', y = 'avg_pace_int', hue = 'elev_diff', fit_reg = False, data = activities_reg)\n",
    "plt.title('Regression Plot of Running Data')\n",
    "plt.show()\n",
    "plt.clf()"
   ]
  },
  {
   "cell_type": "code",
   "execution_count": 39,
   "id": "f2c1da10",
   "metadata": {},
   "outputs": [
    {
     "data": {
      "image/png": "[encoded data removed]",
      "text/plain": [
       "<Figure size 1440x1440 with 2 Axes>"
      ]
     },
     "metadata": {
      "needs_background": "light"
     },
     "output_type": "display_data"
    },
    {
     "data": {
      "text/plain": [
       "<Figure size 432x288 with 0 Axes>"
      ]
     },
     "metadata": {},
     "output_type": "display_data"
    }
   ],
   "source": [
    "# Check for multicollinearity\n",
    "corr_grid = activities_reg.corr()\n",
    "\n",
    "plt.figure(figsize = (20, 20))\n",
    "sns.heatmap(corr_grid, xticklabels=corr_grid.columns, yticklabels=corr_grid.columns, vmin=-1, center=0, vmax=1, cmap='PuOr', annot=True)\n",
    "plt.show()\n",
    "plt.clf()"
   ]
  },
  {
   "cell_type": "code",
   "execution_count": 40,
   "id": "1228de63",
   "metadata": {},
   "outputs": [
    {
     "name": "stdout",
     "output_type": "stream",
     "text": [
      "                            OLS Regression Results                            \n",
      "==============================================================================\n",
      "Dep. Variable:           avg_pace_int   R-squared:                       0.276\n",
      "Model:                            OLS   Adj. R-squared:                  0.272\n",
      "Method:                 Least Squares   F-statistic:                     67.67\n",
      "Date:                Fri, 07 Oct 2022   Prob (F-statistic):           1.26e-25\n",
      "Time:                        19:34:06   Log-Likelihood:                -149.73\n",
      "No. Observations:                 358   AIC:                             305.5\n",
      "Df Residuals:                     355   BIC:                             317.1\n",
      "Df Model:                           2                                         \n",
      "Covariance Type:            nonrobust                                         \n",
      "==============================================================================\n",
      "                 coef    std err          t      P>|t|      [0.025      0.975]\n",
      "------------------------------------------------------------------------------\n",
      "Intercept      8.0915      0.110     73.574      0.000       7.875       8.308\n",
      "distance      -0.0067      0.017     -0.407      0.684      -0.039       0.026\n",
      "temp           0.0136      0.001     11.598      0.000       0.011       0.016\n",
      "==============================================================================\n",
      "Omnibus:                       40.656   Durbin-Watson:                   1.296\n",
      "Prob(Omnibus):                  0.000   Jarque-Bera (JB):               53.118\n",
      "Skew:                           0.821   Prob(JB):                     2.92e-12\n",
      "Kurtosis:                       3.929   Cond. No.                         400.\n",
      "==============================================================================\n",
      "\n",
      "Notes:\n",
      "[1] Standard Errors assume that the covariance matrix of the errors is correctly specified.\n"
     ]
    }
   ],
   "source": [
    "model_dist_temp = sm.OLS.from_formula('avg_pace_int ~ distance + temp', data = activities_reg).fit()\n",
    "print(model_dist_temp.summary())"
   ]
  },
  {
   "cell_type": "code",
   "execution_count": 41,
   "id": "ed29b090",
   "metadata": {},
   "outputs": [
    {
     "name": "stdout",
     "output_type": "stream",
     "text": [
      "                            OLS Regression Results                            \n",
      "==============================================================================\n",
      "Dep. Variable:           avg_pace_int   R-squared:                       0.019\n",
      "Model:                            OLS   Adj. R-squared:                  0.013\n",
      "Method:                 Least Squares   F-statistic:                     3.408\n",
      "Date:                Fri, 07 Oct 2022   Prob (F-statistic):             0.0342\n",
      "Time:                        19:34:06   Log-Likelihood:                -204.14\n",
      "No. Observations:                 358   AIC:                             414.3\n",
      "Df Residuals:                     355   BIC:                             425.9\n",
      "Df Model:                           2                                         \n",
      "Covariance Type:            nonrobust                                         \n",
      "==============================================================================\n",
      "                 coef    std err          t      P>|t|      [0.025      0.975]\n",
      "------------------------------------------------------------------------------\n",
      "Intercept      8.9109      0.102     87.020      0.000       8.709       9.112\n",
      "distance      -0.0405      0.022     -1.860      0.064      -0.083       0.002\n",
      "elev_diff      0.0021      0.001      2.490      0.013       0.000       0.004\n",
      "==============================================================================\n",
      "Omnibus:                       35.140   Durbin-Watson:                   1.153\n",
      "Prob(Omnibus):                  0.000   Jarque-Bera (JB):               42.752\n",
      "Skew:                           0.789   Prob(JB):                     5.21e-10\n",
      "Kurtosis:                       3.613   Cond. No.                         566.\n",
      "==============================================================================\n",
      "\n",
      "Notes:\n",
      "[1] Standard Errors assume that the covariance matrix of the errors is correctly specified.\n"
     ]
    }
   ],
   "source": [
    "model_dist_elev = sm.OLS.from_formula('avg_pace_int ~ distance + elev_diff', data = activities_reg).fit()\n",
    "print(model_dist_elev.summary())"
   ]
  },
  {
   "cell_type": "code",
   "execution_count": 42,
   "id": "7b9b9597",
   "metadata": {},
   "outputs": [
    {
     "name": "stdout",
     "output_type": "stream",
     "text": [
      "                            OLS Regression Results                            \n",
      "==============================================================================\n",
      "Dep. Variable:           avg_pace_int   R-squared:                       0.373\n",
      "Model:                            OLS   Adj. R-squared:                  0.368\n",
      "Method:                 Least Squares   F-statistic:                     70.29\n",
      "Date:                Fri, 07 Oct 2022   Prob (F-statistic):           1.10e-35\n",
      "Time:                        19:34:06   Log-Likelihood:                -123.90\n",
      "No. Observations:                 358   AIC:                             255.8\n",
      "Df Residuals:                     354   BIC:                             271.3\n",
      "Df Model:                           3                                         \n",
      "Covariance Type:            nonrobust                                         \n",
      "=====================================================================================\n",
      "                        coef    std err          t      P>|t|      [0.025      0.975]\n",
      "-------------------------------------------------------------------------------------\n",
      "Intercept             9.2789      0.262     35.447      0.000       8.764       9.794\n",
      "temp                 -0.0376      0.008     -4.629      0.000      -0.054      -0.022\n",
      "np.power(temp, 2)     0.0004   6.23e-05      6.420      0.000       0.000       0.001\n",
      "elev_diff             0.0025      0.001      4.210      0.000       0.001       0.004\n",
      "==============================================================================\n",
      "Omnibus:                       48.136   Durbin-Watson:                   1.355\n",
      "Prob(Omnibus):                  0.000   Jarque-Bera (JB):               71.191\n",
      "Skew:                           0.864   Prob(JB):                     3.48e-16\n",
      "Kurtosis:                       4.337   Cond. No.                     7.82e+04\n",
      "==============================================================================\n",
      "\n",
      "Notes:\n",
      "[1] Standard Errors assume that the covariance matrix of the errors is correctly specified.\n",
      "[2] The condition number is large, 7.82e+04. This might indicate that there are\n",
      "strong multicollinearity or other numerical problems.\n"
     ]
    }
   ],
   "source": [
    "# Linear regression model for summer months\n",
    "model_temp_elev = sm.OLS.from_formula('avg_pace_int ~ temp + np.power(temp, 2) + elev_diff', data = activities_reg).fit()\n",
    "print(model_temp_elev.summary())"
   ]
  },
  {
   "cell_type": "markdown",
   "id": "b418fa5d",
   "metadata": {},
   "source": [
    "The R-squared value is low, but it is the highest I achieved with my trials. The p-value is lower than 0.05, indicating that the selected predictors do influence my average mile pace. This model also has the highest log-liklihood of all the ones I tested, along with the lowest AIC and BIC. I tested more than I left in this document, but I left a representative sample of examples."
   ]
  },
  {
   "cell_type": "code",
   "execution_count": 43,
   "id": "c0555e2a",
   "metadata": {},
   "outputs": [
    {
     "data": {
      "text/plain": [
       "<Figure size 1080x1080 with 0 Axes>"
      ]
     },
     "metadata": {},
     "output_type": "display_data"
    },
    {
     "data": {
      "image/png": "[encoded data removed]",
      "text/plain": [
       "<Figure size 415.125x360 with 1 Axes>"
      ]
     },
     "metadata": {
      "needs_background": "light"
     },
     "output_type": "display_data"
    },
    {
     "data": {
      "text/plain": [
       "<Figure size 432x288 with 0 Axes>"
      ]
     },
     "metadata": {},
     "output_type": "display_data"
    }
   ],
   "source": [
    "# Add regression lines for sample distances to lmplot\n",
    "plt.figure(figsize = (15, 15))\n",
    "\n",
    "x = np.linspace(20, 100, 100)\n",
    "y = model_temp_elev.params[0] + model_temp_elev.params[1]*x + model_temp_elev.params[2]*np.power(x, 2) + model_temp_elev.params[3]*x\n",
    "\n",
    "sns.lmplot(x = 'temp', y = 'avg_pace_int', hue = 'elev_diff', fit_reg = False, data = activities_reg)\n",
    "plt.title('Linear Regression Model Plot of Running Data')\n",
    "plt.plot(x, y, linestyle = 'dashed')\n",
    "plt.show()\n",
    "plt.clf()"
   ]
  },
  {
   "cell_type": "code",
   "execution_count": 44,
   "id": "2129c064",
   "metadata": {},
   "outputs": [],
   "source": [
    "# Calculate fitted values and residuals\n",
    "fitted_values = model_temp_elev.predict(activities_reg)\n",
    "residuals = activities_reg.avg_pace_int - fitted_values"
   ]
  },
  {
   "cell_type": "code",
   "execution_count": 45,
   "id": "27ad7f16",
   "metadata": {},
   "outputs": [
    {
     "data": {
      "image/png": "[encoded data removed]",
      "text/plain": [
       "<Figure size 432x288 with 1 Axes>"
      ]
     },
     "metadata": {
      "needs_background": "light"
     },
     "output_type": "display_data"
    },
    {
     "data": {
      "text/plain": [
       "<Figure size 432x288 with 0 Axes>"
      ]
     },
     "metadata": {},
     "output_type": "display_data"
    }
   ],
   "source": [
    "# Check normality assumption\n",
    "plt.hist(residuals)\n",
    "plt.title('Distribution of Residuals from Model')\n",
    "plt.show()\n",
    "plt.clf()"
   ]
  },
  {
   "cell_type": "markdown",
   "id": "fd0c1217",
   "metadata": {},
   "source": [
    "The residuals are slightly right-skewed"
   ]
  },
  {
   "cell_type": "code",
   "execution_count": 46,
   "id": "73e7cfe1",
   "metadata": {
    "scrolled": true
   },
   "outputs": [
    {
     "data": {
      "image/png": "[encoded data removed]",
      "text/plain": [
       "<Figure size 432x288 with 1 Axes>"
      ]
     },
     "metadata": {
      "needs_background": "light"
     },
     "output_type": "display_data"
    },
    {
     "data": {
      "text/plain": [
       "<Figure size 432x288 with 0 Axes>"
      ]
     },
     "metadata": {},
     "output_type": "display_data"
    }
   ],
   "source": [
    "# Check homoscedasticity assumption\n",
    "plt.scatter(fitted_values, residuals)\n",
    "plt.axhline(y=0, color='black', linestyle='-')\n",
    "plt.title('Model Residuals vs. Fitted Values')\n",
    "plt.show()\n",
    "plt.clf()"
   ]
  },
  {
   "cell_type": "markdown",
   "id": "d228dcc4",
   "metadata": {},
   "source": [
    "There is a relatively even distribution of residuals vs fitted values, indicating homoscedasticity."
   ]
  },
  {
   "cell_type": "code",
   "execution_count": 53,
   "id": "ed509d6a",
   "metadata": {},
   "outputs": [],
   "source": [
    "# Try model with train and test data\n",
    "\n",
    "from sklearn.model_selection import train_test_split\n",
    "\n",
    "X = activities_reg[['temp', 'elev_diff']]\n",
    "y = activities_reg['avg_pace_int']\n",
    "\n",
    "# Split data into train and test sets\n",
    "X_train, X_test, y_train, y_test = train_test_split(X, y, test_size = 0.25)"
   ]
  },
  {
   "cell_type": "code",
   "execution_count": 60,
   "id": "20e3a24e",
   "metadata": {},
   "outputs": [
    {
     "data": {
      "text/plain": [
       "0.3304731133013656"
      ]
     },
     "execution_count": 60,
     "metadata": {},
     "output_type": "execute_result"
    }
   ],
   "source": [
    "from sklearn.linear_model import LinearRegression\n",
    "\n",
    "# Define and fit model\n",
    "model_train_test = LinearRegression()\n",
    "model_train_test.fit(X_train, y_train)\n",
    "\n",
    "# Predict values for test data\n",
    "fitted_values_train_test = model_train_test.predict(X_test)\n",
    "\n",
    "# Calculate PRMSE\n",
    "true = y_test\n",
    "prmse = np.mean((true - fitted_values_train_test)**2)**.5\n",
    "prmse"
   ]
  },
  {
   "cell_type": "code",
   "execution_count": 76,
   "id": "a1487d6d",
   "metadata": {},
   "outputs": [
    {
     "data": {
      "text/plain": [
       "0.24954452007863281"
      ]
     },
     "execution_count": 76,
     "metadata": {},
     "output_type": "execute_result"
    }
   ],
   "source": [
    "model_train_test.score(X_test, y_test)"
   ]
  },
  {
   "cell_type": "code",
   "execution_count": 65,
   "id": "f7fdf151",
   "metadata": {},
   "outputs": [
    {
     "data": {
      "image/png": "[encoded data removed]",
      "text/plain": [
       "<Figure size 432x288 with 1 Axes>"
      ]
     },
     "metadata": {
      "needs_background": "light"
     },
     "output_type": "display_data"
    },
    {
     "data": {
      "text/plain": [
       "<Figure size 432x288 with 0 Axes>"
      ]
     },
     "metadata": {},
     "output_type": "display_data"
    }
   ],
   "source": [
    "# Calculate residuals\n",
    "residuals2 = y_test - fitted_values_train_test\n",
    "\n",
    "# Plot distribution of residuals\n",
    "plt.hist(residuals2)\n",
    "plt.title('Distribution of Residuals from Train/Test Model')\n",
    "plt.show()\n",
    "plt.clf()"
   ]
  },
  {
   "cell_type": "code",
   "execution_count": 67,
   "id": "3e1981c5",
   "metadata": {},
   "outputs": [
    {
     "data": {
      "image/png": "[encoded data removed]",
      "text/plain": [
       "<Figure size 432x288 with 1 Axes>"
      ]
     },
     "metadata": {
      "needs_background": "light"
     },
     "output_type": "display_data"
    },
    {
     "data": {
      "text/plain": [
       "<Figure size 432x288 with 0 Axes>"
      ]
     },
     "metadata": {},
     "output_type": "display_data"
    }
   ],
   "source": [
    "# Check homoscetasticity\n",
    "plt.scatter(fitted_values_train_test, residuals2)\n",
    "plt.axhline(y = 0, linestyle = '-')\n",
    "plt.title('Train/Test Model Residuals vs. Fitted Values')\n",
    "plt.show()\n",
    "plt.clf()"
   ]
  },
  {
   "cell_type": "markdown",
   "id": "f3f44e08",
   "metadata": {},
   "source": [
    "Though this model has a low PRMSE, it also has a very low score (0.25), so it is not very accurate."
   ]
  },
  {
   "cell_type": "markdown",
   "id": "ae035edf",
   "metadata": {},
   "source": [
    "# Conclusions"
   ]
  },
  {
   "cell_type": "markdown",
   "id": "b567f410",
   "metadata": {},
   "source": [
    "## Goal 1:"
   ]
  },
  {
   "cell_type": "markdown",
   "id": "f4ff3f0d",
   "metadata": {},
   "source": [
    "There is not enough evidence to reject the null hypothesis. The p-value of the two-sample t-test between data from before and after March 20, 2022 is 0.98, much higher than the significance threshold of 0.05, indicating that there is not a significant difference between the two data sets.\n",
    "\n",
    "The one-way ANOVA showed that the data from at least one year was significantly different than the others, but that year was 2021, not 2022. This is further illustrated by the side-by-side boxplots of the data.\n",
    "\n",
    "My average mile pace for regular 3-4 mile runs has remained roughly consistent over the past 6 years."
   ]
  },
  {
   "cell_type": "markdown",
   "id": "5ba4f653",
   "metadata": {},
   "source": [
    "## Goal 2:"
   ]
  },
  {
   "cell_type": "markdown",
   "id": "44d88b5b",
   "metadata": {},
   "source": [
    "The best model I was able to make used the temperature, the square of the temperature, and the total elevation change to predict my average mile pace. Surprisingly, the distance of the run did not have a large impact on the average mile pace. This could be because I am more likely to run longer distances when I am training for a race, and therefore in better shape.\n",
    "\n",
    "I am not very satisfied with this model, since the R-squared value is only 0.373, meaning that only 37.3% of the variation in pace can be explained by these predictors. I would like to revisit this data after I learn more about machine learning and make a new model."
   ]
  },
  {
   "cell_type": "markdown",
   "id": "be5445d8",
   "metadata": {},
   "source": [
    "## Other Observations"
   ]
  },
  {
   "cell_type": "markdown",
   "id": "69adcccd",
   "metadata": {},
   "source": [
    "The distribution of my mile paces is normal, but slightly right-skewed (skewed towards slower times).\n",
    "\n",
    "My total run distance by year (Jan-Sept) was pretty consistent for 2017-2019, then dropped to a lower, but still consistent level for 2020-2022. This makes sense, because I was using training schedules in 2017-2019, which leads me to run farther. This is also demonstrated in the heatmap of miles per month, where I ran more miles in the summers of those years than any other times in this dataset.\n",
    "\n",
    "I typically run fastest in the temperature range of 45-65 degrees."
   ]
  }
 ],
 "metadata": {
  "kernelspec": {
   "display_name": "Python 3 (ipykernel)",
   "language": "python",
   "name": "python3"
  },
  "language_info": {
   "codemirror_mode": {
    "name": "ipython",
    "version": 3
   },
   "file_extension": ".py",
   "mimetype": "text/x-python",
   "name": "python",
   "nbconvert_exporter": "python",
   "pygments_lexer": "ipython3",
   "version": "3.9.12"
  }
 },
 "nbformat": 4,
 "nbformat_minor": 5
}

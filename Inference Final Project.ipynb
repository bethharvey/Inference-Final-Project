{
 "cells": [
  {
   "cell_type": "markdown",
   "id": "5fcc6107",
   "metadata": {},
   "source": [
    "# Scope"
   ]
  },
  {
   "cell_type": "markdown",
   "id": "6f2c75c6",
   "metadata": {},
   "source": [
    "Use regression discontinuity design (RDD) to determine if there is a significant change in my average running pace since March 20, 2022. The data will be imported from my Garmin account, which I use to track my runs. The results may help me determine the reason for my chronic fatigue since that time."
   ]
  },
  {
   "cell_type": "code",
   "execution_count": 1,
   "id": "60d79336",
   "metadata": {},
   "outputs": [],
   "source": [
    "# Import data\n",
    "\n",
    "activity_data <- read.csv('Activities.csv')"
   ]
  },
  {
   "cell_type": "code",
   "execution_count": null,
   "id": "0ef99be1",
   "metadata": {},
   "outputs": [],
   "source": []
  }
 ],
 "metadata": {
  "kernelspec": {
   "display_name": "R",
   "language": "R",
   "name": "ir"
  },
  "language_info": {
   "codemirror_mode": "r",
   "file_extension": ".r",
   "mimetype": "text/x-r-source",
   "name": "R",
   "pygments_lexer": "r",
   "version": "3.6.1"
  }
 },
 "nbformat": 4,
 "nbformat_minor": 5
}
